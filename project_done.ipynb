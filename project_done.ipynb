{
 "cells": [
  {
   "cell_type": "markdown",
   "id": "db9910b7",
   "metadata": {},
   "source": [
    "**M. Teguh Wicaksono**\n",
    "\n",
    "**2110031802042**\n",
    "\n",
    "**Tugas Matkul: Data Science**"
   ]
  },
  {
   "cell_type": "markdown",
   "id": "78492987",
   "metadata": {},
   "source": [
    "# Prediksi Customer `Churn` Telekomunikasi\n",
    "\n",
    "\n"
   ]
  },
  {
   "cell_type": "markdown",
   "id": "29d05a23",
   "metadata": {},
   "source": [
    "# Pendahuluan\n",
    "\n",
    "Telekomunikasi sudah menjadi bagian pokok bagi kehidupan baik untuk komunikasi, memperoleh informasi, bekerja, bahkan untuk sarana hiburan. Hal demikian membuat perusahaan telekomunikasi bersaing ketat untuk mendapatkan pelanggan. Pelanggan sangat penting bagi perusahaan karena pelangganlah yang menggunakan jasa atau produk yang dihasilkan oleh perusahaan sehingga tanpa adanya pelanggan, maka perusahaan tidak akan mendapatkan keuntungan.\n",
    "\n",
    "*Customer Churn* didefinisikan sebagai kecenderungan pelanggan untuk berhenti menggunakan layanan atau jasa dengan sebuah perusahaan. Hal ini telah menjadi isu penting yang merupakan salah satu tantangan utama oleh banyak perusahaan di era global ini dan harus dihadapi. \n",
    "\n",
    "Karena untuk memperoleh pelanggan baru perusahaan harus mengadakan kampanye dan biaya yang dibutuhkan bisa dibilang cukup besar, maka project ini dilakukan untuk dapat mengidentifikasi apakah pelanggan baru tersebut akan `churn` atau tidak. Kemudian dalam melakukan kampanye, perusahaan mungkin bisa menawarkan solusi baru untuk meminimalkan tingkat `churn` pelanggannya.\n",
    "\n",
    "\n",
    "**Layanan Interconnect**\n",
    "\n",
    "Interconnect terutama menyediakan dua jenis layanan:\n",
    "\n",
    "1. Landline network: Telepon dapat dihubungkan ke beberapa saluran secara bersamaan.\n",
    "2. Internet: Jaringan dapat disetel melalui saluran telepon (DSL, digital subscriber line) atau melalui kabel serat optik.\n",
    "\n",
    "Beberapa layanan lain yang disediakan perusahaan termasuk:\n",
    "\n",
    "1. Internet security: perangkat lunak antivirus (DeviceProtection) dan pemblokir situs web berbahaya (OnlineSecurity)\n",
    "2. Layanan dukungan teknis khusus (TechSupport)\n",
    "3. Penyimpanan file awan dan cadangan data (OnlineBackup)\n",
    "4. Streaming TV (StreamingTV) dan direktori film (StreamingMovies)\n",
    "\n",
    "Klien dapat memilih pembayaran bulanan atau menandatangani kontrak 1 atau 2 tahun. Mereka dapat menggunakan berbagai metode pembayaran dan menerima faktur elektronik setelah transaksi.\n",
    "\n",
    "**Deskripsi Dataset**\n",
    "\n",
    "Data terdiri dari file yang diperoleh dari berbagai sumber:\n",
    "\n",
    "- `contract.csv` — informasi kontrak\n",
    "- `personal.csv` — data pribadi klien\n",
    "- `internet.csv` — informasi tentang layanan internet\n",
    "- `phone.csv` — informasi tentang layanan telepon\n",
    "\n",
    "Di setiap file, kolom customerID berisi kode unik yang ditetapkan untuk setiap klien.\n",
    "\n",
    "Setelah dataset digabungkan, maka informasi yang diberikat oleh dataset adalah sebagai berikut:\n",
    "\n",
    "| Attribute | Type Data | Description |\n",
    "| ---- | ---- | ---- |\n",
    "customer_id        | object  | Nomor ID pelanggan |\n",
    "type               | object  | Jangka waktu kontrak pelanggan (Month-to-month, One Year, Two Year) |\n",
    "paperless_billing  | object  | Apakah pelanggan memiliki tagihan elektronik atau tidak |\n",
    "payment_method     | object  | Metode pembayaran pelanggan (Electronic check, Mailed check, Bank transfer (automatic), Credit card (automatic)) |\n",
    "monthly_charges    | float64 | Jumlah yang dibebankan kepada pelanggan setiap bulan |\n",
    "total_charges      | float64 | Jumlah total beban pembayaran yang telah dibayar pelanggan | \n",
    "gender             | object  | Jenis kelamin nasabah (Female/Male) |\n",
    "senior_citizen     | int64   | Informasi tentang apakah pelanggan sudah berusia lanjut atau tidak |\n",
    "partner            | object  | Informasi tentang apakah pelanggan memiliki pasangan atau tidak |\n",
    "dependents         | object  | Informasi tentang apakah pelanggan mempunyai tanggungan atau tidak |\n",
    "internet_service   | object  | Informasi tentang apakah pelanggan menggunakan layanan internet |\n",
    "online_security    | object  | Informasi tentang apakah pelanggan menggunakan layanan keamanan online dari penyedia layanan |\n",
    "online_backup      | object  | Informasi tentang apakah pelanggan menggunakan layanan online backup dari penyedia layanan |\n",
    "device_protection  | object  | Informasi tentang apakah pelanggan menggunakan layanan device protection dari penyedia layanan |\n",
    "tech_support       | object  | Informasi tentang apakah pelanggan memiliki layanan dukungan teknis (tech support) |\n",
    "streaming_tv       | object  | Informasi tentang apakah pelanggan menggunakan layanan streaming tv |\n",
    "streaming_movies   | object  | Informasi tentang apakah pelanggan menggunakan layanan streaming movie |\n",
    "multiple_lines     | object  | Informasi tentang apakah pelanggan memiliki satu atau lebih dari satu saluran telepon dari penyedia layanan |\n",
    "churn              | int64   | Merujuk pada informasi apakah pelanggan berhenti menggunakan layanan atau tidak (Target) |"
   ]
  },
  {
   "cell_type": "markdown",
   "id": "3b98bb0b",
   "metadata": {},
   "source": [
    "## Project Goals\n",
    "\n",
    "Tujuan dari proyek ini adalah:\n",
    "\n",
    "1. Membangun model machine learning untuk meramalkan churn / berhenti berhenti berlangganan klien Interconnect telekomunikasi.\n",
    "2. Menerapkan analisis data eksploratif (EDA) untuk menemukan masalah yang sering menyebabkan `churn` dan bisa memberikan sebuah solusi baru untuk meminimalisir tingkat `churn` pelanggannya.\n",
    "3. Menguji hipotesis apakah terdapat perbedaan jumlah layanan yang digunakan antara pelanggan yang `churn` dan `tidak`.\n",
    "3. Menganalisis kecepatan dan kualitas prediksi, waktu yang dibutuhkan untuk pelatihan, dll."
   ]
  },
  {
   "cell_type": "markdown",
   "id": "da0093ce",
   "metadata": {},
   "source": [
    "# Import Library"
   ]
  },
  {
   "cell_type": "code",
   "execution_count": 1,
   "id": "9f9ca2c8",
   "metadata": {},
   "outputs": [],
   "source": [
    "# data wrangling dan visualisasi\n",
    "import pandas as pd\n",
    "import matplotlib.pyplot as plt\n",
    "import seaborn as sns\n",
    "import numpy as np\n",
    "from functools import reduce\n",
    "import re\n",
    "from scipy import stats as st\n",
    "from scipy.stats import uniform, randint\n",
    "import time\n",
    "# modeling \n",
    "from sklearn.pipeline import Pipeline\n",
    "from sklearn.preprocessing import OneHotEncoder, MinMaxScaler, OrdinalEncoder\n",
    "from sklearn.model_selection import KFold, cross_val_score, train_test_split, RandomizedSearchCV\n",
    "from sklearn.compose import ColumnTransformer\n",
    "from sklearn.ensemble import RandomForestClassifier\n",
    "from sklearn.tree import DecisionTreeClassifier\n",
    "from sklearn.neighbors import KNeighborsClassifier\n",
    "from sklearn.svm import SVC\n",
    "from lightgbm import LGBMClassifier\n",
    "from sklearn.metrics import f1_score, roc_auc_score, accuracy_score, make_scorer\n",
    "import optuna\n",
    "# resample technique\n",
    "from imblearn.over_sampling import SMOTE\n",
    "from imblearn.under_sampling import RandomUnderSampler\n",
    "# ignore warning\n",
    "import warnings\n",
    "warnings.filterwarnings(\"ignore\", \"is_categorical_dtype\")\n",
    "warnings.filterwarnings(\"ignore\", \"use_inf_as_na\")\n",
    "warnings.filterwarnings(\"ignore\", category=FutureWarning)"
   ]
  },
  {
   "cell_type": "markdown",
   "id": "a038de4e",
   "metadata": {},
   "source": [
    "# Memuat dan Pemahaman Data"
   ]
  },
  {
   "cell_type": "code",
   "execution_count": 2,
   "id": "0f07883a",
   "metadata": {},
   "outputs": [],
   "source": [
    "# memuat seluruh dataset\n",
    "df_contract = pd.read_csv('datasets/contract.csv')\n",
    "df_person = pd.read_csv('datasets/personal.csv')\n",
    "df_internet = pd.read_csv('datasets/internet.csv')\n",
    "df_phone = pd.read_csv('datasets/phone.csv')"
   ]
  },
  {
   "cell_type": "markdown",
   "id": "a3c4b4a2",
   "metadata": {},
   "source": [
    "**Fungsi - fungsi yang akan digunakan pada tahap ini**\n"
   ]
  },
  {
   "cell_type": "code",
   "execution_count": 3,
   "id": "d4cc40e6",
   "metadata": {},
   "outputs": [],
   "source": [
    "def missing_report(data):\n",
    "    report = data.isna().sum().to_frame(name='count')\n",
    "    report['percent_total'] = (report['count'] / len(data) * 100).round(2).astype('str')+'%'\n",
    "    return report"
   ]
  },
  {
   "cell_type": "markdown",
   "id": "fdb9d6e3",
   "metadata": {},
   "source": [
    "## Dataset `contract.csv`"
   ]
  },
  {
   "cell_type": "code",
   "execution_count": 4,
   "id": "08730024",
   "metadata": {},
   "outputs": [
    {
     "data": {
      "text/plain": [
       "(7043, 8)"
      ]
     },
     "execution_count": 4,
     "metadata": {},
     "output_type": "execute_result"
    }
   ],
   "source": [
    "# ukuran dataset\n",
    "df_contract.shape"
   ]
  },
  {
   "cell_type": "code",
   "execution_count": 5,
   "id": "8f41b437",
   "metadata": {},
   "outputs": [
    {
     "name": "stdout",
     "output_type": "stream",
     "text": [
      "<class 'pandas.core.frame.DataFrame'>\n",
      "RangeIndex: 7043 entries, 0 to 7042\n",
      "Data columns (total 8 columns):\n",
      " #   Column            Non-Null Count  Dtype  \n",
      "---  ------            --------------  -----  \n",
      " 0   customerID        7043 non-null   object \n",
      " 1   BeginDate         7043 non-null   object \n",
      " 2   EndDate           7043 non-null   object \n",
      " 3   Type              7043 non-null   object \n",
      " 4   PaperlessBilling  7043 non-null   object \n",
      " 5   PaymentMethod     7043 non-null   object \n",
      " 6   MonthlyCharges    7043 non-null   float64\n",
      " 7   TotalCharges      7043 non-null   object \n",
      "dtypes: float64(1), object(7)\n",
      "memory usage: 440.3+ KB\n"
     ]
    }
   ],
   "source": [
    "# menampilkan informasi umum\n",
    "df_contract.info()"
   ]
  },
  {
   "cell_type": "markdown",
   "id": "e7c17632",
   "metadata": {},
   "source": [
    "Dataset ini memiliki beberapa kolom tipe data yang perlu diubah kedalam bentuk yang seharusnya dan mengubah nama kolom menjadi huruf kecil dan menggunakan pemisah supaya nama kolom lebih terlihat rapih."
   ]
  },
  {
   "cell_type": "code",
   "execution_count": 6,
   "id": "6f5d6492",
   "metadata": {},
   "outputs": [
    {
     "data": {
      "text/html": [
       "<div>\n",
       "<style scoped>\n",
       "    .dataframe tbody tr th:only-of-type {\n",
       "        vertical-align: middle;\n",
       "    }\n",
       "\n",
       "    .dataframe tbody tr th {\n",
       "        vertical-align: top;\n",
       "    }\n",
       "\n",
       "    .dataframe thead th {\n",
       "        text-align: right;\n",
       "    }\n",
       "</style>\n",
       "<table border=\"1\" class=\"dataframe\">\n",
       "  <thead>\n",
       "    <tr style=\"text-align: right;\">\n",
       "      <th></th>\n",
       "      <th>customerID</th>\n",
       "      <th>BeginDate</th>\n",
       "      <th>EndDate</th>\n",
       "      <th>Type</th>\n",
       "      <th>PaperlessBilling</th>\n",
       "      <th>PaymentMethod</th>\n",
       "      <th>MonthlyCharges</th>\n",
       "      <th>TotalCharges</th>\n",
       "    </tr>\n",
       "  </thead>\n",
       "  <tbody>\n",
       "    <tr>\n",
       "      <th>0</th>\n",
       "      <td>7590-VHVEG</td>\n",
       "      <td>2020-01-01</td>\n",
       "      <td>No</td>\n",
       "      <td>Month-to-month</td>\n",
       "      <td>Yes</td>\n",
       "      <td>Electronic check</td>\n",
       "      <td>29.85</td>\n",
       "      <td>29.85</td>\n",
       "    </tr>\n",
       "    <tr>\n",
       "      <th>1</th>\n",
       "      <td>5575-GNVDE</td>\n",
       "      <td>2017-04-01</td>\n",
       "      <td>No</td>\n",
       "      <td>One year</td>\n",
       "      <td>No</td>\n",
       "      <td>Mailed check</td>\n",
       "      <td>56.95</td>\n",
       "      <td>1889.5</td>\n",
       "    </tr>\n",
       "    <tr>\n",
       "      <th>2</th>\n",
       "      <td>3668-QPYBK</td>\n",
       "      <td>2019-10-01</td>\n",
       "      <td>2019-12-01 00:00:00</td>\n",
       "      <td>Month-to-month</td>\n",
       "      <td>Yes</td>\n",
       "      <td>Mailed check</td>\n",
       "      <td>53.85</td>\n",
       "      <td>108.15</td>\n",
       "    </tr>\n",
       "    <tr>\n",
       "      <th>3</th>\n",
       "      <td>7795-CFOCW</td>\n",
       "      <td>2016-05-01</td>\n",
       "      <td>No</td>\n",
       "      <td>One year</td>\n",
       "      <td>No</td>\n",
       "      <td>Bank transfer (automatic)</td>\n",
       "      <td>42.30</td>\n",
       "      <td>1840.75</td>\n",
       "    </tr>\n",
       "    <tr>\n",
       "      <th>4</th>\n",
       "      <td>9237-HQITU</td>\n",
       "      <td>2019-09-01</td>\n",
       "      <td>2019-11-01 00:00:00</td>\n",
       "      <td>Month-to-month</td>\n",
       "      <td>Yes</td>\n",
       "      <td>Electronic check</td>\n",
       "      <td>70.70</td>\n",
       "      <td>151.65</td>\n",
       "    </tr>\n",
       "  </tbody>\n",
       "</table>\n",
       "</div>"
      ],
      "text/plain": [
       "   customerID   BeginDate              EndDate            Type  \\\n",
       "0  7590-VHVEG  2020-01-01                   No  Month-to-month   \n",
       "1  5575-GNVDE  2017-04-01                   No        One year   \n",
       "2  3668-QPYBK  2019-10-01  2019-12-01 00:00:00  Month-to-month   \n",
       "3  7795-CFOCW  2016-05-01                   No        One year   \n",
       "4  9237-HQITU  2019-09-01  2019-11-01 00:00:00  Month-to-month   \n",
       "\n",
       "  PaperlessBilling              PaymentMethod  MonthlyCharges TotalCharges  \n",
       "0              Yes           Electronic check           29.85        29.85  \n",
       "1               No               Mailed check           56.95       1889.5  \n",
       "2              Yes               Mailed check           53.85       108.15  \n",
       "3               No  Bank transfer (automatic)           42.30      1840.75  \n",
       "4              Yes           Electronic check           70.70       151.65  "
      ]
     },
     "execution_count": 6,
     "metadata": {},
     "output_type": "execute_result"
    }
   ],
   "source": [
    "# menampilkan 5 data pertama\n",
    "df_contract.head()"
   ]
  },
  {
   "cell_type": "markdown",
   "id": "1e0e79ad",
   "metadata": {},
   "source": [
    "Kita memiliki kolom `customerID` sebagai penanda untuk setiap pelanggan, kita bisa menggunakan kolom ini untuk memeriksa apakah terdapat data yang duplikat atau tidak."
   ]
  },
  {
   "cell_type": "code",
   "execution_count": 7,
   "id": "09046564",
   "metadata": {},
   "outputs": [
    {
     "data": {
      "text/plain": [
       "0"
      ]
     },
     "execution_count": 7,
     "metadata": {},
     "output_type": "execute_result"
    }
   ],
   "source": [
    "# memeriksa duplikat\n",
    "df_contract.duplicated(subset='customerID').sum()"
   ]
  },
  {
   "cell_type": "code",
   "execution_count": 8,
   "id": "07688b5e",
   "metadata": {},
   "outputs": [
    {
     "data": {
      "text/html": [
       "<div>\n",
       "<style scoped>\n",
       "    .dataframe tbody tr th:only-of-type {\n",
       "        vertical-align: middle;\n",
       "    }\n",
       "\n",
       "    .dataframe tbody tr th {\n",
       "        vertical-align: top;\n",
       "    }\n",
       "\n",
       "    .dataframe thead th {\n",
       "        text-align: right;\n",
       "    }\n",
       "</style>\n",
       "<table border=\"1\" class=\"dataframe\">\n",
       "  <thead>\n",
       "    <tr style=\"text-align: right;\">\n",
       "      <th></th>\n",
       "      <th>count</th>\n",
       "      <th>percent_total</th>\n",
       "    </tr>\n",
       "  </thead>\n",
       "  <tbody>\n",
       "    <tr>\n",
       "      <th>customerID</th>\n",
       "      <td>0</td>\n",
       "      <td>0.0%</td>\n",
       "    </tr>\n",
       "    <tr>\n",
       "      <th>BeginDate</th>\n",
       "      <td>0</td>\n",
       "      <td>0.0%</td>\n",
       "    </tr>\n",
       "    <tr>\n",
       "      <th>EndDate</th>\n",
       "      <td>0</td>\n",
       "      <td>0.0%</td>\n",
       "    </tr>\n",
       "    <tr>\n",
       "      <th>Type</th>\n",
       "      <td>0</td>\n",
       "      <td>0.0%</td>\n",
       "    </tr>\n",
       "    <tr>\n",
       "      <th>PaperlessBilling</th>\n",
       "      <td>0</td>\n",
       "      <td>0.0%</td>\n",
       "    </tr>\n",
       "    <tr>\n",
       "      <th>PaymentMethod</th>\n",
       "      <td>0</td>\n",
       "      <td>0.0%</td>\n",
       "    </tr>\n",
       "    <tr>\n",
       "      <th>MonthlyCharges</th>\n",
       "      <td>0</td>\n",
       "      <td>0.0%</td>\n",
       "    </tr>\n",
       "    <tr>\n",
       "      <th>TotalCharges</th>\n",
       "      <td>0</td>\n",
       "      <td>0.0%</td>\n",
       "    </tr>\n",
       "  </tbody>\n",
       "</table>\n",
       "</div>"
      ],
      "text/plain": [
       "                  count percent_total\n",
       "customerID            0          0.0%\n",
       "BeginDate             0          0.0%\n",
       "EndDate               0          0.0%\n",
       "Type                  0          0.0%\n",
       "PaperlessBilling      0          0.0%\n",
       "PaymentMethod         0          0.0%\n",
       "MonthlyCharges        0          0.0%\n",
       "TotalCharges          0          0.0%"
      ]
     },
     "execution_count": 8,
     "metadata": {},
     "output_type": "execute_result"
    }
   ],
   "source": [
    "# menghitung nilai yang hilang\n",
    "missing_report(df_contract)"
   ]
  },
  {
   "cell_type": "markdown",
   "id": "431dbb07",
   "metadata": {},
   "source": [
    "## Dataset `personal.csv`"
   ]
  },
  {
   "cell_type": "code",
   "execution_count": 9,
   "id": "1b409877",
   "metadata": {},
   "outputs": [
    {
     "data": {
      "text/plain": [
       "(7043, 5)"
      ]
     },
     "execution_count": 9,
     "metadata": {},
     "output_type": "execute_result"
    }
   ],
   "source": [
    "# ukuran dataset\n",
    "df_person.shape"
   ]
  },
  {
   "cell_type": "code",
   "execution_count": 10,
   "id": "0c073dad",
   "metadata": {},
   "outputs": [
    {
     "name": "stdout",
     "output_type": "stream",
     "text": [
      "<class 'pandas.core.frame.DataFrame'>\n",
      "RangeIndex: 7043 entries, 0 to 7042\n",
      "Data columns (total 5 columns):\n",
      " #   Column         Non-Null Count  Dtype \n",
      "---  ------         --------------  ----- \n",
      " 0   customerID     7043 non-null   object\n",
      " 1   gender         7043 non-null   object\n",
      " 2   SeniorCitizen  7043 non-null   int64 \n",
      " 3   Partner        7043 non-null   object\n",
      " 4   Dependents     7043 non-null   object\n",
      "dtypes: int64(1), object(4)\n",
      "memory usage: 275.2+ KB\n"
     ]
    }
   ],
   "source": [
    "# menampilkan informasi umum\n",
    "df_person.info()"
   ]
  },
  {
   "cell_type": "code",
   "execution_count": 11,
   "id": "339979dd",
   "metadata": {},
   "outputs": [
    {
     "data": {
      "text/html": [
       "<div>\n",
       "<style scoped>\n",
       "    .dataframe tbody tr th:only-of-type {\n",
       "        vertical-align: middle;\n",
       "    }\n",
       "\n",
       "    .dataframe tbody tr th {\n",
       "        vertical-align: top;\n",
       "    }\n",
       "\n",
       "    .dataframe thead th {\n",
       "        text-align: right;\n",
       "    }\n",
       "</style>\n",
       "<table border=\"1\" class=\"dataframe\">\n",
       "  <thead>\n",
       "    <tr style=\"text-align: right;\">\n",
       "      <th></th>\n",
       "      <th>customerID</th>\n",
       "      <th>gender</th>\n",
       "      <th>SeniorCitizen</th>\n",
       "      <th>Partner</th>\n",
       "      <th>Dependents</th>\n",
       "    </tr>\n",
       "  </thead>\n",
       "  <tbody>\n",
       "    <tr>\n",
       "      <th>0</th>\n",
       "      <td>7590-VHVEG</td>\n",
       "      <td>Female</td>\n",
       "      <td>0</td>\n",
       "      <td>Yes</td>\n",
       "      <td>No</td>\n",
       "    </tr>\n",
       "    <tr>\n",
       "      <th>1</th>\n",
       "      <td>5575-GNVDE</td>\n",
       "      <td>Male</td>\n",
       "      <td>0</td>\n",
       "      <td>No</td>\n",
       "      <td>No</td>\n",
       "    </tr>\n",
       "    <tr>\n",
       "      <th>2</th>\n",
       "      <td>3668-QPYBK</td>\n",
       "      <td>Male</td>\n",
       "      <td>0</td>\n",
       "      <td>No</td>\n",
       "      <td>No</td>\n",
       "    </tr>\n",
       "    <tr>\n",
       "      <th>3</th>\n",
       "      <td>7795-CFOCW</td>\n",
       "      <td>Male</td>\n",
       "      <td>0</td>\n",
       "      <td>No</td>\n",
       "      <td>No</td>\n",
       "    </tr>\n",
       "    <tr>\n",
       "      <th>4</th>\n",
       "      <td>9237-HQITU</td>\n",
       "      <td>Female</td>\n",
       "      <td>0</td>\n",
       "      <td>No</td>\n",
       "      <td>No</td>\n",
       "    </tr>\n",
       "  </tbody>\n",
       "</table>\n",
       "</div>"
      ],
      "text/plain": [
       "   customerID  gender  SeniorCitizen Partner Dependents\n",
       "0  7590-VHVEG  Female              0     Yes         No\n",
       "1  5575-GNVDE    Male              0      No         No\n",
       "2  3668-QPYBK    Male              0      No         No\n",
       "3  7795-CFOCW    Male              0      No         No\n",
       "4  9237-HQITU  Female              0      No         No"
      ]
     },
     "execution_count": 11,
     "metadata": {},
     "output_type": "execute_result"
    }
   ],
   "source": [
    "# menampilkan 5 data pertama\n",
    "df_person.head()"
   ]
  },
  {
   "cell_type": "code",
   "execution_count": 12,
   "id": "f9b8c69d",
   "metadata": {},
   "outputs": [
    {
     "data": {
      "text/plain": [
       "0"
      ]
     },
     "execution_count": 12,
     "metadata": {},
     "output_type": "execute_result"
    }
   ],
   "source": [
    "# memeriksa duplikat\n",
    "df_person.duplicated(subset='customerID').sum()"
   ]
  },
  {
   "cell_type": "code",
   "execution_count": 13,
   "id": "898b1807",
   "metadata": {},
   "outputs": [
    {
     "data": {
      "text/html": [
       "<div>\n",
       "<style scoped>\n",
       "    .dataframe tbody tr th:only-of-type {\n",
       "        vertical-align: middle;\n",
       "    }\n",
       "\n",
       "    .dataframe tbody tr th {\n",
       "        vertical-align: top;\n",
       "    }\n",
       "\n",
       "    .dataframe thead th {\n",
       "        text-align: right;\n",
       "    }\n",
       "</style>\n",
       "<table border=\"1\" class=\"dataframe\">\n",
       "  <thead>\n",
       "    <tr style=\"text-align: right;\">\n",
       "      <th></th>\n",
       "      <th>count</th>\n",
       "      <th>percent_total</th>\n",
       "    </tr>\n",
       "  </thead>\n",
       "  <tbody>\n",
       "    <tr>\n",
       "      <th>customerID</th>\n",
       "      <td>0</td>\n",
       "      <td>0.0%</td>\n",
       "    </tr>\n",
       "    <tr>\n",
       "      <th>gender</th>\n",
       "      <td>0</td>\n",
       "      <td>0.0%</td>\n",
       "    </tr>\n",
       "    <tr>\n",
       "      <th>SeniorCitizen</th>\n",
       "      <td>0</td>\n",
       "      <td>0.0%</td>\n",
       "    </tr>\n",
       "    <tr>\n",
       "      <th>Partner</th>\n",
       "      <td>0</td>\n",
       "      <td>0.0%</td>\n",
       "    </tr>\n",
       "    <tr>\n",
       "      <th>Dependents</th>\n",
       "      <td>0</td>\n",
       "      <td>0.0%</td>\n",
       "    </tr>\n",
       "  </tbody>\n",
       "</table>\n",
       "</div>"
      ],
      "text/plain": [
       "               count percent_total\n",
       "customerID         0          0.0%\n",
       "gender             0          0.0%\n",
       "SeniorCitizen      0          0.0%\n",
       "Partner            0          0.0%\n",
       "Dependents         0          0.0%"
      ]
     },
     "execution_count": 13,
     "metadata": {},
     "output_type": "execute_result"
    }
   ],
   "source": [
    "# menghitung nilai yang hilang\n",
    "missing_report(df_person)"
   ]
  },
  {
   "cell_type": "markdown",
   "id": "2461db4e",
   "metadata": {},
   "source": [
    "## Dataset `internet.csv`"
   ]
  },
  {
   "cell_type": "code",
   "execution_count": 14,
   "id": "cbcd2e03",
   "metadata": {},
   "outputs": [
    {
     "data": {
      "text/plain": [
       "(5517, 8)"
      ]
     },
     "execution_count": 14,
     "metadata": {},
     "output_type": "execute_result"
    }
   ],
   "source": [
    "# ukuran dataset\n",
    "df_internet.shape"
   ]
  },
  {
   "cell_type": "code",
   "execution_count": 15,
   "id": "b455ad43",
   "metadata": {},
   "outputs": [
    {
     "name": "stdout",
     "output_type": "stream",
     "text": [
      "<class 'pandas.core.frame.DataFrame'>\n",
      "RangeIndex: 5517 entries, 0 to 5516\n",
      "Data columns (total 8 columns):\n",
      " #   Column            Non-Null Count  Dtype \n",
      "---  ------            --------------  ----- \n",
      " 0   customerID        5517 non-null   object\n",
      " 1   InternetService   5517 non-null   object\n",
      " 2   OnlineSecurity    5517 non-null   object\n",
      " 3   OnlineBackup      5517 non-null   object\n",
      " 4   DeviceProtection  5517 non-null   object\n",
      " 5   TechSupport       5517 non-null   object\n",
      " 6   StreamingTV       5517 non-null   object\n",
      " 7   StreamingMovies   5517 non-null   object\n",
      "dtypes: object(8)\n",
      "memory usage: 344.9+ KB\n"
     ]
    }
   ],
   "source": [
    "# menampilkan informasi umum\n",
    "df_internet.info()"
   ]
  },
  {
   "cell_type": "code",
   "execution_count": 16,
   "id": "fc3dd30d",
   "metadata": {},
   "outputs": [
    {
     "data": {
      "text/html": [
       "<div>\n",
       "<style scoped>\n",
       "    .dataframe tbody tr th:only-of-type {\n",
       "        vertical-align: middle;\n",
       "    }\n",
       "\n",
       "    .dataframe tbody tr th {\n",
       "        vertical-align: top;\n",
       "    }\n",
       "\n",
       "    .dataframe thead th {\n",
       "        text-align: right;\n",
       "    }\n",
       "</style>\n",
       "<table border=\"1\" class=\"dataframe\">\n",
       "  <thead>\n",
       "    <tr style=\"text-align: right;\">\n",
       "      <th></th>\n",
       "      <th>customerID</th>\n",
       "      <th>InternetService</th>\n",
       "      <th>OnlineSecurity</th>\n",
       "      <th>OnlineBackup</th>\n",
       "      <th>DeviceProtection</th>\n",
       "      <th>TechSupport</th>\n",
       "      <th>StreamingTV</th>\n",
       "      <th>StreamingMovies</th>\n",
       "    </tr>\n",
       "  </thead>\n",
       "  <tbody>\n",
       "    <tr>\n",
       "      <th>0</th>\n",
       "      <td>7590-VHVEG</td>\n",
       "      <td>DSL</td>\n",
       "      <td>No</td>\n",
       "      <td>Yes</td>\n",
       "      <td>No</td>\n",
       "      <td>No</td>\n",
       "      <td>No</td>\n",
       "      <td>No</td>\n",
       "    </tr>\n",
       "    <tr>\n",
       "      <th>1</th>\n",
       "      <td>5575-GNVDE</td>\n",
       "      <td>DSL</td>\n",
       "      <td>Yes</td>\n",
       "      <td>No</td>\n",
       "      <td>Yes</td>\n",
       "      <td>No</td>\n",
       "      <td>No</td>\n",
       "      <td>No</td>\n",
       "    </tr>\n",
       "    <tr>\n",
       "      <th>2</th>\n",
       "      <td>3668-QPYBK</td>\n",
       "      <td>DSL</td>\n",
       "      <td>Yes</td>\n",
       "      <td>Yes</td>\n",
       "      <td>No</td>\n",
       "      <td>No</td>\n",
       "      <td>No</td>\n",
       "      <td>No</td>\n",
       "    </tr>\n",
       "    <tr>\n",
       "      <th>3</th>\n",
       "      <td>7795-CFOCW</td>\n",
       "      <td>DSL</td>\n",
       "      <td>Yes</td>\n",
       "      <td>No</td>\n",
       "      <td>Yes</td>\n",
       "      <td>Yes</td>\n",
       "      <td>No</td>\n",
       "      <td>No</td>\n",
       "    </tr>\n",
       "    <tr>\n",
       "      <th>4</th>\n",
       "      <td>9237-HQITU</td>\n",
       "      <td>Fiber optic</td>\n",
       "      <td>No</td>\n",
       "      <td>No</td>\n",
       "      <td>No</td>\n",
       "      <td>No</td>\n",
       "      <td>No</td>\n",
       "      <td>No</td>\n",
       "    </tr>\n",
       "  </tbody>\n",
       "</table>\n",
       "</div>"
      ],
      "text/plain": [
       "   customerID InternetService OnlineSecurity OnlineBackup DeviceProtection  \\\n",
       "0  7590-VHVEG             DSL             No          Yes               No   \n",
       "1  5575-GNVDE             DSL            Yes           No              Yes   \n",
       "2  3668-QPYBK             DSL            Yes          Yes               No   \n",
       "3  7795-CFOCW             DSL            Yes           No              Yes   \n",
       "4  9237-HQITU     Fiber optic             No           No               No   \n",
       "\n",
       "  TechSupport StreamingTV StreamingMovies  \n",
       "0          No          No              No  \n",
       "1          No          No              No  \n",
       "2          No          No              No  \n",
       "3         Yes          No              No  \n",
       "4          No          No              No  "
      ]
     },
     "execution_count": 16,
     "metadata": {},
     "output_type": "execute_result"
    }
   ],
   "source": [
    "# menampilkan 5 data pertama\n",
    "df_internet.head()"
   ]
  },
  {
   "cell_type": "code",
   "execution_count": 17,
   "id": "d37d9be0",
   "metadata": {},
   "outputs": [
    {
     "data": {
      "text/plain": [
       "0"
      ]
     },
     "execution_count": 17,
     "metadata": {},
     "output_type": "execute_result"
    }
   ],
   "source": [
    "# memeriksa duplikat\n",
    "df_internet.duplicated(subset='customerID').sum()"
   ]
  },
  {
   "cell_type": "code",
   "execution_count": 18,
   "id": "03898d27",
   "metadata": {},
   "outputs": [
    {
     "data": {
      "text/html": [
       "<div>\n",
       "<style scoped>\n",
       "    .dataframe tbody tr th:only-of-type {\n",
       "        vertical-align: middle;\n",
       "    }\n",
       "\n",
       "    .dataframe tbody tr th {\n",
       "        vertical-align: top;\n",
       "    }\n",
       "\n",
       "    .dataframe thead th {\n",
       "        text-align: right;\n",
       "    }\n",
       "</style>\n",
       "<table border=\"1\" class=\"dataframe\">\n",
       "  <thead>\n",
       "    <tr style=\"text-align: right;\">\n",
       "      <th></th>\n",
       "      <th>count</th>\n",
       "      <th>percent_total</th>\n",
       "    </tr>\n",
       "  </thead>\n",
       "  <tbody>\n",
       "    <tr>\n",
       "      <th>customerID</th>\n",
       "      <td>0</td>\n",
       "      <td>0.0%</td>\n",
       "    </tr>\n",
       "    <tr>\n",
       "      <th>InternetService</th>\n",
       "      <td>0</td>\n",
       "      <td>0.0%</td>\n",
       "    </tr>\n",
       "    <tr>\n",
       "      <th>OnlineSecurity</th>\n",
       "      <td>0</td>\n",
       "      <td>0.0%</td>\n",
       "    </tr>\n",
       "    <tr>\n",
       "      <th>OnlineBackup</th>\n",
       "      <td>0</td>\n",
       "      <td>0.0%</td>\n",
       "    </tr>\n",
       "    <tr>\n",
       "      <th>DeviceProtection</th>\n",
       "      <td>0</td>\n",
       "      <td>0.0%</td>\n",
       "    </tr>\n",
       "    <tr>\n",
       "      <th>TechSupport</th>\n",
       "      <td>0</td>\n",
       "      <td>0.0%</td>\n",
       "    </tr>\n",
       "    <tr>\n",
       "      <th>StreamingTV</th>\n",
       "      <td>0</td>\n",
       "      <td>0.0%</td>\n",
       "    </tr>\n",
       "    <tr>\n",
       "      <th>StreamingMovies</th>\n",
       "      <td>0</td>\n",
       "      <td>0.0%</td>\n",
       "    </tr>\n",
       "  </tbody>\n",
       "</table>\n",
       "</div>"
      ],
      "text/plain": [
       "                  count percent_total\n",
       "customerID            0          0.0%\n",
       "InternetService       0          0.0%\n",
       "OnlineSecurity        0          0.0%\n",
       "OnlineBackup          0          0.0%\n",
       "DeviceProtection      0          0.0%\n",
       "TechSupport           0          0.0%\n",
       "StreamingTV           0          0.0%\n",
       "StreamingMovies       0          0.0%"
      ]
     },
     "execution_count": 18,
     "metadata": {},
     "output_type": "execute_result"
    }
   ],
   "source": [
    "# menghitung nilai yang hilang\n",
    "missing_report(df_internet)"
   ]
  },
  {
   "cell_type": "markdown",
   "id": "ac48f9cf",
   "metadata": {},
   "source": [
    "## Dataset `phone.csv`"
   ]
  },
  {
   "cell_type": "code",
   "execution_count": 19,
   "id": "b7946607",
   "metadata": {},
   "outputs": [
    {
     "data": {
      "text/plain": [
       "(6361, 2)"
      ]
     },
     "execution_count": 19,
     "metadata": {},
     "output_type": "execute_result"
    }
   ],
   "source": [
    "# ukuran dataset\n",
    "df_phone.shape"
   ]
  },
  {
   "cell_type": "code",
   "execution_count": 20,
   "id": "0cbad0dd",
   "metadata": {},
   "outputs": [
    {
     "name": "stdout",
     "output_type": "stream",
     "text": [
      "<class 'pandas.core.frame.DataFrame'>\n",
      "RangeIndex: 6361 entries, 0 to 6360\n",
      "Data columns (total 2 columns):\n",
      " #   Column         Non-Null Count  Dtype \n",
      "---  ------         --------------  ----- \n",
      " 0   customerID     6361 non-null   object\n",
      " 1   MultipleLines  6361 non-null   object\n",
      "dtypes: object(2)\n",
      "memory usage: 99.5+ KB\n"
     ]
    }
   ],
   "source": [
    "# menampilkan informasi umum\n",
    "df_phone.info()"
   ]
  },
  {
   "cell_type": "code",
   "execution_count": 21,
   "id": "e4d487ae",
   "metadata": {},
   "outputs": [
    {
     "data": {
      "text/html": [
       "<div>\n",
       "<style scoped>\n",
       "    .dataframe tbody tr th:only-of-type {\n",
       "        vertical-align: middle;\n",
       "    }\n",
       "\n",
       "    .dataframe tbody tr th {\n",
       "        vertical-align: top;\n",
       "    }\n",
       "\n",
       "    .dataframe thead th {\n",
       "        text-align: right;\n",
       "    }\n",
       "</style>\n",
       "<table border=\"1\" class=\"dataframe\">\n",
       "  <thead>\n",
       "    <tr style=\"text-align: right;\">\n",
       "      <th></th>\n",
       "      <th>customerID</th>\n",
       "      <th>MultipleLines</th>\n",
       "    </tr>\n",
       "  </thead>\n",
       "  <tbody>\n",
       "    <tr>\n",
       "      <th>0</th>\n",
       "      <td>5575-GNVDE</td>\n",
       "      <td>No</td>\n",
       "    </tr>\n",
       "    <tr>\n",
       "      <th>1</th>\n",
       "      <td>3668-QPYBK</td>\n",
       "      <td>No</td>\n",
       "    </tr>\n",
       "    <tr>\n",
       "      <th>2</th>\n",
       "      <td>9237-HQITU</td>\n",
       "      <td>No</td>\n",
       "    </tr>\n",
       "    <tr>\n",
       "      <th>3</th>\n",
       "      <td>9305-CDSKC</td>\n",
       "      <td>Yes</td>\n",
       "    </tr>\n",
       "    <tr>\n",
       "      <th>4</th>\n",
       "      <td>1452-KIOVK</td>\n",
       "      <td>Yes</td>\n",
       "    </tr>\n",
       "  </tbody>\n",
       "</table>\n",
       "</div>"
      ],
      "text/plain": [
       "   customerID MultipleLines\n",
       "0  5575-GNVDE            No\n",
       "1  3668-QPYBK            No\n",
       "2  9237-HQITU            No\n",
       "3  9305-CDSKC           Yes\n",
       "4  1452-KIOVK           Yes"
      ]
     },
     "execution_count": 21,
     "metadata": {},
     "output_type": "execute_result"
    }
   ],
   "source": [
    "# menampilkan 5 data pertama\n",
    "df_phone.head()"
   ]
  },
  {
   "cell_type": "code",
   "execution_count": 22,
   "id": "2b041ae4",
   "metadata": {},
   "outputs": [
    {
     "data": {
      "text/plain": [
       "0"
      ]
     },
     "execution_count": 22,
     "metadata": {},
     "output_type": "execute_result"
    }
   ],
   "source": [
    "# memeriksa duplikat\n",
    "df_phone.duplicated(subset='customerID').sum()"
   ]
  },
  {
   "cell_type": "code",
   "execution_count": 23,
   "id": "da8ca870",
   "metadata": {},
   "outputs": [
    {
     "data": {
      "text/html": [
       "<div>\n",
       "<style scoped>\n",
       "    .dataframe tbody tr th:only-of-type {\n",
       "        vertical-align: middle;\n",
       "    }\n",
       "\n",
       "    .dataframe tbody tr th {\n",
       "        vertical-align: top;\n",
       "    }\n",
       "\n",
       "    .dataframe thead th {\n",
       "        text-align: right;\n",
       "    }\n",
       "</style>\n",
       "<table border=\"1\" class=\"dataframe\">\n",
       "  <thead>\n",
       "    <tr style=\"text-align: right;\">\n",
       "      <th></th>\n",
       "      <th>count</th>\n",
       "      <th>percent_total</th>\n",
       "    </tr>\n",
       "  </thead>\n",
       "  <tbody>\n",
       "    <tr>\n",
       "      <th>customerID</th>\n",
       "      <td>0</td>\n",
       "      <td>0.0%</td>\n",
       "    </tr>\n",
       "    <tr>\n",
       "      <th>MultipleLines</th>\n",
       "      <td>0</td>\n",
       "      <td>0.0%</td>\n",
       "    </tr>\n",
       "  </tbody>\n",
       "</table>\n",
       "</div>"
      ],
      "text/plain": [
       "               count percent_total\n",
       "customerID         0          0.0%\n",
       "MultipleLines      0          0.0%"
      ]
     },
     "execution_count": 23,
     "metadata": {},
     "output_type": "execute_result"
    }
   ],
   "source": [
    "# menghitung nilai yang hilang\n",
    "missing_report(df_phone)"
   ]
  },
  {
   "cell_type": "markdown",
   "id": "320e302e",
   "metadata": {},
   "source": [
    "**Kesimpulan**\n",
    "\n",
    "Seluruh dataset yang dimiliki tidak ditemukan *missing value* atau nilai yang hilang dan dupliat. Namun ada kolom yang semestinya kita ubah ke dalam format datetime. Kita akan menggabungkan seluruh dataset tersebut hingga menjadi 1 dataset saja."
   ]
  },
  {
   "cell_type": "markdown",
   "id": "bb0bea01",
   "metadata": {},
   "source": [
    "# Merge Dataset (Penggabungan Data)"
   ]
  },
  {
   "cell_type": "code",
   "execution_count": 24,
   "id": "3536c5bc",
   "metadata": {},
   "outputs": [],
   "source": [
    "# Menggabungkan semua dataset secara bertahap\n",
    "dataframes = [df_contract, df_person, df_internet, df_phone]\n",
    "final_df = reduce(lambda left, right: pd.merge(left, right, on='customerID', how='left'), dataframes)"
   ]
  },
  {
   "cell_type": "code",
   "execution_count": 25,
   "id": "7159a079",
   "metadata": {},
   "outputs": [
    {
     "name": "stdout",
     "output_type": "stream",
     "text": [
      "<class 'pandas.core.frame.DataFrame'>\n",
      "RangeIndex: 7043 entries, 0 to 7042\n",
      "Data columns (total 20 columns):\n",
      " #   Column            Non-Null Count  Dtype  \n",
      "---  ------            --------------  -----  \n",
      " 0   customerID        7043 non-null   object \n",
      " 1   BeginDate         7043 non-null   object \n",
      " 2   EndDate           7043 non-null   object \n",
      " 3   Type              7043 non-null   object \n",
      " 4   PaperlessBilling  7043 non-null   object \n",
      " 5   PaymentMethod     7043 non-null   object \n",
      " 6   MonthlyCharges    7043 non-null   float64\n",
      " 7   TotalCharges      7043 non-null   object \n",
      " 8   gender            7043 non-null   object \n",
      " 9   SeniorCitizen     7043 non-null   int64  \n",
      " 10  Partner           7043 non-null   object \n",
      " 11  Dependents        7043 non-null   object \n",
      " 12  InternetService   5517 non-null   object \n",
      " 13  OnlineSecurity    5517 non-null   object \n",
      " 14  OnlineBackup      5517 non-null   object \n",
      " 15  DeviceProtection  5517 non-null   object \n",
      " 16  TechSupport       5517 non-null   object \n",
      " 17  StreamingTV       5517 non-null   object \n",
      " 18  StreamingMovies   5517 non-null   object \n",
      " 19  MultipleLines     6361 non-null   object \n",
      "dtypes: float64(1), int64(1), object(18)\n",
      "memory usage: 1.1+ MB\n"
     ]
    }
   ],
   "source": [
    "# informasi umum dataset final\n",
    "final_df.info()"
   ]
  },
  {
   "cell_type": "code",
   "execution_count": 26,
   "id": "aea05c02",
   "metadata": {},
   "outputs": [
    {
     "data": {
      "text/html": [
       "<div>\n",
       "<style scoped>\n",
       "    .dataframe tbody tr th:only-of-type {\n",
       "        vertical-align: middle;\n",
       "    }\n",
       "\n",
       "    .dataframe tbody tr th {\n",
       "        vertical-align: top;\n",
       "    }\n",
       "\n",
       "    .dataframe thead th {\n",
       "        text-align: right;\n",
       "    }\n",
       "</style>\n",
       "<table border=\"1\" class=\"dataframe\">\n",
       "  <thead>\n",
       "    <tr style=\"text-align: right;\">\n",
       "      <th></th>\n",
       "      <th>customerID</th>\n",
       "      <th>BeginDate</th>\n",
       "      <th>EndDate</th>\n",
       "      <th>Type</th>\n",
       "      <th>PaperlessBilling</th>\n",
       "      <th>PaymentMethod</th>\n",
       "      <th>MonthlyCharges</th>\n",
       "      <th>TotalCharges</th>\n",
       "      <th>gender</th>\n",
       "      <th>SeniorCitizen</th>\n",
       "      <th>Partner</th>\n",
       "      <th>Dependents</th>\n",
       "      <th>InternetService</th>\n",
       "      <th>OnlineSecurity</th>\n",
       "      <th>OnlineBackup</th>\n",
       "      <th>DeviceProtection</th>\n",
       "      <th>TechSupport</th>\n",
       "      <th>StreamingTV</th>\n",
       "      <th>StreamingMovies</th>\n",
       "      <th>MultipleLines</th>\n",
       "    </tr>\n",
       "  </thead>\n",
       "  <tbody>\n",
       "    <tr>\n",
       "      <th>0</th>\n",
       "      <td>7590-VHVEG</td>\n",
       "      <td>2020-01-01</td>\n",
       "      <td>No</td>\n",
       "      <td>Month-to-month</td>\n",
       "      <td>Yes</td>\n",
       "      <td>Electronic check</td>\n",
       "      <td>29.85</td>\n",
       "      <td>29.85</td>\n",
       "      <td>Female</td>\n",
       "      <td>0</td>\n",
       "      <td>Yes</td>\n",
       "      <td>No</td>\n",
       "      <td>DSL</td>\n",
       "      <td>No</td>\n",
       "      <td>Yes</td>\n",
       "      <td>No</td>\n",
       "      <td>No</td>\n",
       "      <td>No</td>\n",
       "      <td>No</td>\n",
       "      <td>NaN</td>\n",
       "    </tr>\n",
       "    <tr>\n",
       "      <th>1</th>\n",
       "      <td>5575-GNVDE</td>\n",
       "      <td>2017-04-01</td>\n",
       "      <td>No</td>\n",
       "      <td>One year</td>\n",
       "      <td>No</td>\n",
       "      <td>Mailed check</td>\n",
       "      <td>56.95</td>\n",
       "      <td>1889.5</td>\n",
       "      <td>Male</td>\n",
       "      <td>0</td>\n",
       "      <td>No</td>\n",
       "      <td>No</td>\n",
       "      <td>DSL</td>\n",
       "      <td>Yes</td>\n",
       "      <td>No</td>\n",
       "      <td>Yes</td>\n",
       "      <td>No</td>\n",
       "      <td>No</td>\n",
       "      <td>No</td>\n",
       "      <td>No</td>\n",
       "    </tr>\n",
       "    <tr>\n",
       "      <th>2</th>\n",
       "      <td>3668-QPYBK</td>\n",
       "      <td>2019-10-01</td>\n",
       "      <td>2019-12-01 00:00:00</td>\n",
       "      <td>Month-to-month</td>\n",
       "      <td>Yes</td>\n",
       "      <td>Mailed check</td>\n",
       "      <td>53.85</td>\n",
       "      <td>108.15</td>\n",
       "      <td>Male</td>\n",
       "      <td>0</td>\n",
       "      <td>No</td>\n",
       "      <td>No</td>\n",
       "      <td>DSL</td>\n",
       "      <td>Yes</td>\n",
       "      <td>Yes</td>\n",
       "      <td>No</td>\n",
       "      <td>No</td>\n",
       "      <td>No</td>\n",
       "      <td>No</td>\n",
       "      <td>No</td>\n",
       "    </tr>\n",
       "    <tr>\n",
       "      <th>3</th>\n",
       "      <td>7795-CFOCW</td>\n",
       "      <td>2016-05-01</td>\n",
       "      <td>No</td>\n",
       "      <td>One year</td>\n",
       "      <td>No</td>\n",
       "      <td>Bank transfer (automatic)</td>\n",
       "      <td>42.30</td>\n",
       "      <td>1840.75</td>\n",
       "      <td>Male</td>\n",
       "      <td>0</td>\n",
       "      <td>No</td>\n",
       "      <td>No</td>\n",
       "      <td>DSL</td>\n",
       "      <td>Yes</td>\n",
       "      <td>No</td>\n",
       "      <td>Yes</td>\n",
       "      <td>Yes</td>\n",
       "      <td>No</td>\n",
       "      <td>No</td>\n",
       "      <td>NaN</td>\n",
       "    </tr>\n",
       "    <tr>\n",
       "      <th>4</th>\n",
       "      <td>9237-HQITU</td>\n",
       "      <td>2019-09-01</td>\n",
       "      <td>2019-11-01 00:00:00</td>\n",
       "      <td>Month-to-month</td>\n",
       "      <td>Yes</td>\n",
       "      <td>Electronic check</td>\n",
       "      <td>70.70</td>\n",
       "      <td>151.65</td>\n",
       "      <td>Female</td>\n",
       "      <td>0</td>\n",
       "      <td>No</td>\n",
       "      <td>No</td>\n",
       "      <td>Fiber optic</td>\n",
       "      <td>No</td>\n",
       "      <td>No</td>\n",
       "      <td>No</td>\n",
       "      <td>No</td>\n",
       "      <td>No</td>\n",
       "      <td>No</td>\n",
       "      <td>No</td>\n",
       "    </tr>\n",
       "  </tbody>\n",
       "</table>\n",
       "</div>"
      ],
      "text/plain": [
       "   customerID   BeginDate              EndDate            Type  \\\n",
       "0  7590-VHVEG  2020-01-01                   No  Month-to-month   \n",
       "1  5575-GNVDE  2017-04-01                   No        One year   \n",
       "2  3668-QPYBK  2019-10-01  2019-12-01 00:00:00  Month-to-month   \n",
       "3  7795-CFOCW  2016-05-01                   No        One year   \n",
       "4  9237-HQITU  2019-09-01  2019-11-01 00:00:00  Month-to-month   \n",
       "\n",
       "  PaperlessBilling              PaymentMethod  MonthlyCharges TotalCharges  \\\n",
       "0              Yes           Electronic check           29.85        29.85   \n",
       "1               No               Mailed check           56.95       1889.5   \n",
       "2              Yes               Mailed check           53.85       108.15   \n",
       "3               No  Bank transfer (automatic)           42.30      1840.75   \n",
       "4              Yes           Electronic check           70.70       151.65   \n",
       "\n",
       "   gender  SeniorCitizen Partner Dependents InternetService OnlineSecurity  \\\n",
       "0  Female              0     Yes         No             DSL             No   \n",
       "1    Male              0      No         No             DSL            Yes   \n",
       "2    Male              0      No         No             DSL            Yes   \n",
       "3    Male              0      No         No             DSL            Yes   \n",
       "4  Female              0      No         No     Fiber optic             No   \n",
       "\n",
       "  OnlineBackup DeviceProtection TechSupport StreamingTV StreamingMovies  \\\n",
       "0          Yes               No          No          No              No   \n",
       "1           No              Yes          No          No              No   \n",
       "2          Yes               No          No          No              No   \n",
       "3           No              Yes         Yes          No              No   \n",
       "4           No               No          No          No              No   \n",
       "\n",
       "  MultipleLines  \n",
       "0           NaN  \n",
       "1            No  \n",
       "2            No  \n",
       "3           NaN  \n",
       "4            No  "
      ]
     },
     "execution_count": 26,
     "metadata": {},
     "output_type": "execute_result"
    }
   ],
   "source": [
    "# menampilkan 5 baris pertama dataset final\n",
    "final_df.head()"
   ]
  },
  {
   "cell_type": "code",
   "execution_count": 27,
   "id": "3dcc4f8b",
   "metadata": {},
   "outputs": [
    {
     "data": {
      "text/html": [
       "<div>\n",
       "<style scoped>\n",
       "    .dataframe tbody tr th:only-of-type {\n",
       "        vertical-align: middle;\n",
       "    }\n",
       "\n",
       "    .dataframe tbody tr th {\n",
       "        vertical-align: top;\n",
       "    }\n",
       "\n",
       "    .dataframe thead th {\n",
       "        text-align: right;\n",
       "    }\n",
       "</style>\n",
       "<table border=\"1\" class=\"dataframe\">\n",
       "  <thead>\n",
       "    <tr style=\"text-align: right;\">\n",
       "      <th></th>\n",
       "      <th>count</th>\n",
       "      <th>mean</th>\n",
       "      <th>std</th>\n",
       "      <th>min</th>\n",
       "      <th>25%</th>\n",
       "      <th>50%</th>\n",
       "      <th>75%</th>\n",
       "      <th>max</th>\n",
       "    </tr>\n",
       "  </thead>\n",
       "  <tbody>\n",
       "    <tr>\n",
       "      <th>MonthlyCharges</th>\n",
       "      <td>7043.0</td>\n",
       "      <td>64.761692</td>\n",
       "      <td>30.090047</td>\n",
       "      <td>18.25</td>\n",
       "      <td>35.5</td>\n",
       "      <td>70.35</td>\n",
       "      <td>89.85</td>\n",
       "      <td>118.75</td>\n",
       "    </tr>\n",
       "    <tr>\n",
       "      <th>SeniorCitizen</th>\n",
       "      <td>7043.0</td>\n",
       "      <td>0.162147</td>\n",
       "      <td>0.368612</td>\n",
       "      <td>0.00</td>\n",
       "      <td>0.0</td>\n",
       "      <td>0.00</td>\n",
       "      <td>0.00</td>\n",
       "      <td>1.00</td>\n",
       "    </tr>\n",
       "  </tbody>\n",
       "</table>\n",
       "</div>"
      ],
      "text/plain": [
       "                 count       mean        std    min   25%    50%    75%  \\\n",
       "MonthlyCharges  7043.0  64.761692  30.090047  18.25  35.5  70.35  89.85   \n",
       "SeniorCitizen   7043.0   0.162147   0.368612   0.00   0.0   0.00   0.00   \n",
       "\n",
       "                   max  \n",
       "MonthlyCharges  118.75  \n",
       "SeniorCitizen     1.00  "
      ]
     },
     "metadata": {},
     "output_type": "display_data"
    },
    {
     "data": {
      "text/html": [
       "<div>\n",
       "<style scoped>\n",
       "    .dataframe tbody tr th:only-of-type {\n",
       "        vertical-align: middle;\n",
       "    }\n",
       "\n",
       "    .dataframe tbody tr th {\n",
       "        vertical-align: top;\n",
       "    }\n",
       "\n",
       "    .dataframe thead th {\n",
       "        text-align: right;\n",
       "    }\n",
       "</style>\n",
       "<table border=\"1\" class=\"dataframe\">\n",
       "  <thead>\n",
       "    <tr style=\"text-align: right;\">\n",
       "      <th></th>\n",
       "      <th>count</th>\n",
       "      <th>unique</th>\n",
       "      <th>top</th>\n",
       "      <th>freq</th>\n",
       "    </tr>\n",
       "  </thead>\n",
       "  <tbody>\n",
       "    <tr>\n",
       "      <th>customerID</th>\n",
       "      <td>7043</td>\n",
       "      <td>7043</td>\n",
       "      <td>7590-VHVEG</td>\n",
       "      <td>1</td>\n",
       "    </tr>\n",
       "    <tr>\n",
       "      <th>BeginDate</th>\n",
       "      <td>7043</td>\n",
       "      <td>77</td>\n",
       "      <td>2014-02-01</td>\n",
       "      <td>366</td>\n",
       "    </tr>\n",
       "    <tr>\n",
       "      <th>EndDate</th>\n",
       "      <td>7043</td>\n",
       "      <td>5</td>\n",
       "      <td>No</td>\n",
       "      <td>5174</td>\n",
       "    </tr>\n",
       "    <tr>\n",
       "      <th>Type</th>\n",
       "      <td>7043</td>\n",
       "      <td>3</td>\n",
       "      <td>Month-to-month</td>\n",
       "      <td>3875</td>\n",
       "    </tr>\n",
       "    <tr>\n",
       "      <th>PaperlessBilling</th>\n",
       "      <td>7043</td>\n",
       "      <td>2</td>\n",
       "      <td>Yes</td>\n",
       "      <td>4171</td>\n",
       "    </tr>\n",
       "    <tr>\n",
       "      <th>PaymentMethod</th>\n",
       "      <td>7043</td>\n",
       "      <td>4</td>\n",
       "      <td>Electronic check</td>\n",
       "      <td>2365</td>\n",
       "    </tr>\n",
       "    <tr>\n",
       "      <th>TotalCharges</th>\n",
       "      <td>7043</td>\n",
       "      <td>6531</td>\n",
       "      <td></td>\n",
       "      <td>11</td>\n",
       "    </tr>\n",
       "    <tr>\n",
       "      <th>gender</th>\n",
       "      <td>7043</td>\n",
       "      <td>2</td>\n",
       "      <td>Male</td>\n",
       "      <td>3555</td>\n",
       "    </tr>\n",
       "    <tr>\n",
       "      <th>Partner</th>\n",
       "      <td>7043</td>\n",
       "      <td>2</td>\n",
       "      <td>No</td>\n",
       "      <td>3641</td>\n",
       "    </tr>\n",
       "    <tr>\n",
       "      <th>Dependents</th>\n",
       "      <td>7043</td>\n",
       "      <td>2</td>\n",
       "      <td>No</td>\n",
       "      <td>4933</td>\n",
       "    </tr>\n",
       "    <tr>\n",
       "      <th>InternetService</th>\n",
       "      <td>5517</td>\n",
       "      <td>2</td>\n",
       "      <td>Fiber optic</td>\n",
       "      <td>3096</td>\n",
       "    </tr>\n",
       "    <tr>\n",
       "      <th>OnlineSecurity</th>\n",
       "      <td>5517</td>\n",
       "      <td>2</td>\n",
       "      <td>No</td>\n",
       "      <td>3498</td>\n",
       "    </tr>\n",
       "    <tr>\n",
       "      <th>OnlineBackup</th>\n",
       "      <td>5517</td>\n",
       "      <td>2</td>\n",
       "      <td>No</td>\n",
       "      <td>3088</td>\n",
       "    </tr>\n",
       "    <tr>\n",
       "      <th>DeviceProtection</th>\n",
       "      <td>5517</td>\n",
       "      <td>2</td>\n",
       "      <td>No</td>\n",
       "      <td>3095</td>\n",
       "    </tr>\n",
       "    <tr>\n",
       "      <th>TechSupport</th>\n",
       "      <td>5517</td>\n",
       "      <td>2</td>\n",
       "      <td>No</td>\n",
       "      <td>3473</td>\n",
       "    </tr>\n",
       "    <tr>\n",
       "      <th>StreamingTV</th>\n",
       "      <td>5517</td>\n",
       "      <td>2</td>\n",
       "      <td>No</td>\n",
       "      <td>2810</td>\n",
       "    </tr>\n",
       "    <tr>\n",
       "      <th>StreamingMovies</th>\n",
       "      <td>5517</td>\n",
       "      <td>2</td>\n",
       "      <td>No</td>\n",
       "      <td>2785</td>\n",
       "    </tr>\n",
       "    <tr>\n",
       "      <th>MultipleLines</th>\n",
       "      <td>6361</td>\n",
       "      <td>2</td>\n",
       "      <td>No</td>\n",
       "      <td>3390</td>\n",
       "    </tr>\n",
       "  </tbody>\n",
       "</table>\n",
       "</div>"
      ],
      "text/plain": [
       "                 count unique               top  freq\n",
       "customerID        7043   7043        7590-VHVEG     1\n",
       "BeginDate         7043     77        2014-02-01   366\n",
       "EndDate           7043      5                No  5174\n",
       "Type              7043      3    Month-to-month  3875\n",
       "PaperlessBilling  7043      2               Yes  4171\n",
       "PaymentMethod     7043      4  Electronic check  2365\n",
       "TotalCharges      7043   6531                      11\n",
       "gender            7043      2              Male  3555\n",
       "Partner           7043      2                No  3641\n",
       "Dependents        7043      2                No  4933\n",
       "InternetService   5517      2       Fiber optic  3096\n",
       "OnlineSecurity    5517      2                No  3498\n",
       "OnlineBackup      5517      2                No  3088\n",
       "DeviceProtection  5517      2                No  3095\n",
       "TechSupport       5517      2                No  3473\n",
       "StreamingTV       5517      2                No  2810\n",
       "StreamingMovies   5517      2                No  2785\n",
       "MultipleLines     6361      2                No  3390"
      ]
     },
     "metadata": {},
     "output_type": "display_data"
    }
   ],
   "source": [
    "# statistika deskriptif dataset\n",
    "display(final_df.describe().transpose(),\n",
    "       final_df.describe(include='object').transpose())"
   ]
  },
  {
   "cell_type": "code",
   "execution_count": 28,
   "id": "1d9f6899",
   "metadata": {},
   "outputs": [
    {
     "data": {
      "text/html": [
       "<div>\n",
       "<style scoped>\n",
       "    .dataframe tbody tr th:only-of-type {\n",
       "        vertical-align: middle;\n",
       "    }\n",
       "\n",
       "    .dataframe tbody tr th {\n",
       "        vertical-align: top;\n",
       "    }\n",
       "\n",
       "    .dataframe thead th {\n",
       "        text-align: right;\n",
       "    }\n",
       "</style>\n",
       "<table border=\"1\" class=\"dataframe\">\n",
       "  <thead>\n",
       "    <tr style=\"text-align: right;\">\n",
       "      <th></th>\n",
       "      <th>count</th>\n",
       "      <th>percent_total</th>\n",
       "    </tr>\n",
       "  </thead>\n",
       "  <tbody>\n",
       "    <tr>\n",
       "      <th>customerID</th>\n",
       "      <td>0</td>\n",
       "      <td>0.0%</td>\n",
       "    </tr>\n",
       "    <tr>\n",
       "      <th>BeginDate</th>\n",
       "      <td>0</td>\n",
       "      <td>0.0%</td>\n",
       "    </tr>\n",
       "    <tr>\n",
       "      <th>EndDate</th>\n",
       "      <td>0</td>\n",
       "      <td>0.0%</td>\n",
       "    </tr>\n",
       "    <tr>\n",
       "      <th>Type</th>\n",
       "      <td>0</td>\n",
       "      <td>0.0%</td>\n",
       "    </tr>\n",
       "    <tr>\n",
       "      <th>PaperlessBilling</th>\n",
       "      <td>0</td>\n",
       "      <td>0.0%</td>\n",
       "    </tr>\n",
       "    <tr>\n",
       "      <th>PaymentMethod</th>\n",
       "      <td>0</td>\n",
       "      <td>0.0%</td>\n",
       "    </tr>\n",
       "    <tr>\n",
       "      <th>MonthlyCharges</th>\n",
       "      <td>0</td>\n",
       "      <td>0.0%</td>\n",
       "    </tr>\n",
       "    <tr>\n",
       "      <th>TotalCharges</th>\n",
       "      <td>0</td>\n",
       "      <td>0.0%</td>\n",
       "    </tr>\n",
       "    <tr>\n",
       "      <th>gender</th>\n",
       "      <td>0</td>\n",
       "      <td>0.0%</td>\n",
       "    </tr>\n",
       "    <tr>\n",
       "      <th>SeniorCitizen</th>\n",
       "      <td>0</td>\n",
       "      <td>0.0%</td>\n",
       "    </tr>\n",
       "    <tr>\n",
       "      <th>Partner</th>\n",
       "      <td>0</td>\n",
       "      <td>0.0%</td>\n",
       "    </tr>\n",
       "    <tr>\n",
       "      <th>Dependents</th>\n",
       "      <td>0</td>\n",
       "      <td>0.0%</td>\n",
       "    </tr>\n",
       "    <tr>\n",
       "      <th>InternetService</th>\n",
       "      <td>1526</td>\n",
       "      <td>21.67%</td>\n",
       "    </tr>\n",
       "    <tr>\n",
       "      <th>OnlineSecurity</th>\n",
       "      <td>1526</td>\n",
       "      <td>21.67%</td>\n",
       "    </tr>\n",
       "    <tr>\n",
       "      <th>OnlineBackup</th>\n",
       "      <td>1526</td>\n",
       "      <td>21.67%</td>\n",
       "    </tr>\n",
       "    <tr>\n",
       "      <th>DeviceProtection</th>\n",
       "      <td>1526</td>\n",
       "      <td>21.67%</td>\n",
       "    </tr>\n",
       "    <tr>\n",
       "      <th>TechSupport</th>\n",
       "      <td>1526</td>\n",
       "      <td>21.67%</td>\n",
       "    </tr>\n",
       "    <tr>\n",
       "      <th>StreamingTV</th>\n",
       "      <td>1526</td>\n",
       "      <td>21.67%</td>\n",
       "    </tr>\n",
       "    <tr>\n",
       "      <th>StreamingMovies</th>\n",
       "      <td>1526</td>\n",
       "      <td>21.67%</td>\n",
       "    </tr>\n",
       "    <tr>\n",
       "      <th>MultipleLines</th>\n",
       "      <td>682</td>\n",
       "      <td>9.68%</td>\n",
       "    </tr>\n",
       "  </tbody>\n",
       "</table>\n",
       "</div>"
      ],
      "text/plain": [
       "                  count percent_total\n",
       "customerID            0          0.0%\n",
       "BeginDate             0          0.0%\n",
       "EndDate               0          0.0%\n",
       "Type                  0          0.0%\n",
       "PaperlessBilling      0          0.0%\n",
       "PaymentMethod         0          0.0%\n",
       "MonthlyCharges        0          0.0%\n",
       "TotalCharges          0          0.0%\n",
       "gender                0          0.0%\n",
       "SeniorCitizen         0          0.0%\n",
       "Partner               0          0.0%\n",
       "Dependents            0          0.0%\n",
       "InternetService    1526        21.67%\n",
       "OnlineSecurity     1526        21.67%\n",
       "OnlineBackup       1526        21.67%\n",
       "DeviceProtection   1526        21.67%\n",
       "TechSupport        1526        21.67%\n",
       "StreamingTV        1526        21.67%\n",
       "StreamingMovies    1526        21.67%\n",
       "MultipleLines       682         9.68%"
      ]
     },
     "execution_count": 28,
     "metadata": {},
     "output_type": "execute_result"
    }
   ],
   "source": [
    "# menghitung missing value dari final dataset\n",
    "missing_report(final_df)"
   ]
  },
  {
   "cell_type": "markdown",
   "id": "961c6cc9",
   "metadata": {},
   "source": [
    "## Kesimpulan Awal\n",
    "\n",
    "1. Setelah penggabungan(merge) data. Kita mendapati *missing value* pada beberapa kolom dengan proporsi yang cukup besar. Berikut adalah data dan komposisinya:\n",
    "    - `InternetService` - 21.67%\n",
    "    - `OnlineSecurity` - 21.67%\n",
    "    - `OnlineBackup` - 21.67%\n",
    "    - `DeviceProtection` - 21.67%\n",
    "    - `TechSupport` - 21.67%\n",
    "    - `StreamingTV` - 21.67%\n",
    "    - `StreamingMovies` - 21.67%\n",
    "    - `MultipleLines` - 9.68%\n",
    "2. Dataset yang dimiliki belum mempunyai label atau kelas target. Untuk itu kita akan mendapatkan label target berdasarkan kolom `EndDate`, karena kolom tersebut berisi tanggal berhenti ketika pelanggan berhenti menggunakan layanan, dan terdapat nilai `No` untuk pelanggan yang masih menggunakan layanan.\n",
    "3. Kemudian kita akan menghapus kolom `BeginDate` karena pada tahap EDA (Exploratory Data Analysis) kolom tersebut tidak digunakan dan pada training model kolom tersebut juga tidak akan digunakan.\n",
    "4. Dan yang terakhir adalah kita perlu mengubah tipe data pada kolom `TotalCharges` ke type `float`."
   ]
  },
  {
   "cell_type": "markdown",
   "id": "208e8e93",
   "metadata": {},
   "source": [
    "# Data Pre-Processing"
   ]
  },
  {
   "cell_type": "markdown",
   "id": "0663dbc0",
   "metadata": {},
   "source": [
    "Sebelum masuk ke tahap selanjutnya, kita akan mengubah format dalam penamaan kolom pada dataset terlebih dahulu."
   ]
  },
  {
   "cell_type": "code",
   "execution_count": 29,
   "id": "c22ae13b",
   "metadata": {},
   "outputs": [
    {
     "data": {
      "text/plain": [
       "Index(['customer_id', 'begin_date', 'end_date', 'type', 'paperless_billing',\n",
       "       'payment_method', 'monthly_charges', 'total_charges', 'gender',\n",
       "       'senior_citizen', 'partner', 'dependents', 'internet_service',\n",
       "       'online_security', 'online_backup', 'device_protection', 'tech_support',\n",
       "       'streaming_tv', 'streaming_movies', 'multiple_lines'],\n",
       "      dtype='object')"
      ]
     },
     "execution_count": 29,
     "metadata": {},
     "output_type": "execute_result"
    }
   ],
   "source": [
    "#\n",
    "new_columns =[]\n",
    "\n",
    "for col in final_df.columns:\n",
    "    if col == 'customerID' or col == 'StreamingTV':\n",
    "        new_columns.append(re.sub(r'(?<!^)(?=[I, T])','_',col))\n",
    "    else:\n",
    "        new_columns.append(re.sub(r'(?<!^)(?=[A-Z])','_',col))\n",
    "        \n",
    "# mengubah nama kolom\n",
    "final_df.columns = [element.lower() for element in new_columns]\n",
    "\n",
    "# menampilkan hasil\n",
    "final_df.columns"
   ]
  },
  {
   "cell_type": "markdown",
   "id": "083bfb1c",
   "metadata": {},
   "source": [
    "## Mengubah Tipe Data"
   ]
  },
  {
   "cell_type": "markdown",
   "id": "3aaa9279",
   "metadata": {},
   "source": [
    "Kolom `total_charges` memiliki tipe data `object` sedangkan nilai pada kolom ini merupakan variabel kontinu, untuk itu kita akan mengubahnya ke tipe data `float`. "
   ]
  },
  {
   "cell_type": "code",
   "execution_count": 30,
   "id": "8a98435b",
   "metadata": {},
   "outputs": [
    {
     "data": {
      "text/plain": [
       "total_charges\n",
       "         11\n",
       "20.2     11\n",
       "19.75     9\n",
       "20.05     8\n",
       "19.9      8\n",
       "Name: count, dtype: int64"
      ]
     },
     "execution_count": 30,
     "metadata": {},
     "output_type": "execute_result"
    }
   ],
   "source": [
    "# memeriksa nilai pada kolom total_charges\n",
    "final_df.total_charges.value_counts().head()"
   ]
  },
  {
   "cell_type": "markdown",
   "id": "afd837a7",
   "metadata": {},
   "source": [
    "Terdapat nilai kosong pada kolom ini, ketika kita mengganti tipe datanya mungkin akan menimbulkan nilai yang hilang pada kolom tersebut sebanyak `11` observasi. Kita akan memilih untuk menghapus data tersebut karena persentasenya bisa dibilang sangat kecil. "
   ]
  },
  {
   "cell_type": "code",
   "execution_count": 31,
   "id": "7424dbad",
   "metadata": {},
   "outputs": [],
   "source": [
    "# mengubah tipe data `total_charges` ke numeric\n",
    "final_df['total_charges'] = pd.to_numeric(final_df['total_charges'], errors='coerce')"
   ]
  },
  {
   "cell_type": "code",
   "execution_count": 32,
   "id": "db4d0074",
   "metadata": {},
   "outputs": [],
   "source": [
    "# menghapus nilai yang hilang sebanyak 11 observasi\n",
    "final_df.dropna(subset='total_charges', inplace=True)"
   ]
  },
  {
   "cell_type": "markdown",
   "id": "61a91a82",
   "metadata": {},
   "source": [
    "## Menambahkan Label (Kelas) Target"
   ]
  },
  {
   "cell_type": "code",
   "execution_count": 33,
   "id": "b096176b",
   "metadata": {},
   "outputs": [],
   "source": [
    "# menambahkan label target\n",
    "final_df['churn'] = final_df['end_date'].apply(lambda x: 1 if x != 'No' else 0)"
   ]
  },
  {
   "cell_type": "markdown",
   "id": "f952547c",
   "metadata": {},
   "source": [
    "**Crosscheck untuk hasil**"
   ]
  },
  {
   "cell_type": "code",
   "execution_count": 34,
   "id": "a9e8e7c0",
   "metadata": {},
   "outputs": [
    {
     "data": {
      "text/html": [
       "<div>\n",
       "<style scoped>\n",
       "    .dataframe tbody tr th:only-of-type {\n",
       "        vertical-align: middle;\n",
       "    }\n",
       "\n",
       "    .dataframe tbody tr th {\n",
       "        vertical-align: top;\n",
       "    }\n",
       "\n",
       "    .dataframe thead th {\n",
       "        text-align: right;\n",
       "    }\n",
       "</style>\n",
       "<table border=\"1\" class=\"dataframe\">\n",
       "  <thead>\n",
       "    <tr style=\"text-align: right;\">\n",
       "      <th></th>\n",
       "      <th>end_date</th>\n",
       "      <th>churn</th>\n",
       "    </tr>\n",
       "  </thead>\n",
       "  <tbody>\n",
       "    <tr>\n",
       "      <th>4625</th>\n",
       "      <td>No</td>\n",
       "      <td>0</td>\n",
       "    </tr>\n",
       "    <tr>\n",
       "      <th>2304</th>\n",
       "      <td>No</td>\n",
       "      <td>0</td>\n",
       "    </tr>\n",
       "  </tbody>\n",
       "</table>\n",
       "</div>"
      ],
      "text/plain": [
       "     end_date  churn\n",
       "4625       No      0\n",
       "2304       No      0"
      ]
     },
     "execution_count": 34,
     "metadata": {},
     "output_type": "execute_result"
    }
   ],
   "source": [
    "# sample end_date == No dan churn == 0\n",
    "final_df.query('churn == 0')[['end_date','churn']].sample(2)"
   ]
  },
  {
   "cell_type": "code",
   "execution_count": 35,
   "id": "e7326420",
   "metadata": {},
   "outputs": [
    {
     "data": {
      "text/html": [
       "<div>\n",
       "<style scoped>\n",
       "    .dataframe tbody tr th:only-of-type {\n",
       "        vertical-align: middle;\n",
       "    }\n",
       "\n",
       "    .dataframe tbody tr th {\n",
       "        vertical-align: top;\n",
       "    }\n",
       "\n",
       "    .dataframe thead th {\n",
       "        text-align: right;\n",
       "    }\n",
       "</style>\n",
       "<table border=\"1\" class=\"dataframe\">\n",
       "  <thead>\n",
       "    <tr style=\"text-align: right;\">\n",
       "      <th></th>\n",
       "      <th>end_date</th>\n",
       "      <th>churn</th>\n",
       "    </tr>\n",
       "  </thead>\n",
       "  <tbody>\n",
       "    <tr>\n",
       "      <th>3743</th>\n",
       "      <td>2020-01-01 00:00:00</td>\n",
       "      <td>1</td>\n",
       "    </tr>\n",
       "    <tr>\n",
       "      <th>4169</th>\n",
       "      <td>2020-01-01 00:00:00</td>\n",
       "      <td>1</td>\n",
       "    </tr>\n",
       "  </tbody>\n",
       "</table>\n",
       "</div>"
      ],
      "text/plain": [
       "                 end_date  churn\n",
       "3743  2020-01-01 00:00:00      1\n",
       "4169  2020-01-01 00:00:00      1"
      ]
     },
     "execution_count": 35,
     "metadata": {},
     "output_type": "execute_result"
    }
   ],
   "source": [
    "# sample end_date == date dan churn == 1\n",
    "final_df.query('churn == 1')[['end_date','churn']].sample(2)"
   ]
  },
  {
   "cell_type": "markdown",
   "id": "0cffb86c",
   "metadata": {},
   "source": [
    "**Menghapus beberapa kolom yang tidak digunakan pada tahap EDA**\n",
    "\n",
    "Kemudian lanjut ke tahap penghapusan kolom, kolom yang tidak digunakan adalah `begin_date` dan `end_date`, kita menghapus `end_date` karena telah mendapatkan label atau target yang dibutuhkan."
   ]
  },
  {
   "cell_type": "code",
   "execution_count": 36,
   "id": "1d9fccd1",
   "metadata": {},
   "outputs": [],
   "source": [
    "# penghapusan kolom\n",
    "final_df = final_df.drop(['begin_date','end_date'], axis=1)"
   ]
  },
  {
   "cell_type": "markdown",
   "id": "2f36e78f",
   "metadata": {},
   "source": [
    "## Mengatasi *Missing Value*"
   ]
  },
  {
   "cell_type": "code",
   "execution_count": 37,
   "id": "c8602447",
   "metadata": {},
   "outputs": [
    {
     "data": {
      "text/html": [
       "<div>\n",
       "<style scoped>\n",
       "    .dataframe tbody tr th:only-of-type {\n",
       "        vertical-align: middle;\n",
       "    }\n",
       "\n",
       "    .dataframe tbody tr th {\n",
       "        vertical-align: top;\n",
       "    }\n",
       "\n",
       "    .dataframe thead th {\n",
       "        text-align: right;\n",
       "    }\n",
       "</style>\n",
       "<table border=\"1\" class=\"dataframe\">\n",
       "  <thead>\n",
       "    <tr style=\"text-align: right;\">\n",
       "      <th></th>\n",
       "      <th>count</th>\n",
       "      <th>percent_total</th>\n",
       "    </tr>\n",
       "  </thead>\n",
       "  <tbody>\n",
       "    <tr>\n",
       "      <th>internet_service</th>\n",
       "      <td>1520</td>\n",
       "      <td>21.62%</td>\n",
       "    </tr>\n",
       "    <tr>\n",
       "      <th>online_security</th>\n",
       "      <td>1520</td>\n",
       "      <td>21.62%</td>\n",
       "    </tr>\n",
       "    <tr>\n",
       "      <th>online_backup</th>\n",
       "      <td>1520</td>\n",
       "      <td>21.62%</td>\n",
       "    </tr>\n",
       "    <tr>\n",
       "      <th>device_protection</th>\n",
       "      <td>1520</td>\n",
       "      <td>21.62%</td>\n",
       "    </tr>\n",
       "    <tr>\n",
       "      <th>tech_support</th>\n",
       "      <td>1520</td>\n",
       "      <td>21.62%</td>\n",
       "    </tr>\n",
       "    <tr>\n",
       "      <th>streaming_tv</th>\n",
       "      <td>1520</td>\n",
       "      <td>21.62%</td>\n",
       "    </tr>\n",
       "    <tr>\n",
       "      <th>streaming_movies</th>\n",
       "      <td>1520</td>\n",
       "      <td>21.62%</td>\n",
       "    </tr>\n",
       "    <tr>\n",
       "      <th>multiple_lines</th>\n",
       "      <td>680</td>\n",
       "      <td>9.67%</td>\n",
       "    </tr>\n",
       "  </tbody>\n",
       "</table>\n",
       "</div>"
      ],
      "text/plain": [
       "                   count percent_total\n",
       "internet_service    1520        21.62%\n",
       "online_security     1520        21.62%\n",
       "online_backup       1520        21.62%\n",
       "device_protection   1520        21.62%\n",
       "tech_support        1520        21.62%\n",
       "streaming_tv        1520        21.62%\n",
       "streaming_movies    1520        21.62%\n",
       "multiple_lines       680         9.67%"
      ]
     },
     "execution_count": 37,
     "metadata": {},
     "output_type": "execute_result"
    }
   ],
   "source": [
    "# tabel missing value report\n",
    "missing_df = missing_report(final_df)\n",
    "missing_df = missing_df.query('count > 0')\n",
    "missing_df"
   ]
  },
  {
   "cell_type": "markdown",
   "id": "c82f7b97",
   "metadata": {},
   "source": [
    "### Kolom `internet_service`"
   ]
  },
  {
   "cell_type": "markdown",
   "id": "d3253818",
   "metadata": {},
   "source": [
    "Hal yang pertama dilakukan adalah memeriksa nilai pada kolom `internet_service`."
   ]
  },
  {
   "cell_type": "code",
   "execution_count": 38,
   "id": "3de51efa",
   "metadata": {},
   "outputs": [
    {
     "data": {
      "text/plain": [
       "internet_service\n",
       "Fiber optic    3096\n",
       "DSL            2416\n",
       "NaN            1520\n",
       "Name: count, dtype: int64"
      ]
     },
     "execution_count": 38,
     "metadata": {},
     "output_type": "execute_result"
    }
   ],
   "source": [
    "# memeriksa value pada kolom internet_service\n",
    "final_df['internet_service'].value_counts(dropna=False)"
   ]
  },
  {
   "cell_type": "markdown",
   "id": "4bb4a328",
   "metadata": {},
   "source": [
    "1. Kolom `internet_service` memiliki hanya tiga nilai unik: 'DSL', 'Fiber optic', dan NaN.\n",
    "2. Nilai NaN dalam kolom `internet_service` muncul saat proses penggabungan data.\n",
    "3. Dengan kata lain, nilai NaN menunjukkan bahwa pelanggan tidak menggunakan layanan internet.\n",
    "\n",
    "Karena kita berasumsi nilai yang hilang merupakan data pelanggan yang tidak menggunakan layanan internet, untuk itu kita mengisi nilai yang hilang dengan nilai `No internet service`."
   ]
  },
  {
   "cell_type": "code",
   "execution_count": 39,
   "id": "6d2cf6b9",
   "metadata": {},
   "outputs": [],
   "source": [
    "# mengisi nilai yang hilang setelah mengambil keputusan\n",
    "final_df['internet_service'] = final_df['internet_service'].fillna('No internet Service')"
   ]
  },
  {
   "cell_type": "code",
   "execution_count": 40,
   "id": "d34cad32",
   "metadata": {},
   "outputs": [
    {
     "data": {
      "text/plain": [
       "internet_service\n",
       "Fiber optic            3096\n",
       "DSL                    2416\n",
       "No internet Service    1520\n",
       "Name: count, dtype: int64"
      ]
     },
     "execution_count": 40,
     "metadata": {},
     "output_type": "execute_result"
    }
   ],
   "source": [
    "# crosscheck hasil akhir\n",
    "final_df.internet_service.value_counts(dropna=False)"
   ]
  },
  {
   "cell_type": "markdown",
   "id": "f875c093",
   "metadata": {},
   "source": [
    "**Memeriksa nilai yang hilang pada kolom yang tersisa**\n"
   ]
  },
  {
   "cell_type": "code",
   "execution_count": 41,
   "id": "f03fa7b2",
   "metadata": {},
   "outputs": [
    {
     "data": {
      "text/plain": [
       "2200"
      ]
     },
     "execution_count": 41,
     "metadata": {},
     "output_type": "execute_result"
    }
   ],
   "source": [
    "# memfilter kolom yang terdapat missing value\n",
    "columns_to_check = ['online_security', 'online_backup', 'device_protection', 'tech_support', 'streaming_tv', 'streaming_movies', 'multiple_lines']\n",
    "\n",
    "os_missing = final_df[final_df[columns_to_check].isnull().any(axis=1)]\n",
    "len(os_missing)"
   ]
  },
  {
   "cell_type": "code",
   "execution_count": 42,
   "id": "abc447fb",
   "metadata": {},
   "outputs": [
    {
     "data": {
      "text/html": [
       "<div>\n",
       "<style scoped>\n",
       "    .dataframe tbody tr th:only-of-type {\n",
       "        vertical-align: middle;\n",
       "    }\n",
       "\n",
       "    .dataframe tbody tr th {\n",
       "        vertical-align: top;\n",
       "    }\n",
       "\n",
       "    .dataframe thead th {\n",
       "        text-align: right;\n",
       "    }\n",
       "</style>\n",
       "<table border=\"1\" class=\"dataframe\">\n",
       "  <thead>\n",
       "    <tr style=\"text-align: right;\">\n",
       "      <th></th>\n",
       "      <th>columns</th>\n",
       "      <th>number_unique</th>\n",
       "      <th>unique_value</th>\n",
       "      <th>length</th>\n",
       "    </tr>\n",
       "  </thead>\n",
       "  <tbody>\n",
       "    <tr>\n",
       "      <th>0</th>\n",
       "      <td>online_security</td>\n",
       "      <td>2</td>\n",
       "      <td>[No, Yes, nan]</td>\n",
       "      <td>2200</td>\n",
       "    </tr>\n",
       "    <tr>\n",
       "      <th>1</th>\n",
       "      <td>online_backup</td>\n",
       "      <td>2</td>\n",
       "      <td>[Yes, No, nan]</td>\n",
       "      <td>2200</td>\n",
       "    </tr>\n",
       "    <tr>\n",
       "      <th>2</th>\n",
       "      <td>device_protection</td>\n",
       "      <td>2</td>\n",
       "      <td>[No, Yes, nan]</td>\n",
       "      <td>2200</td>\n",
       "    </tr>\n",
       "    <tr>\n",
       "      <th>3</th>\n",
       "      <td>tech_support</td>\n",
       "      <td>2</td>\n",
       "      <td>[No, Yes, nan]</td>\n",
       "      <td>2200</td>\n",
       "    </tr>\n",
       "    <tr>\n",
       "      <th>4</th>\n",
       "      <td>streaming_tv</td>\n",
       "      <td>2</td>\n",
       "      <td>[No, nan, Yes]</td>\n",
       "      <td>2200</td>\n",
       "    </tr>\n",
       "    <tr>\n",
       "      <th>5</th>\n",
       "      <td>streaming_movies</td>\n",
       "      <td>2</td>\n",
       "      <td>[No, nan, Yes]</td>\n",
       "      <td>2200</td>\n",
       "    </tr>\n",
       "    <tr>\n",
       "      <th>6</th>\n",
       "      <td>multiple_lines</td>\n",
       "      <td>2</td>\n",
       "      <td>[nan, No, Yes]</td>\n",
       "      <td>2200</td>\n",
       "    </tr>\n",
       "  </tbody>\n",
       "</table>\n",
       "</div>"
      ],
      "text/plain": [
       "             columns  number_unique    unique_value  length\n",
       "0  online_security    2              [No, Yes, nan]  2200  \n",
       "1  online_backup      2              [Yes, No, nan]  2200  \n",
       "2  device_protection  2              [No, Yes, nan]  2200  \n",
       "3  tech_support       2              [No, Yes, nan]  2200  \n",
       "4  streaming_tv       2              [No, nan, Yes]  2200  \n",
       "5  streaming_movies   2              [No, nan, Yes]  2200  \n",
       "6  multiple_lines     2              [nan, No, Yes]  2200  "
      ]
     },
     "execution_count": 42,
     "metadata": {},
     "output_type": "execute_result"
    }
   ],
   "source": [
    "# mengatur ukuran tabel\n",
    "pd.set_option('display.max_colwidth', 1)\n",
    "\n",
    "# list untuk menampung item\n",
    "list_item = []\n",
    "\n",
    "for col in columns_to_check:\n",
    "    list_item.append([col, os_missing[col].nunique(), os_missing[col].unique(), len(os_missing[col])])\n",
    "    \n",
    "# membuat tabel unique\n",
    "unique_table_info = pd.DataFrame(list_item, columns=['columns', 'number_unique', 'unique_value', 'length'])\n",
    "# menampilkan tabel unique\n",
    "unique_table_info"
   ]
  },
  {
   "cell_type": "markdown",
   "id": "f913cece",
   "metadata": {},
   "source": [
    "**Kesimpulan**\n",
    "\n",
    "Setelah diperiksa ternyata ke-7 kolom tersebut merupakan *data nominal* dimana nilainya hanya berisi `Yes` dan `No`. Kemudian data yang hilang ini muncul pada saat kita menggabungkan keseluruhan dataset. Kita bisa berasumsi bahwa `2208` data dengan nilai yang hilang tidak menggunakan ke-7 layanan tersebut. Untuk itu kita dapat mengisi nilai yang hilang dengan `No`."
   ]
  },
  {
   "cell_type": "markdown",
   "id": "d4723901",
   "metadata": {},
   "source": [
    "### Kolom `online_security`, `online_backup`, `device_protection`, `tech_support`, `streaming_tv`, `streaming_movies`, `multiple_lines`."
   ]
  },
  {
   "cell_type": "code",
   "execution_count": 43,
   "id": "a4d40e76",
   "metadata": {},
   "outputs": [],
   "source": [
    "# mengisi nilai yang hilang ke-7 kolom \n",
    "final_df[columns_to_check] = final_df[columns_to_check].fillna('No')\n"
   ]
  },
  {
   "cell_type": "code",
   "execution_count": 44,
   "id": "ea485d25",
   "metadata": {},
   "outputs": [
    {
     "data": {
      "text/html": [
       "<div>\n",
       "<style scoped>\n",
       "    .dataframe tbody tr th:only-of-type {\n",
       "        vertical-align: middle;\n",
       "    }\n",
       "\n",
       "    .dataframe tbody tr th {\n",
       "        vertical-align: top;\n",
       "    }\n",
       "\n",
       "    .dataframe thead th {\n",
       "        text-align: right;\n",
       "    }\n",
       "</style>\n",
       "<table border=\"1\" class=\"dataframe\">\n",
       "  <thead>\n",
       "    <tr style=\"text-align: right;\">\n",
       "      <th></th>\n",
       "      <th>count</th>\n",
       "      <th>percent_total</th>\n",
       "    </tr>\n",
       "  </thead>\n",
       "  <tbody>\n",
       "    <tr>\n",
       "      <th>customer_id</th>\n",
       "      <td>0</td>\n",
       "      <td>0.0%</td>\n",
       "    </tr>\n",
       "    <tr>\n",
       "      <th>type</th>\n",
       "      <td>0</td>\n",
       "      <td>0.0%</td>\n",
       "    </tr>\n",
       "    <tr>\n",
       "      <th>paperless_billing</th>\n",
       "      <td>0</td>\n",
       "      <td>0.0%</td>\n",
       "    </tr>\n",
       "    <tr>\n",
       "      <th>payment_method</th>\n",
       "      <td>0</td>\n",
       "      <td>0.0%</td>\n",
       "    </tr>\n",
       "    <tr>\n",
       "      <th>monthly_charges</th>\n",
       "      <td>0</td>\n",
       "      <td>0.0%</td>\n",
       "    </tr>\n",
       "    <tr>\n",
       "      <th>total_charges</th>\n",
       "      <td>0</td>\n",
       "      <td>0.0%</td>\n",
       "    </tr>\n",
       "    <tr>\n",
       "      <th>gender</th>\n",
       "      <td>0</td>\n",
       "      <td>0.0%</td>\n",
       "    </tr>\n",
       "    <tr>\n",
       "      <th>senior_citizen</th>\n",
       "      <td>0</td>\n",
       "      <td>0.0%</td>\n",
       "    </tr>\n",
       "    <tr>\n",
       "      <th>partner</th>\n",
       "      <td>0</td>\n",
       "      <td>0.0%</td>\n",
       "    </tr>\n",
       "    <tr>\n",
       "      <th>dependents</th>\n",
       "      <td>0</td>\n",
       "      <td>0.0%</td>\n",
       "    </tr>\n",
       "    <tr>\n",
       "      <th>internet_service</th>\n",
       "      <td>0</td>\n",
       "      <td>0.0%</td>\n",
       "    </tr>\n",
       "    <tr>\n",
       "      <th>online_security</th>\n",
       "      <td>0</td>\n",
       "      <td>0.0%</td>\n",
       "    </tr>\n",
       "    <tr>\n",
       "      <th>online_backup</th>\n",
       "      <td>0</td>\n",
       "      <td>0.0%</td>\n",
       "    </tr>\n",
       "    <tr>\n",
       "      <th>device_protection</th>\n",
       "      <td>0</td>\n",
       "      <td>0.0%</td>\n",
       "    </tr>\n",
       "    <tr>\n",
       "      <th>tech_support</th>\n",
       "      <td>0</td>\n",
       "      <td>0.0%</td>\n",
       "    </tr>\n",
       "    <tr>\n",
       "      <th>streaming_tv</th>\n",
       "      <td>0</td>\n",
       "      <td>0.0%</td>\n",
       "    </tr>\n",
       "    <tr>\n",
       "      <th>streaming_movies</th>\n",
       "      <td>0</td>\n",
       "      <td>0.0%</td>\n",
       "    </tr>\n",
       "    <tr>\n",
       "      <th>multiple_lines</th>\n",
       "      <td>0</td>\n",
       "      <td>0.0%</td>\n",
       "    </tr>\n",
       "    <tr>\n",
       "      <th>churn</th>\n",
       "      <td>0</td>\n",
       "      <td>0.0%</td>\n",
       "    </tr>\n",
       "  </tbody>\n",
       "</table>\n",
       "</div>"
      ],
      "text/plain": [
       "                   count percent_total\n",
       "customer_id        0      0.0%        \n",
       "type               0      0.0%        \n",
       "paperless_billing  0      0.0%        \n",
       "payment_method     0      0.0%        \n",
       "monthly_charges    0      0.0%        \n",
       "total_charges      0      0.0%        \n",
       "gender             0      0.0%        \n",
       "senior_citizen     0      0.0%        \n",
       "partner            0      0.0%        \n",
       "dependents         0      0.0%        \n",
       "internet_service   0      0.0%        \n",
       "online_security    0      0.0%        \n",
       "online_backup      0      0.0%        \n",
       "device_protection  0      0.0%        \n",
       "tech_support       0      0.0%        \n",
       "streaming_tv       0      0.0%        \n",
       "streaming_movies   0      0.0%        \n",
       "multiple_lines     0      0.0%        \n",
       "churn              0      0.0%        "
      ]
     },
     "execution_count": 44,
     "metadata": {},
     "output_type": "execute_result"
    }
   ],
   "source": [
    "# memeriksa hasil akhir apakah masih terdapat nilai yang hilang ?\n",
    "missing_report(final_df)"
   ]
  },
  {
   "cell_type": "markdown",
   "id": "d03680c2",
   "metadata": {},
   "source": [
    "# Exploratory Data Analysis (EDA)"
   ]
  },
  {
   "cell_type": "markdown",
   "id": "2444184d",
   "metadata": {},
   "source": [
    "## Distribusi kolom numerical\n",
    "\n",
    "Pada tahap awal yang dilakukan adalah mengecek distribusi dari kolom `monthly_charges` dan `total_charges` apakah data tersebut terdistribusi secara normal atau tidak. Kita akan menguji hipotesis menggunakan *normaltest*."
   ]
  },
  {
   "cell_type": "code",
   "execution_count": 45,
   "id": "80f42ff3",
   "metadata": {},
   "outputs": [
    {
     "data": {
      "text/plain": [
       "<Figure size 2000x800 with 0 Axes>"
      ]
     },
     "metadata": {},
     "output_type": "display_data"
    },
    {
     "data": {
      "image/png": "[encoded data removed]",
      "text/plain": [
       "<Figure size 750x500 with 2 Axes>"
      ]
     },
     "metadata": {},
     "output_type": "display_data"
    },
    {
     "data": {
      "image/png": "[encoded data removed]",
      "text/plain": [
       "<Figure size 750x500 with 2 Axes>"
      ]
     },
     "metadata": {},
     "output_type": "display_data"
    }
   ],
   "source": [
    "# menguji hipotesis mengguunakan normaltest untuk melihat distribusi dari kolom tersebut\n",
    "plt.figure(figsize=(20,8))\n",
    "for c in ['monthly_charges','total_charges']:\n",
    "    fix, (ax1, ax2) = plt.subplots(2, sharex=True, figsize=(7.5, 5),\n",
    "                                   gridspec_kw={'height_ratios': (.15, .85),\n",
    "                                               'hspace': .05}\n",
    "                                  )\n",
    "    \n",
    "    stat, pvalue = st.normaltest(final_df[c])\n",
    "    \n",
    "    alpha = .05 # alpha 5%\n",
    "    if pvalue < alpha:\n",
    "        distribution = f'p-value: {pvalue} - Data tidak terdistribusi normal'\n",
    "    else:\n",
    "        distribution = f'p-value: {pvalue} - Data terdistribusi normal'\n",
    "        \n",
    "    ax1.set_title(f'Distribusi kolom {c}\\n{distribution}', size=14)\n",
    "    sns.boxplot(x=final_df[c], ax=ax1)\n",
    "    ax1.set(xlabel='')\n",
    "    #\n",
    "    sns.histplot(data=final_df[c], stat='count', kde=True, ax=ax2, bins=50)\n",
    "    plt.show()"
   ]
  },
  {
   "cell_type": "markdown",
   "id": "3dd9bc74",
   "metadata": {},
   "source": [
    "**Kesimpulan**\n",
    "\n",
    "Tidak satupun dari kedua kolom numerik diatas terdistribusi secara normal dan bisa dipastikan bahwa kolom numerical yang dimiliki dataset ini tidak mempunyai outlier sedikitpun."
   ]
  },
  {
   "cell_type": "markdown",
   "id": "f3f00230",
   "metadata": {},
   "source": [
    "## Distribusi kolom categorical"
   ]
  },
  {
   "cell_type": "code",
   "execution_count": 46,
   "id": "628b1384",
   "metadata": {
    "scrolled": false
   },
   "outputs": [
    {
     "data": {
      "image/png": "[encoded data removed]",
      "text/plain": [
       "<Figure size 2000x2000 with 14 Axes>"
      ]
     },
     "metadata": {},
     "output_type": "display_data"
    }
   ],
   "source": [
    "# nama-nama kolom kategorik\n",
    "cat_cols = final_df.describe(include='object').columns.drop('customer_id')\n",
    "#\n",
    "fig, axes = plt.subplots(7, 2, figsize=(20, 20)) \n",
    "for i, j in zip(cat_cols, axes.flatten()):\n",
    "    ax = sns.countplot(data=final_df, y= i, ax= j, order=final_df[i].value_counts().index)\n",
    "    ax.set_title(f'{i}',size = 15) \n",
    "plt.tight_layout()\n",
    "plt.show()"
   ]
  },
  {
   "cell_type": "markdown",
   "id": "6be95f89",
   "metadata": {},
   "source": [
    "**Insight**\n",
    "\n",
    "Berdasarkan distribusi dari kolom categorical, distribusi pelanggan yang tidak menggunakan layanan yang disediakan oleh perusahaan terbilang cukup banyak dari pada yang penggunakan, hal ini bisa dilihat pada distribusi kolom berikut:\n",
    "- online_backup\n",
    "- tech_support\n",
    "- streaming_movies\n",
    "- online_security\n",
    "- device_protection\n",
    "- streaming_tv\n",
    "\n",
    "Kemudian pelanggan umunya lebih memilih kontrak/langganan terhadap perusahaan dengan kategori `bulan ke bulan` atau `Month to month` dibandingkan kontrak yang lainnya. Lalu untuk metode pembayaran pelanggan umumnya menggunakan `electronic check`. "
   ]
  },
  {
   "cell_type": "markdown",
   "id": "734693f3",
   "metadata": {},
   "source": [
    "## Analisis Terhadap Pelanggan Churn atau Tidak"
   ]
  },
  {
   "cell_type": "code",
   "execution_count": 47,
   "id": "57654867",
   "metadata": {},
   "outputs": [],
   "source": [
    "# Filter data untuk Churn dan Not Churn\n",
    "churn_data = final_df.query('churn == 1')\n",
    "not_churn_data = final_df.query('churn == 0')"
   ]
  },
  {
   "cell_type": "markdown",
   "id": "d9094697",
   "metadata": {},
   "source": [
    "### Analisis Berdasarkan Tagihan Bulanan"
   ]
  },
  {
   "cell_type": "code",
   "execution_count": 48,
   "id": "8177f8c6",
   "metadata": {},
   "outputs": [
    {
     "data": {
      "image/png": "[encoded data removed]",
      "text/plain": [
       "<Figure size 800x600 with 1 Axes>"
      ]
     },
     "metadata": {},
     "output_type": "display_data"
    }
   ],
   "source": [
    "# Visualisasi untuk distribusi monthly charges\n",
    "plt.figure(figsize=(8, 6))\n",
    "sns.histplot(churn_data['monthly_charges'], color='red', label='Churn', kde=True, bins=100)\n",
    "sns.histplot(not_churn_data['monthly_charges'], color='blue', label='Not Churn', kde=True, bins=100)\n",
    "\n",
    "plt.title('Distribusi Monthly Charge Berdasarkan Churn')\n",
    "plt.xlabel('Monthly Charge')\n",
    "plt.ylabel('Frequency')\n",
    "plt.legend()\n",
    "plt.show()"
   ]
  },
  {
   "cell_type": "markdown",
   "id": "c105923e",
   "metadata": {},
   "source": [
    "Berdasarkan distribusi diatas, kita dapat menyimpulkan hampir tidak ada perbedaan dalam distribusi tagihan bulanan antara pelanggan yang churn dan tidak semuanya dimulai dari 18dollar hingga 120dollar dan semuanya memiliki sebaran data yang hampir sama.\n",
    "\n",
    "**ex perbedaan:** distribusi pelanggan yang churn dimulai dari tagihan sebesar 80dollar hingga 120dollar sedangkan pelanggan yang tidak dimulai dari 18dollar hingga 120dollar."
   ]
  },
  {
   "cell_type": "markdown",
   "id": "48f7ed49",
   "metadata": {},
   "source": [
    "### Analisis Berdasarkan Type Kontrak"
   ]
  },
  {
   "cell_type": "code",
   "execution_count": 49,
   "id": "18a07a40",
   "metadata": {},
   "outputs": [
    {
     "data": {
      "image/png": "[encoded data removed]",
      "text/plain": [
       "<Figure size 800x500 with 1 Axes>"
      ]
     },
     "metadata": {},
     "output_type": "display_data"
    }
   ],
   "source": [
    "plt.figure(figsize=(8,5))\n",
    "ax = sns.countplot(data=final_df, y='type', hue='churn', saturation=.5)\n",
    "\n",
    "for container in ax.containers:\n",
    "    ax.bar_label(container)\n",
    "    \n",
    "plt.xlim(0, 2400)\n",
    "plt.xlabel('')\n",
    "plt.ylabel('')\n",
    "plt.yticks(rotation=65)\n",
    "plt.title('Distribusi Jenis Kontrak Berdasarkan Churn')\n",
    "plt.savefig('img/contract.png')\n",
    "plt.show()\n"
   ]
  },
  {
   "cell_type": "code",
   "execution_count": 50,
   "id": "3a571741",
   "metadata": {},
   "outputs": [
    {
     "data": {
      "text/html": [
       "<div>\n",
       "<style scoped>\n",
       "    .dataframe tbody tr th:only-of-type {\n",
       "        vertical-align: middle;\n",
       "    }\n",
       "\n",
       "    .dataframe tbody tr th {\n",
       "        vertical-align: top;\n",
       "    }\n",
       "\n",
       "    .dataframe thead th {\n",
       "        text-align: right;\n",
       "    }\n",
       "</style>\n",
       "<table border=\"1\" class=\"dataframe\">\n",
       "  <thead>\n",
       "    <tr style=\"text-align: right;\">\n",
       "      <th></th>\n",
       "      <th>type</th>\n",
       "      <th>churn</th>\n",
       "      <th>count</th>\n",
       "    </tr>\n",
       "  </thead>\n",
       "  <tbody>\n",
       "    <tr>\n",
       "      <th>0</th>\n",
       "      <td>Month-to-month</td>\n",
       "      <td>0</td>\n",
       "      <td>2220</td>\n",
       "    </tr>\n",
       "    <tr>\n",
       "      <th>1</th>\n",
       "      <td>Month-to-month</td>\n",
       "      <td>1</td>\n",
       "      <td>1655</td>\n",
       "    </tr>\n",
       "    <tr>\n",
       "      <th>2</th>\n",
       "      <td>One year</td>\n",
       "      <td>0</td>\n",
       "      <td>1306</td>\n",
       "    </tr>\n",
       "    <tr>\n",
       "      <th>3</th>\n",
       "      <td>One year</td>\n",
       "      <td>1</td>\n",
       "      <td>166</td>\n",
       "    </tr>\n",
       "    <tr>\n",
       "      <th>4</th>\n",
       "      <td>Two year</td>\n",
       "      <td>0</td>\n",
       "      <td>1637</td>\n",
       "    </tr>\n",
       "    <tr>\n",
       "      <th>5</th>\n",
       "      <td>Two year</td>\n",
       "      <td>1</td>\n",
       "      <td>48</td>\n",
       "    </tr>\n",
       "  </tbody>\n",
       "</table>\n",
       "</div>"
      ],
      "text/plain": [
       "             type  churn  count\n",
       "0  Month-to-month  0      2220 \n",
       "1  Month-to-month  1      1655 \n",
       "2  One year        0      1306 \n",
       "3  One year        1      166  \n",
       "4  Two year        0      1637 \n",
       "5  Two year        1      48   "
      ]
     },
     "execution_count": 50,
     "metadata": {},
     "output_type": "execute_result"
    }
   ],
   "source": [
    "final_df.groupby(['type','churn'])['type'].value_counts().reset_index()"
   ]
  },
  {
   "cell_type": "markdown",
   "id": "b5c76e28",
   "metadata": {},
   "source": [
    "**Insight**\n",
    "\n",
    "Dari sini kita dapat kesimpulan bahwa pelanggan yang `churn` rata-rata hanya mengambil jenis langganan / kontrak `month-to-month`. Mungkin akan lebih baik jika perusahaan mencoba melakukan promo dan kampanye untuk jenis kontrak 1 tahun dan 2 tahun sehingga akan menarik lebih banyak pelanggan yang menggunakan jenis kontrak tersebut dan mungkin dapat meminimalisir tingkat `churn` berdasarkan jenis kontrak. "
   ]
  },
  {
   "cell_type": "markdown",
   "id": "68bbe1d3",
   "metadata": {},
   "source": [
    "### Analisis Berdasarkan Kategori Usia Nasabah"
   ]
  },
  {
   "cell_type": "markdown",
   "id": "7bc7c056",
   "metadata": {},
   "source": [
    "Pada kolom `senior_citizen` kita mengetahui bahwa apakah nasabah berusia lanjut atau tidak (`1` = `Ya` dan `0` = `Tidak`). Kita akan coba lihat distribusi dari kolom ini berdasarkan pelanggan yang churn dan tidak."
   ]
  },
  {
   "cell_type": "code",
   "execution_count": 51,
   "id": "b61bd37b",
   "metadata": {},
   "outputs": [
    {
     "data": {
      "image/png": "[encoded data removed]",
      "text/plain": [
       "<Figure size 800x500 with 1 Axes>"
      ]
     },
     "metadata": {},
     "output_type": "display_data"
    }
   ],
   "source": [
    "plt.figure(figsize=(8,5))\n",
    "ax = sns.countplot(data=final_df, y='senior_citizen', hue='churn')\n",
    "\n",
    "for container in ax.containers:\n",
    "    ax.bar_label(container)\n",
    "    \n",
    "plt.xlim(0, 5000)\n",
    "plt.xlabel('')\n",
    "plt.ylabel('')\n",
    "plt.title('Distribusi Pelanggan Usia Tingkat Lanjut Berdasarkan Churn')\n",
    "plt.show()"
   ]
  },
  {
   "cell_type": "markdown",
   "id": "84a8015f",
   "metadata": {},
   "source": [
    "Sepertinya pada kategori ini tidak terdapat pola yang khusus terhadap pelanggan yang churn."
   ]
  },
  {
   "cell_type": "markdown",
   "id": "ca266ea7",
   "metadata": {},
   "source": [
    "### Analisis Berdasarkan Kategori Tanggungan Nasabah"
   ]
  },
  {
   "cell_type": "markdown",
   "id": "9ce9162e",
   "metadata": {},
   "source": [
    "Kemudian pada kolom `dependents` kita mengetahui bahwa kolom ini mempunyai informasi apakah pelanggan mempunyai tanggungan (`Yes`) atau tidak (`No`). Kita akan melihat apakah pelanggan yang `churn` mempunyai distribusi yang lebih banyak untuk kategori pelanggan yang mempunyai tanggungan (`Yes`)."
   ]
  },
  {
   "cell_type": "code",
   "execution_count": 52,
   "id": "1dd71673",
   "metadata": {},
   "outputs": [
    {
     "data": {
      "image/png": "[encoded data removed]",
      "text/plain": [
       "<Figure size 800x500 with 1 Axes>"
      ]
     },
     "metadata": {},
     "output_type": "display_data"
    }
   ],
   "source": [
    "plt.figure(figsize=(8,5))\n",
    "ax = sns.countplot(data=final_df, y='dependents', hue='churn')\n",
    "\n",
    "for container in ax.containers:\n",
    "    ax.bar_label(container)\n",
    "    \n",
    "plt.xlim(0, 5000)\n",
    "plt.xlabel('')\n",
    "plt.ylabel('')\n",
    "plt.title('Distribusi Pelanggan Usia Tingkat Lanjut Berdasarkan Churn')\n",
    "plt.show()"
   ]
  },
  {
   "cell_type": "markdown",
   "id": "5f20c36c",
   "metadata": {},
   "source": [
    "Berdasarkan tabel distribusi diatas kita tidak bisa menyimpulkan bahwa pelanggan yang `churn` adalah pelanggan yang mempunyai tanggungan (`Yes`). Dari data diatas dapat dilihat bahwa pelanggan yang `churn` memiliki distribusi lebih banyak untuk kategori pelanggan yang tidak mempunyai tanggungan (`No`)."
   ]
  },
  {
   "cell_type": "markdown",
   "id": "c13b974d",
   "metadata": {},
   "source": [
    "## Menguji Hipotesis"
   ]
  },
  {
   "cell_type": "markdown",
   "id": "b0d1c941",
   "metadata": {},
   "source": [
    "Kita akan menguji hipotesis berikut ini:\n",
    "- h0 = Tidak terdapat perbedaan jumlah layanan yang digunakan antara pelanggan yang churn dan tidak\n",
    "- h1 = Terdapat perbedaan jumlah layanan yang digunakan antara pelanggan yang churn dan tidak\n",
    "\n",
    "Sebelum menguji hipotesis, kita perlu menjumlahkan total layanan (service) yang digunakan oleh setiap pelanggan."
   ]
  },
  {
   "cell_type": "code",
   "execution_count": 53,
   "id": "da62aaaa",
   "metadata": {},
   "outputs": [],
   "source": [
    "col_names = ['customer_id','online_backup','tech_support','streaming_movies','online_security'\\\n",
    "                ,'device_protection','streaming_tv']"
   ]
  },
  {
   "cell_type": "code",
   "execution_count": 54,
   "id": "1c310ff3",
   "metadata": {},
   "outputs": [
    {
     "data": {
      "text/html": [
       "<div>\n",
       "<style scoped>\n",
       "    .dataframe tbody tr th:only-of-type {\n",
       "        vertical-align: middle;\n",
       "    }\n",
       "\n",
       "    .dataframe tbody tr th {\n",
       "        vertical-align: top;\n",
       "    }\n",
       "\n",
       "    .dataframe thead th {\n",
       "        text-align: right;\n",
       "    }\n",
       "</style>\n",
       "<table border=\"1\" class=\"dataframe\">\n",
       "  <thead>\n",
       "    <tr style=\"text-align: right;\">\n",
       "      <th></th>\n",
       "      <th>customer_id</th>\n",
       "      <th>online_backup</th>\n",
       "      <th>tech_support</th>\n",
       "      <th>streaming_movies</th>\n",
       "      <th>online_security</th>\n",
       "      <th>device_protection</th>\n",
       "      <th>streaming_tv</th>\n",
       "      <th>total_services</th>\n",
       "      <th>churn</th>\n",
       "    </tr>\n",
       "  </thead>\n",
       "  <tbody>\n",
       "    <tr>\n",
       "      <th>4358</th>\n",
       "      <td>4737-HOBAX</td>\n",
       "      <td>0</td>\n",
       "      <td>1</td>\n",
       "      <td>1</td>\n",
       "      <td>0</td>\n",
       "      <td>1</td>\n",
       "      <td>1</td>\n",
       "      <td>4</td>\n",
       "      <td>0</td>\n",
       "    </tr>\n",
       "    <tr>\n",
       "      <th>4898</th>\n",
       "      <td>8639-NHQEI</td>\n",
       "      <td>1</td>\n",
       "      <td>0</td>\n",
       "      <td>0</td>\n",
       "      <td>1</td>\n",
       "      <td>0</td>\n",
       "      <td>1</td>\n",
       "      <td>3</td>\n",
       "      <td>0</td>\n",
       "    </tr>\n",
       "    <tr>\n",
       "      <th>6880</th>\n",
       "      <td>7853-OETYL</td>\n",
       "      <td>0</td>\n",
       "      <td>0</td>\n",
       "      <td>0</td>\n",
       "      <td>1</td>\n",
       "      <td>0</td>\n",
       "      <td>0</td>\n",
       "      <td>1</td>\n",
       "      <td>0</td>\n",
       "    </tr>\n",
       "    <tr>\n",
       "      <th>5075</th>\n",
       "      <td>7136-IHZJA</td>\n",
       "      <td>1</td>\n",
       "      <td>1</td>\n",
       "      <td>1</td>\n",
       "      <td>1</td>\n",
       "      <td>0</td>\n",
       "      <td>0</td>\n",
       "      <td>4</td>\n",
       "      <td>0</td>\n",
       "    </tr>\n",
       "    <tr>\n",
       "      <th>2920</th>\n",
       "      <td>2931-XIQBR</td>\n",
       "      <td>0</td>\n",
       "      <td>1</td>\n",
       "      <td>1</td>\n",
       "      <td>0</td>\n",
       "      <td>1</td>\n",
       "      <td>1</td>\n",
       "      <td>4</td>\n",
       "      <td>0</td>\n",
       "    </tr>\n",
       "  </tbody>\n",
       "</table>\n",
       "</div>"
      ],
      "text/plain": [
       "     customer_id  online_backup  tech_support  streaming_movies  \\\n",
       "4358  4737-HOBAX  0              1             1                  \n",
       "4898  8639-NHQEI  1              0             0                  \n",
       "6880  7853-OETYL  0              0             0                  \n",
       "5075  7136-IHZJA  1              1             1                  \n",
       "2920  2931-XIQBR  0              1             1                  \n",
       "\n",
       "      online_security  device_protection  streaming_tv  total_services  churn  \n",
       "4358  0                1                  1             4               0      \n",
       "4898  1                0                  1             3               0      \n",
       "6880  1                0                  0             1               0      \n",
       "5075  1                0                  0             4               0      \n",
       "2920  0                1                  1             4               0      "
      ]
     },
     "execution_count": 54,
     "metadata": {},
     "output_type": "execute_result"
    }
   ],
   "source": [
    "new_df = final_df[col_names].replace({'Yes':1, 'No':0})\n",
    "\n",
    "# menambahkan kolom baru dengan menghitung jumlah layanan yang digunakan\n",
    "new_df['total_services'] = new_df.iloc[:, 1:7].sum(axis=1) \n",
    "# mendapatkan kolom churn\n",
    "new_df = new_df.merge(final_df[['customer_id','churn']], on='customer_id', how='left') \n",
    "new_df.sample(5)"
   ]
  },
  {
   "cell_type": "code",
   "execution_count": 55,
   "id": "1695b6a5",
   "metadata": {},
   "outputs": [],
   "source": [
    "# membagi data antara pelanggan yang churn dan tidak\n",
    "churn = new_df.query('churn == 1')\n",
    "not_churn = new_df.query('churn == 0')"
   ]
  },
  {
   "cell_type": "code",
   "execution_count": 56,
   "id": "11ba6c8f",
   "metadata": {},
   "outputs": [
    {
     "name": "stdout",
     "output_type": "stream",
     "text": [
      "Nilai U statistic: 4453265.5\n",
      "P-Value: 4.388242456432056e-07\n",
      "------------------------------\n",
      "H0 ditolak -> h1 diterima\n"
     ]
    }
   ],
   "source": [
    "# Melakukan uji Mann-Whitney U\n",
    "statistic, p_value = st.mannwhitneyu(churn['total_services'], \n",
    "                                     not_churn['total_services'], \n",
    "                                     alternative='two-sided')\n",
    "\n",
    "# Menampilkan hasil uji\n",
    "print(f\"Nilai U statistic: {statistic}\")\n",
    "print(f\"P-Value: {p_value}\")\n",
    "print(30*'-')\n",
    "\n",
    "# Menentukan tingkat signifikansi (contoh: alpha = 0.05)\n",
    "alpha = 0.05\n",
    "\n",
    "# Melakukan pengecekan apakah hasil uji signifikan atau tidak\n",
    "if p_value < alpha:\n",
    "    print(\"H0 ditolak -> h1 diterima\")\n",
    "else:\n",
    "    print(\"H0 diterima\")"
   ]
  },
  {
   "cell_type": "markdown",
   "id": "96cc7dcb",
   "metadata": {},
   "source": [
    "Berdasarkan hasil uji hipotesis kita dapat menolak h0. Artinya kita punya cukup bukti untuk mengatakan bahwa:\n",
    "**Terdapat perbedaan jumlah layanan yang digunakan antara pelanggan yang churn dan tidak**"
   ]
  },
  {
   "cell_type": "code",
   "execution_count": 57,
   "id": "1454de59",
   "metadata": {},
   "outputs": [
    {
     "data": {
      "image/png": "[encoded data removed]",
      "text/plain": [
       "<Figure size 640x480 with 1 Axes>"
      ]
     },
     "metadata": {},
     "output_type": "display_data"
    }
   ],
   "source": [
    "# distribusi total service berdasarkan kelompok churn dan tidak\n",
    "ax = sns.countplot(data=new_df, x='total_services', hue='churn')\n",
    "\n",
    "for container in ax.containers:\n",
    "    ax.bar_label(container)\n",
    "    \n",
    "plt.ylim(0, 2000)\n",
    "plt.title('Distribusi total service berdasarkan churn dan tidak')\n",
    "plt.show()"
   ]
  },
  {
   "cell_type": "code",
   "execution_count": 58,
   "id": "d3f8ef87",
   "metadata": {},
   "outputs": [
    {
     "data": {
      "text/html": [
       "<div>\n",
       "<style scoped>\n",
       "    .dataframe tbody tr th:only-of-type {\n",
       "        vertical-align: middle;\n",
       "    }\n",
       "\n",
       "    .dataframe tbody tr th {\n",
       "        vertical-align: top;\n",
       "    }\n",
       "\n",
       "    .dataframe thead th {\n",
       "        text-align: right;\n",
       "    }\n",
       "</style>\n",
       "<table border=\"1\" class=\"dataframe\">\n",
       "  <thead>\n",
       "    <tr style=\"text-align: right;\">\n",
       "      <th></th>\n",
       "      <th>customer_id</th>\n",
       "      <th>type</th>\n",
       "      <th>paperless_billing</th>\n",
       "      <th>payment_method</th>\n",
       "      <th>monthly_charges</th>\n",
       "      <th>total_charges</th>\n",
       "      <th>gender</th>\n",
       "      <th>senior_citizen</th>\n",
       "      <th>partner</th>\n",
       "      <th>dependents</th>\n",
       "      <th>internet_service</th>\n",
       "      <th>online_security</th>\n",
       "      <th>online_backup</th>\n",
       "      <th>device_protection</th>\n",
       "      <th>tech_support</th>\n",
       "      <th>streaming_tv</th>\n",
       "      <th>streaming_movies</th>\n",
       "      <th>multiple_lines</th>\n",
       "      <th>churn</th>\n",
       "      <th>total_services</th>\n",
       "    </tr>\n",
       "  </thead>\n",
       "  <tbody>\n",
       "    <tr>\n",
       "      <th>3930</th>\n",
       "      <td>5712-VBOXD</td>\n",
       "      <td>Month-to-month</td>\n",
       "      <td>Yes</td>\n",
       "      <td>Credit card (automatic)</td>\n",
       "      <td>20.15</td>\n",
       "      <td>68.45</td>\n",
       "      <td>Female</td>\n",
       "      <td>0</td>\n",
       "      <td>No</td>\n",
       "      <td>No</td>\n",
       "      <td>No internet Service</td>\n",
       "      <td>No</td>\n",
       "      <td>No</td>\n",
       "      <td>No</td>\n",
       "      <td>No</td>\n",
       "      <td>No</td>\n",
       "      <td>No</td>\n",
       "      <td>No</td>\n",
       "      <td>0</td>\n",
       "      <td>0</td>\n",
       "    </tr>\n",
       "  </tbody>\n",
       "</table>\n",
       "</div>"
      ],
      "text/plain": [
       "     customer_id            type paperless_billing           payment_method  \\\n",
       "3930  5712-VBOXD  Month-to-month  Yes               Credit card (automatic)   \n",
       "\n",
       "      monthly_charges  total_charges  gender  senior_citizen partner  \\\n",
       "3930  20.15            68.45          Female  0               No       \n",
       "\n",
       "     dependents     internet_service online_security online_backup  \\\n",
       "3930  No         No internet Service  No              No             \n",
       "\n",
       "     device_protection tech_support streaming_tv streaming_movies  \\\n",
       "3930  No                No           No           No                \n",
       "\n",
       "     multiple_lines  churn  total_services  \n",
       "3930  No             0      0               "
      ]
     },
     "execution_count": 58,
     "metadata": {},
     "output_type": "execute_result"
    }
   ],
   "source": [
    "# menambahkan kolom total service ke dataset penuh\n",
    "final_df = final_df.merge(new_df[['customer_id','total_services']], on='customer_id', how='left') \n",
    "# menyimpan ke csv\n",
    "final_df.to_csv('final_dataset.csv', index=False)\n",
    "final_df.sample()"
   ]
  },
  {
   "cell_type": "code",
   "execution_count": 59,
   "id": "d1cd0c73",
   "metadata": {},
   "outputs": [
    {
     "data": {
      "image/png": "[encoded data removed]",
      "text/plain": [
       "<Figure size 900x600 with 6 Axes>"
      ]
     },
     "metadata": {},
     "output_type": "display_data"
    }
   ],
   "source": [
    "# Visualisasi Hubungan Antara Total Biaya dan Biaya Bulanan Berdasarkan Tipe dan Churn Pelanggan\n",
    "i_service_facet = sns.FacetGrid(final_df, col='type', row='churn')\n",
    "\n",
    "i_service_facet.map(sns.scatterplot, 'monthly_charges', 'total_charges')\n",
    "plt.show()"
   ]
  },
  {
   "cell_type": "markdown",
   "id": "6d41575d",
   "metadata": {},
   "source": [
    "## Kesimpulan Tahap EDA"
   ]
  },
  {
   "cell_type": "markdown",
   "id": "f2410b0c",
   "metadata": {},
   "source": [
    "Setelah melakukan tahapan *Exploratory Data Analysis (EDA)* kita menemukan pola dan telah menguji hipotesis, kemudian ada beberapa kesimpulan yang bisa diambil dan mungkin bisa membantu perusahaan dalam mengambil keputusan untuk meminimalisir tingkat `churn` pelanggannya. Diantaranya yaitu:\n",
    "\n",
    "1. Pelanggan yang `churn` umumnya menggunakan jenis kontrak untuk langganan `month-to-month`.\n",
    "2. Semakin banyak pelanggan menggunakan layanan yang disediakan perusahaan, maka semakin sedikit pula pelanggan yang memilih untuk `churn`.\n",
    "\n",
    "Untuk itu akan lebih baik jika perusahaan mengambil langkah untuk kampanye dengan menarik pelanggannya menggunakan kontrak yang lebih dari sekedar `month-to-month` dan ajak pelanggan untuk menggunakan lebih banyak layanan (services) yang disediakan oleh perusahaan dengan memberikan promo atau sesuatu yang bisa membuat pelanggan tertarik. Jika hal ini dilakukan mungkin perusahaan bisa meminimalisir tingkat `churn` pelanggannya."
   ]
  },
  {
   "cell_type": "markdown",
   "id": "23257557",
   "metadata": {},
   "source": [
    "# Modeling"
   ]
  },
  {
   "cell_type": "markdown",
   "id": "ae41c259",
   "metadata": {},
   "source": [
    "## Data Preparation\n",
    "\n",
    "Sebelum masuk ke tahap transformasi data, kita akan melakukan pengecekan nilai untuk setiap kolom fitur kategorik. Hal ini dilakukan agar bisa menentukan encoding apa yang sesuai untuk dataset kita."
   ]
  },
  {
   "cell_type": "code",
   "execution_count": 60,
   "id": "1280db6c",
   "metadata": {},
   "outputs": [
    {
     "data": {
      "text/html": [
       "<div>\n",
       "<style scoped>\n",
       "    .dataframe tbody tr th:only-of-type {\n",
       "        vertical-align: middle;\n",
       "    }\n",
       "\n",
       "    .dataframe tbody tr th {\n",
       "        vertical-align: top;\n",
       "    }\n",
       "\n",
       "    .dataframe thead th {\n",
       "        text-align: right;\n",
       "    }\n",
       "</style>\n",
       "<table border=\"1\" class=\"dataframe\">\n",
       "  <thead>\n",
       "    <tr style=\"text-align: right;\">\n",
       "      <th></th>\n",
       "      <th>columns</th>\n",
       "      <th>number_unique</th>\n",
       "      <th>unique_value</th>\n",
       "    </tr>\n",
       "  </thead>\n",
       "  <tbody>\n",
       "    <tr>\n",
       "      <th>0</th>\n",
       "      <td>type</td>\n",
       "      <td>3</td>\n",
       "      <td>[Month-to-month, One year, Two year]</td>\n",
       "    </tr>\n",
       "    <tr>\n",
       "      <th>1</th>\n",
       "      <td>paperless_billing</td>\n",
       "      <td>2</td>\n",
       "      <td>[Yes, No]</td>\n",
       "    </tr>\n",
       "    <tr>\n",
       "      <th>2</th>\n",
       "      <td>payment_method</td>\n",
       "      <td>4</td>\n",
       "      <td>[Electronic check, Mailed check, Bank transfer (automatic), Credit card (automatic)]</td>\n",
       "    </tr>\n",
       "    <tr>\n",
       "      <th>3</th>\n",
       "      <td>gender</td>\n",
       "      <td>2</td>\n",
       "      <td>[Female, Male]</td>\n",
       "    </tr>\n",
       "    <tr>\n",
       "      <th>4</th>\n",
       "      <td>partner</td>\n",
       "      <td>2</td>\n",
       "      <td>[Yes, No]</td>\n",
       "    </tr>\n",
       "    <tr>\n",
       "      <th>5</th>\n",
       "      <td>dependents</td>\n",
       "      <td>2</td>\n",
       "      <td>[No, Yes]</td>\n",
       "    </tr>\n",
       "    <tr>\n",
       "      <th>6</th>\n",
       "      <td>internet_service</td>\n",
       "      <td>3</td>\n",
       "      <td>[DSL, Fiber optic, No internet Service]</td>\n",
       "    </tr>\n",
       "    <tr>\n",
       "      <th>7</th>\n",
       "      <td>online_security</td>\n",
       "      <td>2</td>\n",
       "      <td>[No, Yes]</td>\n",
       "    </tr>\n",
       "    <tr>\n",
       "      <th>8</th>\n",
       "      <td>online_backup</td>\n",
       "      <td>2</td>\n",
       "      <td>[Yes, No]</td>\n",
       "    </tr>\n",
       "    <tr>\n",
       "      <th>9</th>\n",
       "      <td>device_protection</td>\n",
       "      <td>2</td>\n",
       "      <td>[No, Yes]</td>\n",
       "    </tr>\n",
       "    <tr>\n",
       "      <th>10</th>\n",
       "      <td>tech_support</td>\n",
       "      <td>2</td>\n",
       "      <td>[No, Yes]</td>\n",
       "    </tr>\n",
       "    <tr>\n",
       "      <th>11</th>\n",
       "      <td>streaming_tv</td>\n",
       "      <td>2</td>\n",
       "      <td>[No, Yes]</td>\n",
       "    </tr>\n",
       "    <tr>\n",
       "      <th>12</th>\n",
       "      <td>streaming_movies</td>\n",
       "      <td>2</td>\n",
       "      <td>[No, Yes]</td>\n",
       "    </tr>\n",
       "    <tr>\n",
       "      <th>13</th>\n",
       "      <td>multiple_lines</td>\n",
       "      <td>2</td>\n",
       "      <td>[No, Yes]</td>\n",
       "    </tr>\n",
       "  </tbody>\n",
       "</table>\n",
       "</div>"
      ],
      "text/plain": [
       "              columns  number_unique  \\\n",
       "0   type               3               \n",
       "1   paperless_billing  2               \n",
       "2   payment_method     4               \n",
       "3   gender             2               \n",
       "4   partner            2               \n",
       "5   dependents         2               \n",
       "6   internet_service   3               \n",
       "7   online_security    2               \n",
       "8   online_backup      2               \n",
       "9   device_protection  2               \n",
       "10  tech_support       2               \n",
       "11  streaming_tv       2               \n",
       "12  streaming_movies   2               \n",
       "13  multiple_lines     2               \n",
       "\n",
       "                                                                            unique_value  \n",
       "0   [Month-to-month, One year, Two year]                                                  \n",
       "1   [Yes, No]                                                                             \n",
       "2   [Electronic check, Mailed check, Bank transfer (automatic), Credit card (automatic)]  \n",
       "3   [Female, Male]                                                                        \n",
       "4   [Yes, No]                                                                             \n",
       "5   [No, Yes]                                                                             \n",
       "6   [DSL, Fiber optic, No internet Service]                                               \n",
       "7   [No, Yes]                                                                             \n",
       "8   [Yes, No]                                                                             \n",
       "9   [No, Yes]                                                                             \n",
       "10  [No, Yes]                                                                             \n",
       "11  [No, Yes]                                                                             \n",
       "12  [No, Yes]                                                                             \n",
       "13  [No, Yes]                                                                             "
      ]
     },
     "execution_count": 60,
     "metadata": {},
     "output_type": "execute_result"
    }
   ],
   "source": [
    "# list untuk menampung jumlah unique dan value unique\n",
    "list_item = []\n",
    "\n",
    "#\n",
    "for col in final_df.describe(include='object').columns.drop('customer_id'):\n",
    "    list_item.append([col, final_df[col].nunique(), final_df[col].unique()])\n",
    "\n",
    "\n",
    "# membuat tabel unique\n",
    "unique_table_info = pd.DataFrame(list_item, columns=['columns', 'number_unique', 'unique_value'])\n",
    "# menampilkan tabel unique\n",
    "unique_table_info"
   ]
  },
  {
   "cell_type": "markdown",
   "id": "ae6ee0b8",
   "metadata": {},
   "source": [
    "Untuk setiap variabel kategorik dari dataset ini merupakan data nominal, untuk itu kita akan melakukan transformasi data menggunakan *OneHotEncoder* atau *OHE* dan kita tidak akan menggunakan ke-6 kolom pada saat pengujian hipotesis karena kita hanya akan menggunakan kolom `total_services` sebagai perwakilan dari semua kolom tersebut."
   ]
  },
  {
   "cell_type": "code",
   "execution_count": 61,
   "id": "f1361514",
   "metadata": {},
   "outputs": [
    {
     "data": {
      "image/png": "[encoded data removed]",
      "text/plain": [
       "<Figure size 640x480 with 1 Axes>"
      ]
     },
     "metadata": {},
     "output_type": "display_data"
    }
   ],
   "source": [
    "## memeriksa kelas label / target\n",
    "sns.countplot(data=final_df, x='churn')\n",
    "\n",
    "plt.show()"
   ]
  },
  {
   "cell_type": "markdown",
   "id": "b4b0e80b",
   "metadata": {},
   "source": [
    "### Membagi Features dan Target"
   ]
  },
  {
   "cell_type": "code",
   "execution_count": 62,
   "id": "2be4db67",
   "metadata": {},
   "outputs": [],
   "source": [
    "# features\n",
    "features = final_df.drop(['customer_id','online_backup','tech_support','streaming_movies','online_security','device_protection','streaming_tv','churn'], axis=1)\n",
    "# target\n",
    "target = final_df.churn"
   ]
  },
  {
   "cell_type": "code",
   "execution_count": 63,
   "id": "d22e13a3",
   "metadata": {},
   "outputs": [],
   "source": [
    "# splitting data dengan komposisi 75:25\n",
    "features_train, features_test, target_train, target_test = train_test_split(features, target, test_size = .25, stratify=target, random_state=12345)"
   ]
  },
  {
   "cell_type": "markdown",
   "id": "3b832158",
   "metadata": {},
   "source": [
    "Kita menambahkan parameter `stratify` dengan valuenya adalah `target`, hal ini berguna karena tugas dalam project ini adalah klasifikasi dan dengan menggunakan parameter `stratify` maka proporsi data training dan data testing akan seimbang / sama."
   ]
  },
  {
   "cell_type": "markdown",
   "id": "0b8719f8",
   "metadata": {},
   "source": [
    "## Training Model With Imbalance Class"
   ]
  },
  {
   "cell_type": "code",
   "execution_count": 64,
   "id": "eca08621",
   "metadata": {},
   "outputs": [],
   "source": [
    "numeric_cols = features.describe().columns.to_list()\n",
    "categoric_cols = features.describe(include='object').columns.to_list()\n",
    "\n",
    "\n",
    "# columns transformer\n",
    "preprocessor = ColumnTransformer(transformers=[\n",
    "    ('categoric', OneHotEncoder(), categoric_cols),\n",
    "    ('numeric', MinMaxScaler(), numeric_cols)\n",
    "])"
   ]
  },
  {
   "cell_type": "markdown",
   "id": "8cfd3a79",
   "metadata": {},
   "source": [
    "### Default Parameter "
   ]
  },
  {
   "cell_type": "code",
   "execution_count": 65,
   "id": "84371c65",
   "metadata": {},
   "outputs": [],
   "source": [
    "# inisialisasi model-model yang akan digunakna\n",
    "rf = RandomForestClassifier(random_state=12345)\n",
    "dt = DecisionTreeClassifier(random_state=12345)\n",
    "knn = KNeighborsClassifier()\n",
    "svc = SVC()\n",
    "lgb = LGBMClassifier(verbose=0)\n",
    "\n",
    "models = [rf, dt, knn, svc, lgb]"
   ]
  },
  {
   "cell_type": "code",
   "execution_count": 66,
   "id": "d9314991",
   "metadata": {},
   "outputs": [
    {
     "data": {
      "text/html": [
       "<div>\n",
       "<style scoped>\n",
       "    .dataframe tbody tr th:only-of-type {\n",
       "        vertical-align: middle;\n",
       "    }\n",
       "\n",
       "    .dataframe tbody tr th {\n",
       "        vertical-align: top;\n",
       "    }\n",
       "\n",
       "    .dataframe thead th {\n",
       "        text-align: right;\n",
       "    }\n",
       "</style>\n",
       "<table border=\"1\" class=\"dataframe\">\n",
       "  <thead>\n",
       "    <tr style=\"text-align: right;\">\n",
       "      <th></th>\n",
       "      <th>model_name</th>\n",
       "      <th>accuracy_score</th>\n",
       "      <th>auc_roc_score</th>\n",
       "      <th>f1_score</th>\n",
       "      <th>executed_time(s)</th>\n",
       "    </tr>\n",
       "  </thead>\n",
       "  <tbody>\n",
       "    <tr>\n",
       "      <th>0</th>\n",
       "      <td>RandomForestClassifier</td>\n",
       "      <td>0.781380</td>\n",
       "      <td>0.811284</td>\n",
       "      <td>0.534424</td>\n",
       "      <td>3.707817</td>\n",
       "    </tr>\n",
       "    <tr>\n",
       "      <th>1</th>\n",
       "      <td>DecisionTreeClassifier</td>\n",
       "      <td>0.724495</td>\n",
       "      <td>0.653048</td>\n",
       "      <td>0.489672</td>\n",
       "      <td>0.310185</td>\n",
       "    </tr>\n",
       "    <tr>\n",
       "      <th>2</th>\n",
       "      <td>KNeighborsClassifier</td>\n",
       "      <td>0.754645</td>\n",
       "      <td>0.763516</td>\n",
       "      <td>0.506498</td>\n",
       "      <td>0.538929</td>\n",
       "    </tr>\n",
       "    <tr>\n",
       "      <th>3</th>\n",
       "      <td>SVC</td>\n",
       "      <td>0.785743</td>\n",
       "      <td>0.793401</td>\n",
       "      <td>0.518411</td>\n",
       "      <td>3.836772</td>\n",
       "    </tr>\n",
       "    <tr>\n",
       "      <th>4</th>\n",
       "      <td>LGBMClassifier</td>\n",
       "      <td>0.789533</td>\n",
       "      <td>0.828856</td>\n",
       "      <td>0.561655</td>\n",
       "      <td>4.371679</td>\n",
       "    </tr>\n",
       "  </tbody>\n",
       "</table>\n",
       "</div>"
      ],
      "text/plain": [
       "               model_name  accuracy_score  auc_roc_score  f1_score  \\\n",
       "0  RandomForestClassifier  0.781380        0.811284       0.534424   \n",
       "1  DecisionTreeClassifier  0.724495        0.653048       0.489672   \n",
       "2  KNeighborsClassifier    0.754645        0.763516       0.506498   \n",
       "3  SVC                     0.785743        0.793401       0.518411   \n",
       "4  LGBMClassifier          0.789533        0.828856       0.561655   \n",
       "\n",
       "   executed_time(s)  \n",
       "0  3.707817          \n",
       "1  0.310185          \n",
       "2  0.538929          \n",
       "3  3.836772          \n",
       "4  4.371679          "
      ]
     },
     "execution_count": 66,
     "metadata": {},
     "output_type": "execute_result"
    }
   ],
   "source": [
    "list_result = []\n",
    "for model in models:\n",
    "    start_time = time.time()\n",
    "    model_pipe = Pipeline([\n",
    "        ('prep', preprocessor),\n",
    "        ('algo', model)\n",
    "    ])\n",
    "    # model name\n",
    "    name = model_pipe['algo'].__class__.__name__\n",
    "    # inisialisasi kfold\n",
    "    kfold = KFold(n_splits=5, shuffle=True, random_state=12345)\n",
    "    # score yang akan dihitung\n",
    "    scores = ['accuracy', 'roc_auc', 'f1']\n",
    "    # variabel untuk menyimpan skor\n",
    "    model_scores = []\n",
    "    # kfold cross validation\n",
    "    for score_name in scores:\n",
    "        score = cross_val_score(model_pipe, features_train, target_train, cv=kfold, scoring=score_name)\n",
    "        model_scores.append(score.mean())  # Simpan nilai rata-rata skor dari setiap metric\n",
    "    # waktu eksekusi model\n",
    "    end_time = time.time()\n",
    "    exec_time = end_time - start_time\n",
    "    # \n",
    "    list_result.append([name, *model_scores, exec_time])\n",
    "\n",
    "# membuat dataframe dari list_result\n",
    "columns = ['model_name', 'accuracy_score', 'auc_roc_score', 'f1_score', 'executed_time(s)']\n",
    "default_result = pd.DataFrame(list_result, columns=columns)\n",
    "default_result"
   ]
  },
  {
   "cell_type": "markdown",
   "id": "e5bea6f5",
   "metadata": {},
   "source": [
    "Akurasi yang didapatkan untuk model dengan imbalance class tidak ada yang mencapai angka 80%. Namun kita juga perlu memerhatikan metriks f1_score dalam melatih model yang imbalance class. Dalam konteks imbalance class, fokus pada F1-score membantu kita dalam mengevaluasi bagaimana model menangani kelas minoritas. Jika model hanya memprediksi kelas mayoritas dengan baik, namun performa pada kelas minoritas rendah, nilai F1-score akan rendah. Oleh karena itu, F1-score memberikan gambaran yang lebih lengkap tentang kualitas prediksi model, terutama saat dihadapkan pada ketidakseimbangan kelas."
   ]
  },
  {
   "cell_type": "markdown",
   "id": "77c2eeaf",
   "metadata": {},
   "source": [
    "## Training Model Balanced Class dengan Teknik Resample\n",
    "\n",
    "\n",
    "Dalam menangani ketidak keseimbangan kelas, kita akan menggunakan teknik SMOTE dan RandomUnderSampler dimana perbedaan utamanya adalah:\n",
    "- SMOTE bekerja dengan cara membuat sampel sintetis baru pada kelas minoritas.\n",
    "- Sementara RandomUnderSampler mengurangi jumlah sampel pada kelas mayoritas."
   ]
  },
  {
   "cell_type": "code",
   "execution_count": 67,
   "id": "45f37ed0",
   "metadata": {},
   "outputs": [],
   "source": [
    "# inisialisasi resample\n",
    "smote = SMOTE(random_state=12345)\n",
    "rus = RandomUnderSampler(random_state=12345)"
   ]
  },
  {
   "cell_type": "code",
   "execution_count": 68,
   "id": "11195d55",
   "metadata": {},
   "outputs": [],
   "source": [
    "# fungsi untuk evaluasi data validation menggunakan kfold crossvalidation\n",
    "def evaluate_crosval_model(models, features, target):\n",
    "    list_result = []\n",
    "    for model in models:\n",
    "        # model name\n",
    "        name = model.__class__.__name__\n",
    "        # inisialisasi kfold\n",
    "        kfold = KFold(n_splits=5, shuffle=True, random_state=12345)\n",
    "        # score yang akan dihitung\n",
    "        scores = ['accuracy', 'roc_auc', 'f1']\n",
    "        # variabel untuk menyimpan skor\n",
    "        model_scores = []\n",
    "        # kfold cross validation\n",
    "        for score_name in scores:\n",
    "            score = cross_val_score(model, features, target, cv=kfold, scoring=score_name)\n",
    "            model_scores.append(score.mean())  # Simpan nilai rata-rata skor dari setiap metric\n",
    "        # waktu eksekusi model\n",
    "        end_time = time.time()\n",
    "        exec_time = end_time - start_time\n",
    "        # Masukkan hasil ke list_result\n",
    "        list_result.append([name, *model_scores, exec_time])\n",
    "\n",
    "    # Buat DataFrame dari list_result\n",
    "    columns = ['model_name', 'accuracy_score', 'auc_roc_score', 'f1_score', 'executed_time(s)']\n",
    "    df = pd.DataFrame(list_result, columns=columns)\n",
    "    return df\n",
    "\n",
    "# fungsi untuk evaluasi data test\n",
    "def eval_test_model(models, features, target, features_test, target_test):\n",
    "    list_result = []\n",
    "\n",
    "    for model in models:\n",
    "        name = model.__class__.__name__\n",
    "\n",
    "        model.fit(features, target)\n",
    "\n",
    "        pred_test = model.predict(features_test)\n",
    "        accuracy = accuracy_score(target_test, pred_test)\n",
    "        auc_roc = roc_auc_score(target_test, pred_test)\n",
    "        f1score = f1_score(target_test, pred_test)\n",
    "        #\n",
    "        list_result.append([name, accuracy, auc_roc, f1score])\n",
    "        \n",
    "    # Buat DataFrame dari list_result\n",
    "    columns = ['model_name', 'accuracy_score', 'auc_roc_score', 'f1_score']\n",
    "    df = pd.DataFrame(list_result, columns=columns)\n",
    "    return df"
   ]
  },
  {
   "cell_type": "markdown",
   "id": "78d7fab3",
   "metadata": {},
   "source": [
    "### Resample SMOTE"
   ]
  },
  {
   "cell_type": "code",
   "execution_count": 106,
   "id": "089634b1",
   "metadata": {},
   "outputs": [],
   "source": [
    "# fit dan transformasi data features\n",
    "features_transformed = preprocessor.fit_transform(features)\n",
    "\n",
    "# SMOTE\n",
    "features_up, target_up = smote.fit_resample(features_transformed, target)\n",
    "\n",
    "# splitting data untuk komposisi 75:25 dengan data yang sudah diresample\n",
    "smote_features_train, smote_features_test, smote_target_train, smote_target_test = train_test_split(features_up, target_up, test_size = .25, \n",
    "                                                                                                    stratify=target_up, \n",
    "                                                                                                    random_state=12345)\n"
   ]
  },
  {
   "cell_type": "code",
   "execution_count": 70,
   "id": "d4c03f96",
   "metadata": {},
   "outputs": [
    {
     "data": {
      "text/plain": [
       "((10326, 24), (10326,))"
      ]
     },
     "execution_count": 70,
     "metadata": {},
     "output_type": "execute_result"
    }
   ],
   "source": [
    "features_up.shape, target_up.shape"
   ]
  },
  {
   "cell_type": "code",
   "execution_count": 71,
   "id": "2686dcf2",
   "metadata": {},
   "outputs": [
    {
     "data": {
      "text/html": [
       "<div>\n",
       "<style scoped>\n",
       "    .dataframe tbody tr th:only-of-type {\n",
       "        vertical-align: middle;\n",
       "    }\n",
       "\n",
       "    .dataframe tbody tr th {\n",
       "        vertical-align: top;\n",
       "    }\n",
       "\n",
       "    .dataframe thead th {\n",
       "        text-align: right;\n",
       "    }\n",
       "</style>\n",
       "<table border=\"1\" class=\"dataframe\">\n",
       "  <thead>\n",
       "    <tr style=\"text-align: right;\">\n",
       "      <th></th>\n",
       "      <th>model_name</th>\n",
       "      <th>accuracy_score</th>\n",
       "      <th>auc_roc_score</th>\n",
       "      <th>f1_score</th>\n",
       "      <th>executed_time(s)</th>\n",
       "    </tr>\n",
       "  </thead>\n",
       "  <tbody>\n",
       "    <tr>\n",
       "      <th>0</th>\n",
       "      <td>RandomForestClassifier</td>\n",
       "      <td>0.824895</td>\n",
       "      <td>0.902135</td>\n",
       "      <td>0.826825</td>\n",
       "      <td>10.107906</td>\n",
       "    </tr>\n",
       "    <tr>\n",
       "      <th>1</th>\n",
       "      <td>DecisionTreeClassifier</td>\n",
       "      <td>0.760329</td>\n",
       "      <td>0.761325</td>\n",
       "      <td>0.758326</td>\n",
       "      <td>10.411785</td>\n",
       "    </tr>\n",
       "    <tr>\n",
       "      <th>2</th>\n",
       "      <td>KNeighborsClassifier</td>\n",
       "      <td>0.774148</td>\n",
       "      <td>0.847161</td>\n",
       "      <td>0.788589</td>\n",
       "      <td>10.600974</td>\n",
       "    </tr>\n",
       "    <tr>\n",
       "      <th>3</th>\n",
       "      <td>SVC</td>\n",
       "      <td>0.764204</td>\n",
       "      <td>0.856589</td>\n",
       "      <td>0.776981</td>\n",
       "      <td>20.042866</td>\n",
       "    </tr>\n",
       "    <tr>\n",
       "      <th>4</th>\n",
       "      <td>LGBMClassifier</td>\n",
       "      <td>0.836517</td>\n",
       "      <td>0.915083</td>\n",
       "      <td>0.838399</td>\n",
       "      <td>24.573639</td>\n",
       "    </tr>\n",
       "  </tbody>\n",
       "</table>\n",
       "</div>"
      ],
      "text/plain": [
       "               model_name  accuracy_score  auc_roc_score  f1_score  \\\n",
       "0  RandomForestClassifier  0.824895        0.902135       0.826825   \n",
       "1  DecisionTreeClassifier  0.760329        0.761325       0.758326   \n",
       "2  KNeighborsClassifier    0.774148        0.847161       0.788589   \n",
       "3  SVC                     0.764204        0.856589       0.776981   \n",
       "4  LGBMClassifier          0.836517        0.915083       0.838399   \n",
       "\n",
       "   executed_time(s)  \n",
       "0  10.107906         \n",
       "1  10.411785         \n",
       "2  10.600974         \n",
       "3  20.042866         \n",
       "4  24.573639         "
      ]
     },
     "execution_count": 71,
     "metadata": {},
     "output_type": "execute_result"
    }
   ],
   "source": [
    "# evaluasi model dengan cross validation\n",
    "smote_cv_result = evaluate_crosval_model(models, smote_features_train, smote_target_train)\n",
    "smote_cv_result "
   ]
  },
  {
   "cell_type": "markdown",
   "id": "0d78bad9",
   "metadata": {},
   "source": [
    "#### Evaluasi Model ke Data Test"
   ]
  },
  {
   "cell_type": "code",
   "execution_count": 72,
   "id": "d4d11cab",
   "metadata": {},
   "outputs": [
    {
     "data": {
      "text/html": [
       "<div>\n",
       "<style scoped>\n",
       "    .dataframe tbody tr th:only-of-type {\n",
       "        vertical-align: middle;\n",
       "    }\n",
       "\n",
       "    .dataframe tbody tr th {\n",
       "        vertical-align: top;\n",
       "    }\n",
       "\n",
       "    .dataframe thead th {\n",
       "        text-align: right;\n",
       "    }\n",
       "</style>\n",
       "<table border=\"1\" class=\"dataframe\">\n",
       "  <thead>\n",
       "    <tr style=\"text-align: right;\">\n",
       "      <th></th>\n",
       "      <th>model_name</th>\n",
       "      <th>accuracy_score</th>\n",
       "      <th>auc_roc_score</th>\n",
       "      <th>f1_score</th>\n",
       "    </tr>\n",
       "  </thead>\n",
       "  <tbody>\n",
       "    <tr>\n",
       "      <th>0</th>\n",
       "      <td>RandomForestClassifier</td>\n",
       "      <td>0.828815</td>\n",
       "      <td>0.828815</td>\n",
       "      <td>0.831040</td>\n",
       "    </tr>\n",
       "    <tr>\n",
       "      <th>1</th>\n",
       "      <td>DecisionTreeClassifier</td>\n",
       "      <td>0.749032</td>\n",
       "      <td>0.749032</td>\n",
       "      <td>0.747860</td>\n",
       "    </tr>\n",
       "    <tr>\n",
       "      <th>2</th>\n",
       "      <td>KNeighborsClassifier</td>\n",
       "      <td>0.776917</td>\n",
       "      <td>0.776917</td>\n",
       "      <td>0.788701</td>\n",
       "    </tr>\n",
       "    <tr>\n",
       "      <th>3</th>\n",
       "      <td>SVC</td>\n",
       "      <td>0.768784</td>\n",
       "      <td>0.768784</td>\n",
       "      <td>0.784243</td>\n",
       "    </tr>\n",
       "    <tr>\n",
       "      <th>4</th>\n",
       "      <td>LGBMClassifier</td>\n",
       "      <td>0.841596</td>\n",
       "      <td>0.841596</td>\n",
       "      <td>0.844072</td>\n",
       "    </tr>\n",
       "  </tbody>\n",
       "</table>\n",
       "</div>"
      ],
      "text/plain": [
       "               model_name  accuracy_score  auc_roc_score  f1_score\n",
       "0  RandomForestClassifier  0.828815        0.828815       0.831040\n",
       "1  DecisionTreeClassifier  0.749032        0.749032       0.747860\n",
       "2  KNeighborsClassifier    0.776917        0.776917       0.788701\n",
       "3  SVC                     0.768784        0.768784       0.784243\n",
       "4  LGBMClassifier          0.841596        0.841596       0.844072"
      ]
     },
     "execution_count": 72,
     "metadata": {},
     "output_type": "execute_result"
    }
   ],
   "source": [
    "# evaluasi model untuk data test\n",
    "smote_test_result = eval_test_model(models, smote_features_train, smote_target_train, smote_features_test, smote_target_test)\n",
    "smote_test_result"
   ]
  },
  {
   "cell_type": "markdown",
   "id": "700f0282",
   "metadata": {},
   "source": [
    "### Resample RandomUnderSample (RUS)"
   ]
  },
  {
   "cell_type": "code",
   "execution_count": 73,
   "id": "a97f1913",
   "metadata": {},
   "outputs": [],
   "source": [
    "# ROS\n",
    "features_un, target_un = rus.fit_resample(features_transformed, target)\n",
    "\n",
    "# splitting data untuk komposisi 75:25 dengan data yang sudah diresample\n",
    "rus_features_train, rus_features_test, rus_target_train, rus_target_test = train_test_split(features_un, target_un, test_size = .25, \n",
    "                                                                                            stratify=target_un, \n",
    "                                                                                            random_state=12345)\n"
   ]
  },
  {
   "cell_type": "code",
   "execution_count": 74,
   "id": "0f0b6d80",
   "metadata": {},
   "outputs": [
    {
     "data": {
      "text/plain": [
       "((3738, 24), (3738,))"
      ]
     },
     "execution_count": 74,
     "metadata": {},
     "output_type": "execute_result"
    }
   ],
   "source": [
    "features_un.shape, target_un.shape"
   ]
  },
  {
   "cell_type": "code",
   "execution_count": 75,
   "id": "957fb310",
   "metadata": {},
   "outputs": [
    {
     "data": {
      "text/html": [
       "<div>\n",
       "<style scoped>\n",
       "    .dataframe tbody tr th:only-of-type {\n",
       "        vertical-align: middle;\n",
       "    }\n",
       "\n",
       "    .dataframe tbody tr th {\n",
       "        vertical-align: top;\n",
       "    }\n",
       "\n",
       "    .dataframe thead th {\n",
       "        text-align: right;\n",
       "    }\n",
       "</style>\n",
       "<table border=\"1\" class=\"dataframe\">\n",
       "  <thead>\n",
       "    <tr style=\"text-align: right;\">\n",
       "      <th></th>\n",
       "      <th>model_name</th>\n",
       "      <th>accuracy_score</th>\n",
       "      <th>auc_roc_score</th>\n",
       "      <th>f1_score</th>\n",
       "      <th>executed_time(s)</th>\n",
       "    </tr>\n",
       "  </thead>\n",
       "  <tbody>\n",
       "    <tr>\n",
       "      <th>0</th>\n",
       "      <td>RandomForestClassifier</td>\n",
       "      <td>0.743129</td>\n",
       "      <td>0.817223</td>\n",
       "      <td>0.747129</td>\n",
       "      <td>28.806124</td>\n",
       "    </tr>\n",
       "    <tr>\n",
       "      <th>1</th>\n",
       "      <td>DecisionTreeClassifier</td>\n",
       "      <td>0.681049</td>\n",
       "      <td>0.682803</td>\n",
       "      <td>0.679874</td>\n",
       "      <td>28.911668</td>\n",
       "    </tr>\n",
       "    <tr>\n",
       "      <th>2</th>\n",
       "      <td>KNeighborsClassifier</td>\n",
       "      <td>0.723148</td>\n",
       "      <td>0.786895</td>\n",
       "      <td>0.731524</td>\n",
       "      <td>28.974608</td>\n",
       "    </tr>\n",
       "    <tr>\n",
       "      <th>3</th>\n",
       "      <td>SVC</td>\n",
       "      <td>0.742061</td>\n",
       "      <td>0.816091</td>\n",
       "      <td>0.752890</td>\n",
       "      <td>30.266435</td>\n",
       "    </tr>\n",
       "    <tr>\n",
       "      <th>4</th>\n",
       "      <td>LGBMClassifier</td>\n",
       "      <td>0.734930</td>\n",
       "      <td>0.814861</td>\n",
       "      <td>0.741254</td>\n",
       "      <td>34.442849</td>\n",
       "    </tr>\n",
       "  </tbody>\n",
       "</table>\n",
       "</div>"
      ],
      "text/plain": [
       "               model_name  accuracy_score  auc_roc_score  f1_score  \\\n",
       "0  RandomForestClassifier  0.743129        0.817223       0.747129   \n",
       "1  DecisionTreeClassifier  0.681049        0.682803       0.679874   \n",
       "2  KNeighborsClassifier    0.723148        0.786895       0.731524   \n",
       "3  SVC                     0.742061        0.816091       0.752890   \n",
       "4  LGBMClassifier          0.734930        0.814861       0.741254   \n",
       "\n",
       "   executed_time(s)  \n",
       "0  28.806124         \n",
       "1  28.911668         \n",
       "2  28.974608         \n",
       "3  30.266435         \n",
       "4  34.442849         "
      ]
     },
     "execution_count": 75,
     "metadata": {},
     "output_type": "execute_result"
    }
   ],
   "source": [
    "# evaluasi model dengan cross validation\n",
    "rus_cv_result = evaluate_crosval_model(models, rus_features_train, rus_target_train)\n",
    "rus_cv_result"
   ]
  },
  {
   "cell_type": "markdown",
   "id": "97de9ede",
   "metadata": {},
   "source": [
    "#### Evaluasi Model ke Data Test"
   ]
  },
  {
   "cell_type": "code",
   "execution_count": 76,
   "id": "d82eaf58",
   "metadata": {},
   "outputs": [
    {
     "data": {
      "text/html": [
       "<div>\n",
       "<style scoped>\n",
       "    .dataframe tbody tr th:only-of-type {\n",
       "        vertical-align: middle;\n",
       "    }\n",
       "\n",
       "    .dataframe tbody tr th {\n",
       "        vertical-align: top;\n",
       "    }\n",
       "\n",
       "    .dataframe thead th {\n",
       "        text-align: right;\n",
       "    }\n",
       "</style>\n",
       "<table border=\"1\" class=\"dataframe\">\n",
       "  <thead>\n",
       "    <tr style=\"text-align: right;\">\n",
       "      <th></th>\n",
       "      <th>model_name</th>\n",
       "      <th>accuracy_score</th>\n",
       "      <th>auc_roc_score</th>\n",
       "      <th>f1_score</th>\n",
       "    </tr>\n",
       "  </thead>\n",
       "  <tbody>\n",
       "    <tr>\n",
       "      <th>0</th>\n",
       "      <td>RandomForestClassifier</td>\n",
       "      <td>0.743316</td>\n",
       "      <td>0.743338</td>\n",
       "      <td>0.748428</td>\n",
       "    </tr>\n",
       "    <tr>\n",
       "      <th>1</th>\n",
       "      <td>DecisionTreeClassifier</td>\n",
       "      <td>0.680214</td>\n",
       "      <td>0.680212</td>\n",
       "      <td>0.679528</td>\n",
       "    </tr>\n",
       "    <tr>\n",
       "      <th>2</th>\n",
       "      <td>KNeighborsClassifier</td>\n",
       "      <td>0.714439</td>\n",
       "      <td>0.714483</td>\n",
       "      <td>0.725591</td>\n",
       "    </tr>\n",
       "    <tr>\n",
       "      <th>3</th>\n",
       "      <td>SVC</td>\n",
       "      <td>0.741176</td>\n",
       "      <td>0.741227</td>\n",
       "      <td>0.752556</td>\n",
       "    </tr>\n",
       "    <tr>\n",
       "      <th>4</th>\n",
       "      <td>LGBMClassifier</td>\n",
       "      <td>0.767914</td>\n",
       "      <td>0.767943</td>\n",
       "      <td>0.773723</td>\n",
       "    </tr>\n",
       "  </tbody>\n",
       "</table>\n",
       "</div>"
      ],
      "text/plain": [
       "               model_name  accuracy_score  auc_roc_score  f1_score\n",
       "0  RandomForestClassifier  0.743316        0.743338       0.748428\n",
       "1  DecisionTreeClassifier  0.680214        0.680212       0.679528\n",
       "2  KNeighborsClassifier    0.714439        0.714483       0.725591\n",
       "3  SVC                     0.741176        0.741227       0.752556\n",
       "4  LGBMClassifier          0.767914        0.767943       0.773723"
      ]
     },
     "execution_count": 76,
     "metadata": {},
     "output_type": "execute_result"
    }
   ],
   "source": [
    "# evaluasi model untuk data test\n",
    "rus_test_result = eval_test_model(models, rus_features_train, rus_target_train, rus_features_test, rus_target_test)\n",
    "rus_test_result"
   ]
  },
  {
   "cell_type": "markdown",
   "id": "078b288e",
   "metadata": {},
   "source": [
    "### Kesimpulan\n",
    "\n",
    "Setelah melakukan teknik resample pada data dan melatih model, kita mendapatkan hasil model yang maksimal dengan menggunakan teknik SMOTE dan dengan menggunakan teknik ini model kita tidak mengalami overfitting. Selanjutnya kita akan mencoba tuning parameter untuk dua algoritma dengan metriks evaluasi terbagus. Algoritmanya yaitu :\n",
    "- Random Forest\n",
    "- LightGBM"
   ]
  },
  {
   "cell_type": "markdown",
   "id": "2d5d4b31",
   "metadata": {},
   "source": [
    "## Tuning Parameter\n",
    "\n",
    "Dalam tuning parameter kita akan menggunakan data yang sudah diresample menggunakan SMOTE karena dengan teknik tersebut hasil evaluasi model merupakan yang paling bagus dibandingkan dengan RandomUnderSample (RUS)."
   ]
  },
  {
   "cell_type": "markdown",
   "id": "79cc82e5",
   "metadata": {},
   "source": [
    "### Random Forest"
   ]
  },
  {
   "cell_type": "code",
   "execution_count": 77,
   "id": "1cceff53",
   "metadata": {},
   "outputs": [
    {
     "data": {
      "text/plain": [
       "{'bootstrap': True,\n",
       " 'ccp_alpha': 0.0,\n",
       " 'class_weight': None,\n",
       " 'criterion': 'gini',\n",
       " 'max_depth': None,\n",
       " 'max_features': 'sqrt',\n",
       " 'max_leaf_nodes': None,\n",
       " 'max_samples': None,\n",
       " 'min_impurity_decrease': 0.0,\n",
       " 'min_samples_leaf': 1,\n",
       " 'min_samples_split': 2,\n",
       " 'min_weight_fraction_leaf': 0.0,\n",
       " 'n_estimators': 100,\n",
       " 'n_jobs': None,\n",
       " 'oob_score': False,\n",
       " 'random_state': 12345,\n",
       " 'verbose': 0,\n",
       " 'warm_start': False}"
      ]
     },
     "execution_count": 77,
     "metadata": {},
     "output_type": "execute_result"
    }
   ],
   "source": [
    "# menampilkan parameter default\n",
    "rf.get_params()"
   ]
  },
  {
   "cell_type": "code",
   "execution_count": 78,
   "id": "058bc5dd",
   "metadata": {},
   "outputs": [
    {
     "name": "stdout",
     "output_type": "stream",
     "text": [
      "Parameter Terbaik: {'random_state': 0, 'n_estimators': 29, 'min_samples_split': 0.1, 'min_samples_leaf': 9, 'max_depth': 19, 'criterion': 'entropy', 'bootstrap': True}\n",
      "Akurasi Terbaik: 0.7710498396064478\n"
     ]
    }
   ],
   "source": [
    "# parameter distribusi\n",
    "param_grid = {\n",
    "    'n_estimators': np.arange(1, 150, 14),\n",
    "    'max_depth': np.arange(1, 30),\n",
    "    'min_samples_split': np.linspace(0.1, 1.0, 10),\n",
    "    'min_samples_leaf': np.arange(1, 10),\n",
    "    'criterion': ['gini', 'entropy', 'log_loss'],\n",
    "    'bootstrap': [True, False],\n",
    "    'random_state' : [0, 10, 25, 45, 100, 150, 12345]\n",
    "}\n",
    "\n",
    "# Inisialisasi RandomizedSearchCV\n",
    "scorer = make_scorer(accuracy_score)\n",
    "\n",
    "random_search = RandomizedSearchCV(estimator=rf, param_distributions=param_grid, \n",
    "                                   n_iter=300, \n",
    "                                   cv=5, \n",
    "                                   random_state=12345, n_jobs=-1, \n",
    "                                   scoring=scorer)\n",
    "\n",
    "# Fitting model ke data\n",
    "random_search.fit(smote_features_train, smote_target_train)\n",
    "\n",
    "best_rf = random_search.best_estimator_\n",
    "\n",
    "# Hasil tuning\n",
    "print(\"Parameter Terbaik:\", random_search.best_params_)\n",
    "print(\"Akurasi Terbaik:\", random_search.best_score_)"
   ]
  },
  {
   "cell_type": "markdown",
   "id": "938c77c3",
   "metadata": {},
   "source": [
    "Sepertinya dengan menggunakan randomizedSearchCV kita tidak mendapatkan hasil akurasi yang melebihi dari pada parameter default. Kita akan mencoba menggunakan optuna."
   ]
  },
  {
   "cell_type": "code",
   "execution_count": 79,
   "id": "cf37492a",
   "metadata": {},
   "outputs": [
    {
     "name": "stderr",
     "output_type": "stream",
     "text": [
      "[I 2024-01-06 16:48:38,682] A new study created in memory with name: no-name-29edc98f-4df4-452c-a9ce-2addd5517451\n",
      "[I 2024-01-06 16:48:39,718] Trial 0 finished with value: 0.4997417688831504 and parameters: {'n_estimators': 300, 'max_depth': 5, 'min_samples_split': 0.6992604462065097, 'min_samples_leaf': 10, 'criterion': 'gini', 'bootstrap': True}. Best is trial 0 with value: 0.4997417688831504.\n",
      "[I 2024-01-06 16:48:42,064] Trial 1 finished with value: 0.7532301409761737 and parameters: {'n_estimators': 400, 'max_depth': 10, 'min_samples_split': 0.3707448071270981, 'min_samples_leaf': 2, 'criterion': 'log_loss', 'bootstrap': True}. Best is trial 1 with value: 0.7532301409761737.\n",
      "[I 2024-01-06 16:48:44,262] Trial 2 finished with value: 0.756071016893453 and parameters: {'n_estimators': 300, 'max_depth': 4, 'min_samples_split': 0.41939201983936425, 'min_samples_leaf': 5, 'criterion': 'log_loss', 'bootstrap': False}. Best is trial 2 with value: 0.756071016893453.\n",
      "[I 2024-01-06 16:48:47,525] Trial 3 finished with value: 0.7644648627188 and parameters: {'n_estimators': 400, 'max_depth': 14, 'min_samples_split': 0.13981852905439426, 'min_samples_leaf': 4, 'criterion': 'log_loss', 'bootstrap': True}. Best is trial 3 with value: 0.7644648627188.\n",
      "[I 2024-01-06 16:48:49,390] Trial 4 finished with value: 0.749228059112906 and parameters: {'n_estimators': 400, 'max_depth': 7, 'min_samples_split': 0.8322910605136038, 'min_samples_leaf': 8, 'criterion': 'gini', 'bootstrap': False}. Best is trial 3 with value: 0.7644648627188.\n",
      "[I 2024-01-06 16:48:49,936] Trial 5 finished with value: 0.75013211824583 and parameters: {'n_estimators': 100, 'max_depth': 7, 'min_samples_split': 0.8226677252639615, 'min_samples_leaf': 1, 'criterion': 'entropy', 'bootstrap': False}. Best is trial 3 with value: 0.7644648627188.\n",
      "[I 2024-01-06 16:48:51,370] Trial 6 finished with value: 0.748582481320782 and parameters: {'n_estimators': 300, 'max_depth': 14, 'min_samples_split': 0.5351384031057274, 'min_samples_leaf': 6, 'criterion': 'log_loss', 'bootstrap': True}. Best is trial 3 with value: 0.7644648627188.\n",
      "[I 2024-01-06 16:48:52,380] Trial 7 finished with value: 0.7623990971919868 and parameters: {'n_estimators': 100, 'max_depth': 12, 'min_samples_split': 0.1976698156951357, 'min_samples_leaf': 3, 'criterion': 'entropy', 'bootstrap': False}. Best is trial 3 with value: 0.7644648627188.\n",
      "[I 2024-01-06 16:48:57,595] Trial 8 finished with value: 0.7660142494198974 and parameters: {'n_estimators': 500, 'max_depth': 13, 'min_samples_split': 0.167329106676751, 'min_samples_leaf': 4, 'criterion': 'entropy', 'bootstrap': False}. Best is trial 8 with value: 0.7660142494198974.\n",
      "[I 2024-01-06 16:48:58,658] Trial 9 finished with value: 0.7484531155384069 and parameters: {'n_estimators': 200, 'max_depth': 14, 'min_samples_split': 0.7997518169383112, 'min_samples_leaf': 5, 'criterion': 'entropy', 'bootstrap': False}. Best is trial 8 with value: 0.7660142494198974.\n",
      "[I 2024-01-06 16:49:02,939] Trial 10 finished with value: 0.761107274343871 and parameters: {'n_estimators': 500, 'max_depth': 11, 'min_samples_split': 0.2886513478871789, 'min_samples_leaf': 7, 'criterion': 'entropy', 'bootstrap': False}. Best is trial 8 with value: 0.7660142494198974.\n",
      "[I 2024-01-06 16:49:07,067] Trial 11 finished with value: 0.7648522928020578 and parameters: {'n_estimators': 500, 'max_depth': 15, 'min_samples_split': 0.1243359520834339, 'min_samples_leaf': 4, 'criterion': 'log_loss', 'bootstrap': True}. Best is trial 8 with value: 0.7660142494198974.\n",
      "[I 2024-01-06 16:49:11,460] Trial 12 finished with value: 0.7666600774359719 and parameters: {'n_estimators': 500, 'max_depth': 15, 'min_samples_split': 0.10085641318212935, 'min_samples_leaf': 3, 'criterion': 'log_loss', 'bootstrap': True}. Best is trial 12 with value: 0.7666600774359719.\n",
      "[I 2024-01-06 16:49:14,640] Trial 13 finished with value: 0.7598163689835735 and parameters: {'n_estimators': 500, 'max_depth': 13, 'min_samples_split': 0.27790964495355475, 'min_samples_leaf': 2, 'criterion': 'entropy', 'bootstrap': True}. Best is trial 12 with value: 0.7666600774359719.\n",
      "[I 2024-01-06 16:49:17,124] Trial 14 finished with value: 0.7518106205053524 and parameters: {'n_estimators': 500, 'max_depth': 12, 'min_samples_split': 0.512953666410673, 'min_samples_leaf': 3, 'criterion': 'gini', 'bootstrap': True}. Best is trial 12 with value: 0.7666600774359719.\n",
      "[I 2024-01-06 16:49:18,925] Trial 15 finished with value: 0.7476785890038251 and parameters: {'n_estimators': 400, 'max_depth': 9, 'min_samples_split': 0.9705174769376634, 'min_samples_leaf': 1, 'criterion': 'log_loss', 'bootstrap': False}. Best is trial 12 with value: 0.7666600774359719.\n",
      "[I 2024-01-06 16:49:23,524] Trial 16 finished with value: 0.7638190347027255 and parameters: {'n_estimators': 500, 'max_depth': 15, 'min_samples_split': 0.24145347870365996, 'min_samples_leaf': 4, 'criterion': 'entropy', 'bootstrap': False}. Best is trial 12 with value: 0.7666600774359719.\n",
      "[I 2024-01-06 16:49:25,257] Trial 17 finished with value: 0.7656269861526066 and parameters: {'n_estimators': 200, 'max_depth': 8, 'min_samples_split': 0.1069718273857243, 'min_samples_leaf': 6, 'criterion': 'entropy', 'bootstrap': True}. Best is trial 12 with value: 0.7666600774359719.\n",
      "[I 2024-01-06 16:49:27,545] Trial 18 finished with value: 0.7521970496928084 and parameters: {'n_estimators': 400, 'max_depth': 12, 'min_samples_split': 0.3895869267572834, 'min_samples_leaf': 8, 'criterion': 'log_loss', 'bootstrap': True}. Best is trial 12 with value: 0.7666600774359719.\n",
      "[I 2024-01-06 16:49:31,657] Trial 19 finished with value: 0.7616238199855537 and parameters: {'n_estimators': 500, 'max_depth': 10, 'min_samples_split': 0.31210326142572353, 'min_samples_leaf': 3, 'criterion': 'gini', 'bootstrap': False}. Best is trial 12 with value: 0.7666600774359719.\n",
      "[I 2024-01-06 16:49:33,228] Trial 20 finished with value: 0.7497446047545886 and parameters: {'n_estimators': 300, 'max_depth': 15, 'min_samples_split': 0.6306193071175038, 'min_samples_leaf': 2, 'criterion': 'log_loss', 'bootstrap': True}. Best is trial 12 with value: 0.7666600774359719.\n",
      "[I 2024-01-06 16:49:35,160] Trial 21 finished with value: 0.7666598272120215 and parameters: {'n_estimators': 200, 'max_depth': 8, 'min_samples_split': 0.10143476557650777, 'min_samples_leaf': 6, 'criterion': 'entropy', 'bootstrap': True}. Best is trial 12 with value: 0.7666600774359719.\n",
      "[I 2024-01-06 16:49:36,725] Trial 22 finished with value: 0.7586543289577505 and parameters: {'n_estimators': 200, 'max_depth': 7, 'min_samples_split': 0.2032441855523512, 'min_samples_leaf': 7, 'criterion': 'entropy', 'bootstrap': True}. Best is trial 12 with value: 0.7666600774359719.\n",
      "[I 2024-01-06 16:49:38,483] Trial 23 finished with value: 0.7648525430260082 and parameters: {'n_estimators': 200, 'max_depth': 5, 'min_samples_split': 0.10238238215680599, 'min_samples_leaf': 5, 'criterion': 'entropy', 'bootstrap': True}. Best is trial 12 with value: 0.7666600774359719.\n",
      "[I 2024-01-06 16:49:39,356] Trial 24 finished with value: 0.7582669822824761 and parameters: {'n_estimators': 100, 'max_depth': 9, 'min_samples_split': 0.1710635836326631, 'min_samples_leaf': 4, 'criterion': 'entropy', 'bootstrap': True}. Best is trial 12 with value: 0.7666600774359719.\n",
      "[I 2024-01-06 16:49:40,571] Trial 25 finished with value: 0.7487115134712233 and parameters: {'n_estimators': 200, 'max_depth': 13, 'min_samples_split': 0.44319886661485053, 'min_samples_leaf': 7, 'criterion': 'entropy', 'bootstrap': True}. Best is trial 12 with value: 0.7666600774359719.\n",
      "[I 2024-01-06 16:49:44,465] Trial 26 finished with value: 0.7643354969364247 and parameters: {'n_estimators': 400, 'max_depth': 11, 'min_samples_split': 0.2266506810529778, 'min_samples_leaf': 10, 'criterion': 'entropy', 'bootstrap': False}. Best is trial 12 with value: 0.7666600774359719.\n",
      "[I 2024-01-06 16:49:46,471] Trial 27 finished with value: 0.7540057518145407 and parameters: {'n_estimators': 300, 'max_depth': 3, 'min_samples_split': 0.33203047911486283, 'min_samples_leaf': 6, 'criterion': 'entropy', 'bootstrap': True}. Best is trial 12 with value: 0.7666600774359719.\n",
      "[I 2024-01-06 16:49:51,501] Trial 28 finished with value: 0.7661436152022727 and parameters: {'n_estimators': 500, 'max_depth': 8, 'min_samples_split': 0.17544108059074282, 'min_samples_leaf': 3, 'criterion': 'gini', 'bootstrap': False}. Best is trial 12 with value: 0.7666600774359719.\n",
      "[I 2024-01-06 16:49:53,158] Trial 29 finished with value: 0.4997417688831504 and parameters: {'n_estimators': 400, 'max_depth': 6, 'min_samples_split': 0.6543613433647971, 'min_samples_leaf': 10, 'criterion': 'gini', 'bootstrap': True}. Best is trial 12 with value: 0.7666600774359719.\n",
      "[I 2024-01-06 16:49:54,945] Trial 30 finished with value: 0.7515523893885028 and parameters: {'n_estimators': 300, 'max_depth': 8, 'min_samples_split': 0.4800015100372161, 'min_samples_leaf': 3, 'criterion': 'gini', 'bootstrap': True}. Best is trial 12 with value: 0.7666600774359719.\n",
      "[I 2024-01-06 16:49:59,889] Trial 31 finished with value: 0.7662727307606974 and parameters: {'n_estimators': 500, 'max_depth': 8, 'min_samples_split': 0.17428856335552279, 'min_samples_leaf': 4, 'criterion': 'gini', 'bootstrap': False}. Best is trial 12 with value: 0.7666600774359719.\n",
      "[I 2024-01-06 16:50:04,452] Trial 32 finished with value: 0.7622695645936446 and parameters: {'n_estimators': 500, 'max_depth': 8, 'min_samples_split': 0.24880166622138197, 'min_samples_leaf': 2, 'criterion': 'gini', 'bootstrap': False}. Best is trial 12 with value: 0.7666600774359719.\n",
      "[I 2024-01-06 16:50:08,460] Trial 33 finished with value: 0.7605908121101719 and parameters: {'n_estimators': 500, 'max_depth': 6, 'min_samples_split': 0.3449960345111982, 'min_samples_leaf': 5, 'criterion': 'gini', 'bootstrap': False}. Best is trial 12 with value: 0.7666600774359719.\n",
      "[I 2024-01-06 16:50:12,707] Trial 34 finished with value: 0.76536858821979 and parameters: {'n_estimators': 400, 'max_depth': 10, 'min_samples_split': 0.16101410547683656, 'min_samples_leaf': 3, 'criterion': 'gini', 'bootstrap': False}. Best is trial 12 with value: 0.7666600774359719.\n",
      "[I 2024-01-06 16:50:17,465] Trial 35 finished with value: 0.7642067150099339 and parameters: {'n_estimators': 500, 'max_depth': 6, 'min_samples_split': 0.1993694945496724, 'min_samples_leaf': 2, 'criterion': 'gini', 'bootstrap': False}. Best is trial 12 with value: 0.7666600774359719.\n",
      "[I 2024-01-06 16:50:21,644] Trial 36 finished with value: 0.7652394726613652 and parameters: {'n_estimators': 400, 'max_depth': 9, 'min_samples_split': 0.14697987045009675, 'min_samples_leaf': 5, 'criterion': 'gini', 'bootstrap': False}. Best is trial 12 with value: 0.7666600774359719.\n",
      "[I 2024-01-06 16:50:23,804] Trial 37 finished with value: 0.7580083341257092 and parameters: {'n_estimators': 300, 'max_depth': 7, 'min_samples_split': 0.2590458342059355, 'min_samples_leaf': 4, 'criterion': 'log_loss', 'bootstrap': True}. Best is trial 12 with value: 0.7666600774359719.\n",
      "[I 2024-01-06 16:50:26,745] Trial 38 finished with value: 0.7578790517513174 and parameters: {'n_estimators': 400, 'max_depth': 5, 'min_samples_split': 0.404963290093703, 'min_samples_leaf': 1, 'criterion': 'gini', 'bootstrap': False}. Best is trial 12 with value: 0.7666600774359719.\n",
      "[I 2024-01-06 16:50:28,045] Trial 39 finished with value: 0.770275479887833 and parameters: {'n_estimators': 100, 'max_depth': 10, 'min_samples_split': 0.10746624768780218, 'min_samples_leaf': 6, 'criterion': 'log_loss', 'bootstrap': False}. Best is trial 39 with value: 0.770275479887833.\n",
      "[I 2024-01-06 16:50:28,979] Trial 40 finished with value: 0.7653689218517238 and parameters: {'n_estimators': 100, 'max_depth': 10, 'min_samples_split': 0.11933521498506633, 'min_samples_leaf': 6, 'criterion': 'log_loss', 'bootstrap': True}. Best is trial 39 with value: 0.770275479887833.\n",
      "[I 2024-01-06 16:50:30,045] Trial 41 finished with value: 0.7652397228853156 and parameters: {'n_estimators': 100, 'max_depth': 8, 'min_samples_split': 0.17532652049871997, 'min_samples_leaf': 5, 'criterion': 'log_loss', 'bootstrap': False}. Best is trial 39 with value: 0.770275479887833.\n",
      "[I 2024-01-06 16:50:32,073] Trial 42 finished with value: 0.7635614708497438 and parameters: {'n_estimators': 200, 'max_depth': 9, 'min_samples_split': 0.21815407953572152, 'min_samples_leaf': 8, 'criterion': 'log_loss', 'bootstrap': False}. Best is trial 39 with value: 0.770275479887833.\n",
      "[I 2024-01-06 16:50:33,266] Trial 43 finished with value: 0.7661432815703388 and parameters: {'n_estimators': 100, 'max_depth': 11, 'min_samples_split': 0.14094781876300175, 'min_samples_leaf': 6, 'criterion': 'log_loss', 'bootstrap': False}. Best is trial 39 with value: 0.770275479887833.\n",
      "[I 2024-01-06 16:50:35,086] Trial 44 finished with value: 0.7565880629830364 and parameters: {'n_estimators': 200, 'max_depth': 7, 'min_samples_split': 0.297062394615507, 'min_samples_leaf': 4, 'criterion': 'log_loss', 'bootstrap': False}. Best is trial 39 with value: 0.770275479887833.\n",
      "[I 2024-01-06 16:50:40,923] Trial 45 finished with value: 0.7688553755611272 and parameters: {'n_estimators': 500, 'max_depth': 8, 'min_samples_split': 0.10167021970352914, 'min_samples_leaf': 3, 'criterion': 'gini', 'bootstrap': False}. Best is trial 39 with value: 0.770275479887833.\n",
      "[I 2024-01-06 16:50:42,253] Trial 46 finished with value: 0.7701463643294082 and parameters: {'n_estimators': 100, 'max_depth': 9, 'min_samples_split': 0.10344040169835152, 'min_samples_leaf': 7, 'criterion': 'log_loss', 'bootstrap': False}. Best is trial 39 with value: 0.770275479887833.\n",
      "[I 2024-01-06 16:50:43,546] Trial 47 finished with value: 0.768984491119552 and parameters: {'n_estimators': 100, 'max_depth': 10, 'min_samples_split': 0.10053177820857313, 'min_samples_leaf': 8, 'criterion': 'log_loss', 'bootstrap': False}. Best is trial 39 with value: 0.770275479887833.\n",
      "[I 2024-01-06 16:50:44,148] Trial 48 finished with value: 0.7507774458140035 and parameters: {'n_estimators': 100, 'max_depth': 11, 'min_samples_split': 0.7577469481680598, 'min_samples_leaf': 8, 'criterion': 'log_loss', 'bootstrap': False}. Best is trial 39 with value: 0.770275479887833.\n",
      "[I 2024-01-06 16:50:44,656] Trial 49 finished with value: 0.7470332614356515 and parameters: {'n_estimators': 100, 'max_depth': 14, 'min_samples_split': 0.9363962236114175, 'min_samples_leaf': 9, 'criterion': 'log_loss', 'bootstrap': False}. Best is trial 39 with value: 0.770275479887833.\n",
      "[I 2024-01-06 16:50:45,297] Trial 50 finished with value: 0.7523257482113157 and parameters: {'n_estimators': 100, 'max_depth': 10, 'min_samples_split': 0.5783114352037202, 'min_samples_leaf': 9, 'criterion': 'log_loss', 'bootstrap': False}. Best is trial 39 with value: 0.770275479887833.\n",
      "[I 2024-01-06 16:50:46,568] Trial 51 finished with value: 0.7691135232699933 and parameters: {'n_estimators': 100, 'max_depth': 9, 'min_samples_split': 0.10090981748504939, 'min_samples_leaf': 7, 'criterion': 'log_loss', 'bootstrap': False}. Best is trial 39 with value: 0.770275479887833.\n",
      "[I 2024-01-06 16:50:47,730] Trial 52 finished with value: 0.7670470904793123 and parameters: {'n_estimators': 100, 'max_depth': 9, 'min_samples_split': 0.14842356947660643, 'min_samples_leaf': 7, 'criterion': 'log_loss', 'bootstrap': False}. Best is trial 39 with value: 0.770275479887833.\n",
      "[I 2024-01-06 16:50:48,950] Trial 53 finished with value: 0.7667891929943966 and parameters: {'n_estimators': 100, 'max_depth': 9, 'min_samples_split': 0.1323089671787474, 'min_samples_leaf': 7, 'criterion': 'log_loss', 'bootstrap': False}. Best is trial 39 with value: 0.770275479887833.\n",
      "[I 2024-01-06 16:50:50,132] Trial 54 finished with value: 0.7662724805367471 and parameters: {'n_estimators': 100, 'max_depth': 10, 'min_samples_split': 0.1426212631343867, 'min_samples_leaf': 7, 'criterion': 'log_loss', 'bootstrap': False}. Best is trial 39 with value: 0.770275479887833.\n",
      "[I 2024-01-06 16:50:51,206] Trial 55 finished with value: 0.7609788260493142 and parameters: {'n_estimators': 100, 'max_depth': 9, 'min_samples_split': 0.20930798961527794, 'min_samples_leaf': 8, 'criterion': 'log_loss', 'bootstrap': False}. Best is trial 39 with value: 0.770275479887833.\n",
      "[I 2024-01-06 16:50:52,510] Trial 56 finished with value: 0.7688553755611272 and parameters: {'n_estimators': 100, 'max_depth': 11, 'min_samples_split': 0.10000225038656327, 'min_samples_leaf': 9, 'criterion': 'log_loss', 'bootstrap': False}. Best is trial 39 with value: 0.770275479887833.\n",
      "[I 2024-01-06 16:50:53,781] Trial 57 finished with value: 0.7693716709788594 and parameters: {'n_estimators': 100, 'max_depth': 11, 'min_samples_split': 0.10103832085981478, 'min_samples_leaf': 9, 'criterion': 'log_loss', 'bootstrap': False}. Best is trial 39 with value: 0.770275479887833.\n",
      "[I 2024-01-06 16:50:54,704] Trial 58 finished with value: 0.7560717675653043 and parameters: {'n_estimators': 100, 'max_depth': 12, 'min_samples_split': 0.27458038794007383, 'min_samples_leaf': 9, 'criterion': 'log_loss', 'bootstrap': False}. Best is trial 39 with value: 0.770275479887833.\n",
      "[I 2024-01-06 16:50:56,787] Trial 59 finished with value: 0.7639487341170347 and parameters: {'n_estimators': 200, 'max_depth': 10, 'min_samples_split': 0.18778959837138015, 'min_samples_leaf': 8, 'criterion': 'log_loss', 'bootstrap': False}. Best is trial 39 with value: 0.770275479887833.\n",
      "[I 2024-01-06 16:50:57,807] Trial 60 finished with value: 0.7582670656904597 and parameters: {'n_estimators': 100, 'max_depth': 11, 'min_samples_split': 0.23684228036877514, 'min_samples_leaf': 7, 'criterion': 'log_loss', 'bootstrap': False}. Best is trial 39 with value: 0.770275479887833.\n",
      "[I 2024-01-06 16:50:59,119] Trial 61 finished with value: 0.768984491119552 and parameters: {'n_estimators': 100, 'max_depth': 12, 'min_samples_split': 0.10036128879795292, 'min_samples_leaf': 9, 'criterion': 'log_loss', 'bootstrap': False}. Best is trial 39 with value: 0.770275479887833.\n",
      "[I 2024-01-06 16:51:00,336] Trial 62 finished with value: 0.7691135232699933 and parameters: {'n_estimators': 100, 'max_depth': 13, 'min_samples_split': 0.12753609850988462, 'min_samples_leaf': 9, 'criterion': 'log_loss', 'bootstrap': False}. Best is trial 39 with value: 0.770275479887833.\n",
      "[I 2024-01-06 16:51:01,550] Trial 63 finished with value: 0.7670471738872958 and parameters: {'n_estimators': 100, 'max_depth': 13, 'min_samples_split': 0.13558525570671867, 'min_samples_leaf': 10, 'criterion': 'log_loss', 'bootstrap': False}. Best is trial 39 with value: 0.770275479887833.\n",
      "[I 2024-01-06 16:51:02,811] Trial 64 finished with value: 0.7684677786619025 and parameters: {'n_estimators': 100, 'max_depth': 12, 'min_samples_split': 0.12578027004382614, 'min_samples_leaf': 9, 'criterion': 'log_loss', 'bootstrap': False}. Best is trial 39 with value: 0.770275479887833.\n",
      "[I 2024-01-06 16:51:03,884] Trial 65 finished with value: 0.7629158096496365 and parameters: {'n_estimators': 100, 'max_depth': 12, 'min_samples_split': 0.1941998672822039, 'min_samples_leaf': 9, 'criterion': 'log_loss', 'bootstrap': False}. Best is trial 39 with value: 0.770275479887833.\n",
      "[I 2024-01-06 16:51:05,059] Trial 66 finished with value: 0.7654978705941818 and parameters: {'n_estimators': 100, 'max_depth': 13, 'min_samples_split': 0.15997094788208416, 'min_samples_leaf': 8, 'criterion': 'log_loss', 'bootstrap': False}. Best is trial 39 with value: 0.770275479887833.\n",
      "[I 2024-01-06 16:51:06,332] Trial 67 finished with value: 0.7684678620698859 and parameters: {'n_estimators': 100, 'max_depth': 12, 'min_samples_split': 0.12305082316680008, 'min_samples_leaf': 10, 'criterion': 'log_loss', 'bootstrap': False}. Best is trial 39 with value: 0.770275479887833.\n",
      "[I 2024-01-06 16:51:08,349] Trial 68 finished with value: 0.763819785374577 and parameters: {'n_estimators': 200, 'max_depth': 14, 'min_samples_split': 0.20809861065470459, 'min_samples_leaf': 8, 'criterion': 'log_loss', 'bootstrap': False}. Best is trial 39 with value: 0.770275479887833.\n",
      "[I 2024-01-06 16:51:09,428] Trial 69 finished with value: 0.7654980374101485 and parameters: {'n_estimators': 100, 'max_depth': 11, 'min_samples_split': 0.1730376341602728, 'min_samples_leaf': 9, 'criterion': 'log_loss', 'bootstrap': False}. Best is trial 39 with value: 0.770275479887833.\n",
      "[I 2024-01-06 16:51:10,732] Trial 70 finished with value: 0.7691136066779768 and parameters: {'n_estimators': 100, 'max_depth': 10, 'min_samples_split': 0.10060889275724885, 'min_samples_leaf': 7, 'criterion': 'log_loss', 'bootstrap': False}. Best is trial 39 with value: 0.770275479887833.\n",
      "[I 2024-01-06 16:51:11,971] Trial 71 finished with value: 0.7679512330202198 and parameters: {'n_estimators': 100, 'max_depth': 10, 'min_samples_split': 0.12427842415893871, 'min_samples_leaf': 7, 'criterion': 'log_loss', 'bootstrap': False}. Best is trial 39 with value: 0.770275479887833.\n",
      "[I 2024-01-06 16:51:13,167] Trial 72 finished with value: 0.7664015960951719 and parameters: {'n_estimators': 100, 'max_depth': 10, 'min_samples_split': 0.15520253917448498, 'min_samples_leaf': 8, 'criterion': 'log_loss', 'bootstrap': False}. Best is trial 39 with value: 0.770275479887833.\n",
      "[I 2024-01-06 16:51:14,466] Trial 73 finished with value: 0.770275479887833 and parameters: {'n_estimators': 100, 'max_depth': 11, 'min_samples_split': 0.1022747010101489, 'min_samples_leaf': 6, 'criterion': 'log_loss', 'bootstrap': False}. Best is trial 39 with value: 0.770275479887833.\n",
      "[I 2024-01-06 16:51:15,448] Trial 74 finished with value: 0.7598167860234911 and parameters: {'n_estimators': 100, 'max_depth': 11, 'min_samples_split': 0.2290352353518466, 'min_samples_leaf': 6, 'criterion': 'log_loss', 'bootstrap': False}. Best is trial 39 with value: 0.770275479887833.\n"
     ]
    },
    {
     "name": "stdout",
     "output_type": "stream",
     "text": [
      "Best Parameters: {'n_estimators': 100, 'max_depth': 10, 'min_samples_split': 0.10746624768780218, 'min_samples_leaf': 6, 'criterion': 'log_loss', 'bootstrap': False}\n",
      "Best Score: 0.770275479887833\n"
     ]
    }
   ],
   "source": [
    "# Define objective inside the study\n",
    "def objective(trial):\n",
    "    model = RandomForestClassifier(\n",
    "        n_estimators=trial.suggest_int('n_estimators', 100, 500, step=100),\n",
    "        max_depth=trial.suggest_int('max_depth', 3, 15),\n",
    "        min_samples_split=trial.suggest_float('min_samples_split', 0.1, 1.0),\n",
    "        min_samples_leaf=trial.suggest_int('min_samples_leaf', 1, 10),\n",
    "        criterion=trial.suggest_categorical('criterion', ['gini', 'entropy', 'log_loss']),\n",
    "        bootstrap=trial.suggest_categorical('bootstrap', [True, False]),\n",
    "        random_state=12345\n",
    "    )\n",
    "\n",
    "    cv_scores = cross_val_score(model, smote_features_train, smote_target_train, cv=5)\n",
    "    accuracy = cv_scores.mean()\n",
    "\n",
    "    return accuracy\n",
    "\n",
    "# Optimize hyperparameters using Optuna\n",
    "study = optuna.create_study(direction='maximize')\n",
    "study.optimize(objective, n_trials=75)\n",
    "\n",
    "best_params = study.best_params\n",
    "best_score = study.best_value\n",
    "\n",
    "print(\"Best Parameters:\", best_params)\n",
    "print(\"Best Score:\", best_score)"
   ]
  },
  {
   "cell_type": "markdown",
   "id": "07893853",
   "metadata": {},
   "source": [
    "Yah bung sepertinya kita mengalami kekecewaan, tidak ada satupun hasil yang lebih bagus dari pada menggunakan default parameter. Okelah kita lanjut ke algoritma selanjut"
   ]
  },
  {
   "cell_type": "markdown",
   "id": "ddc750f8",
   "metadata": {},
   "source": [
    "### LightGBM"
   ]
  },
  {
   "cell_type": "code",
   "execution_count": 80,
   "id": "e3db171a",
   "metadata": {},
   "outputs": [
    {
     "data": {
      "text/plain": [
       "{'boosting_type': 'gbdt',\n",
       " 'class_weight': None,\n",
       " 'colsample_bytree': 1.0,\n",
       " 'importance_type': 'split',\n",
       " 'learning_rate': 0.1,\n",
       " 'max_depth': -1,\n",
       " 'min_child_samples': 20,\n",
       " 'min_child_weight': 0.001,\n",
       " 'min_split_gain': 0.0,\n",
       " 'n_estimators': 100,\n",
       " 'n_jobs': None,\n",
       " 'num_leaves': 31,\n",
       " 'objective': None,\n",
       " 'random_state': None,\n",
       " 'reg_alpha': 0.0,\n",
       " 'reg_lambda': 0.0,\n",
       " 'subsample': 1.0,\n",
       " 'subsample_for_bin': 200000,\n",
       " 'subsample_freq': 0,\n",
       " 'verbose': 0}"
      ]
     },
     "execution_count": 80,
     "metadata": {},
     "output_type": "execute_result"
    }
   ],
   "source": [
    "# default parameter lgb\n",
    "lgb.get_params()"
   ]
  },
  {
   "cell_type": "code",
   "execution_count": 81,
   "id": "4b609d2a",
   "metadata": {},
   "outputs": [
    {
     "name": "stdout",
     "output_type": "stream",
     "text": [
      "[LightGBM] [Warning] No further splits with positive gain, best gain: -inf\n",
      "[LightGBM] [Warning] No further splits with positive gain, best gain: -inf\n",
      "[LightGBM] [Warning] No further splits with positive gain, best gain: -inf\n",
      "[LightGBM] [Warning] No further splits with positive gain, best gain: -inf\n",
      "[LightGBM] [Warning] No further splits with positive gain, best gain: -inf\n",
      "[LightGBM] [Warning] No further splits with positive gain, best gain: -inf\n",
      "[LightGBM] [Warning] No further splits with positive gain, best gain: -inf\n",
      "[LightGBM] [Warning] No further splits with positive gain, best gain: -inf\n",
      "[LightGBM] [Warning] No further splits with positive gain, best gain: -inf\n",
      "[LightGBM] [Warning] No further splits with positive gain, best gain: -inf\n",
      "[LightGBM] [Warning] No further splits with positive gain, best gain: -inf\n",
      "[LightGBM] [Warning] No further splits with positive gain, best gain: -inf\n",
      "[LightGBM] [Warning] No further splits with positive gain, best gain: -inf\n",
      "[LightGBM] [Warning] No further splits with positive gain, best gain: -inf\n",
      "[LightGBM] [Warning] No further splits with positive gain, best gain: -inf\n",
      "[LightGBM] [Warning] No further splits with positive gain, best gain: -inf\n",
      "[LightGBM] [Warning] No further splits with positive gain, best gain: -inf\n",
      "[LightGBM] [Warning] No further splits with positive gain, best gain: -inf\n",
      "[LightGBM] [Warning] No further splits with positive gain, best gain: -inf\n",
      "[LightGBM] [Warning] No further splits with positive gain, best gain: -inf\n",
      "[LightGBM] [Warning] No further splits with positive gain, best gain: -inf\n",
      "[LightGBM] [Warning] No further splits with positive gain, best gain: -inf\n",
      "[LightGBM] [Warning] No further splits with positive gain, best gain: -inf\n",
      "[LightGBM] [Warning] No further splits with positive gain, best gain: -inf\n",
      "[LightGBM] [Warning] No further splits with positive gain, best gain: -inf\n",
      "[LightGBM] [Warning] No further splits with positive gain, best gain: -inf\n",
      "[LightGBM] [Warning] No further splits with positive gain, best gain: -inf\n",
      "[LightGBM] [Warning] No further splits with positive gain, best gain: -inf\n",
      "[LightGBM] [Warning] No further splits with positive gain, best gain: -inf\n",
      "[LightGBM] [Warning] No further splits with positive gain, best gain: -inf\n",
      "[LightGBM] [Warning] No further splits with positive gain, best gain: -inf\n",
      "[LightGBM] [Warning] No further splits with positive gain, best gain: -inf\n",
      "[LightGBM] [Warning] No further splits with positive gain, best gain: -inf\n",
      "[LightGBM] [Warning] No further splits with positive gain, best gain: -inf\n",
      "[LightGBM] [Warning] No further splits with positive gain, best gain: -inf\n",
      "[LightGBM] [Warning] No further splits with positive gain, best gain: -inf\n",
      "[LightGBM] [Warning] No further splits with positive gain, best gain: -inf\n",
      "[LightGBM] [Warning] No further splits with positive gain, best gain: -inf\n",
      "[LightGBM] [Warning] No further splits with positive gain, best gain: -inf\n",
      "[LightGBM] [Warning] No further splits with positive gain, best gain: -inf\n",
      "[LightGBM] [Warning] No further splits with positive gain, best gain: -inf\n",
      "[LightGBM] [Warning] No further splits with positive gain, best gain: -inf\n",
      "[LightGBM] [Warning] No further splits with positive gain, best gain: -inf\n",
      "[LightGBM] [Warning] No further splits with positive gain, best gain: -inf\n",
      "[LightGBM] [Warning] No further splits with positive gain, best gain: -inf\n",
      "[LightGBM] [Warning] No further splits with positive gain, best gain: -inf\n",
      "[LightGBM] [Warning] No further splits with positive gain, best gain: -inf\n",
      "[LightGBM] [Warning] No further splits with positive gain, best gain: -inf\n",
      "[LightGBM] [Warning] No further splits with positive gain, best gain: -inf\n",
      "Parameter Terbaik: {'colsample_bytree': 0.6111111111111112, 'learning_rate': 0.2822222222222222, 'max_depth': 30, 'min_child_samples': 2, 'n_estimators': 97, 'num_leaves': 10, 'reg_alpha': 0.5555555555555556, 'reg_lambda': 0.2222222222222222, 'subsample': 0.5555555555555556}\n",
      "Akurasi Terbaik: 0.8394890093300171\n"
     ]
    }
   ],
   "source": [
    "# parameter distribusi\n",
    "param_dist = {\n",
    "    'n_estimators': np.arange(1, 175, 24),\n",
    "    'num_leaves' : np.arange(1, 30),\n",
    "    'max_depth': np.arange(1, 75),\n",
    "    'learning_rate': np.linspace(0.01, 0.5, 10),\n",
    "    'subsample': np.linspace(0.5, 1.0, 10),\n",
    "    'colsample_bytree': np.linspace(0.5, 1.0, 10),\n",
    "    'reg_alpha': np.linspace(0.0, 1.0, 10),\n",
    "    'reg_lambda': np.linspace(0.0, 1.0, 10),\n",
    "    'min_child_samples' : randint(1, 50)\n",
    "}\n",
    "\n",
    "# inisialisasi randomized\n",
    "scorer = make_scorer(accuracy_score)\n",
    "lgb_search = RandomizedSearchCV(lgb, param_distributions=param_dist, n_iter=10, scoring=scorer, cv=5, n_jobs=-1, random_state=12345)\n",
    "\n",
    "# fit model ke data\n",
    "lgb_search.fit(smote_features_train, smote_target_train)\n",
    "best_lgbm = lgb_search.best_estimator_\n",
    "# Hasil tuning\n",
    "print(\"Parameter Terbaik:\", lgb_search.best_params_)\n",
    "print(\"Akurasi Terbaik:\", lgb_search.best_score_)"
   ]
  },
  {
   "cell_type": "code",
   "execution_count": 82,
   "id": "19c78e55",
   "metadata": {},
   "outputs": [
    {
     "data": {
      "text/plain": [
       "{'boosting_type': 'gbdt',\n",
       " 'class_weight': None,\n",
       " 'colsample_bytree': 0.6111111111111112,\n",
       " 'importance_type': 'split',\n",
       " 'learning_rate': 0.2822222222222222,\n",
       " 'max_depth': 30,\n",
       " 'min_child_samples': 2,\n",
       " 'min_child_weight': 0.001,\n",
       " 'min_split_gain': 0.0,\n",
       " 'n_estimators': 97,\n",
       " 'n_jobs': None,\n",
       " 'num_leaves': 10,\n",
       " 'objective': None,\n",
       " 'random_state': None,\n",
       " 'reg_alpha': 0.5555555555555556,\n",
       " 'reg_lambda': 0.2222222222222222,\n",
       " 'subsample': 0.5555555555555556,\n",
       " 'subsample_for_bin': 200000,\n",
       " 'subsample_freq': 0,\n",
       " 'verbose': 0}"
      ]
     },
     "execution_count": 82,
     "metadata": {},
     "output_type": "execute_result"
    }
   ],
   "source": [
    "best_lgbm.get_params()"
   ]
  },
  {
   "cell_type": "code",
   "execution_count": 83,
   "metadata": {},
   "outputs": [
    {
     "data": {
      "text/html": [
       "<div>\n",
       "<style scoped>\n",
       "    .dataframe tbody tr th:only-of-type {\n",
       "        vertical-align: middle;\n",
       "    }\n",
       "\n",
       "    .dataframe tbody tr th {\n",
       "        vertical-align: top;\n",
       "    }\n",
       "\n",
       "    .dataframe thead th {\n",
       "        text-align: right;\n",
       "    }\n",
       "</style>\n",
       "<table border=\"1\" class=\"dataframe\">\n",
       "  <thead>\n",
       "    <tr style=\"text-align: right;\">\n",
       "      <th></th>\n",
       "      <th>model_name</th>\n",
       "      <th>accuracy_score</th>\n",
       "      <th>roc_acu</th>\n",
       "      <th>f1_score</th>\n",
       "    </tr>\n",
       "  </thead>\n",
       "  <tbody>\n",
       "    <tr>\n",
       "      <th>0</th>\n",
       "      <td>LGBMClassifier</td>\n",
       "      <td>0.837723</td>\n",
       "      <td>0.837723</td>\n",
       "      <td>0.839032</td>\n",
       "    </tr>\n",
       "  </tbody>\n",
       "</table>\n",
       "</div>"
      ],
      "text/plain": [
       "       model_name  accuracy_score   roc_acu  f1_score\n",
       "0  LGBMClassifier  0.837723        0.837723  0.839032"
      ]
     },
     "execution_count": 83,
     "metadata": {},
     "output_type": "execute_result"
    }
   ],
   "source": [
    "# predict ke data test menggunakan parameter yang telah dituning\n",
    "best_lgbm.fit(smote_features_train, smote_target_train)\n",
    "\n",
    "pred_test = best_lgbm.predict(smote_features_test)\n",
    "accuracy = accuracy_score(smote_target_test, pred_test)\n",
    "roc_auc = roc_auc_score(smote_target_test, pred_test)\n",
    "f1score = f1_score(smote_target_test, pred_test)\n",
    "\n",
    "final_result = pd.DataFrame({\n",
    "    'model_name' : [best_lgbm.__class__.__name__],\n",
    "    'accuracy_score' : [accuracy],\n",
    "    'roc_acu' : [roc_auc],\n",
    "    'f1_score' : [f1score]\n",
    "})\n",
    "final_result"
   ]
  },
  {
   "cell_type": "markdown",
   "id": "ab4fa8a5",
   "metadata": {},
   "source": [
    "## Kesimpulan\n",
    "\n",
    "Setelah melakukan evaluasi terhadap beberapa algoritma machine learning serta tuning beberapa parameter, kita mendapatkan algoritma terbaik yaitu menggunakan LightGBM yang merupakan termasuk ke dalam kategori Gradient Boosting. Nilai akurasi menggunakan algoritma ini adalah 83% dan dapat dilihat tidak terjadinya overfitting. Untuk itu kita akan menggunakan algoritma ini."
   ]
  },
  {
   "cell_type": "markdown",
   "id": "07984919",
   "metadata": {},
   "source": [
    "# Testing Pada Data Baru "
   ]
  },
  {
   "cell_type": "code",
   "execution_count": 84,
   "id": "dff1e10f",
   "metadata": {},
   "outputs": [
    {
     "data": {
      "text/html": [
       "<div>\n",
       "<style scoped>\n",
       "    .dataframe tbody tr th:only-of-type {\n",
       "        vertical-align: middle;\n",
       "    }\n",
       "\n",
       "    .dataframe tbody tr th {\n",
       "        vertical-align: top;\n",
       "    }\n",
       "\n",
       "    .dataframe thead th {\n",
       "        text-align: right;\n",
       "    }\n",
       "</style>\n",
       "<table border=\"1\" class=\"dataframe\">\n",
       "  <thead>\n",
       "    <tr style=\"text-align: right;\">\n",
       "      <th></th>\n",
       "      <th>customer_id</th>\n",
       "      <th>type</th>\n",
       "      <th>paperless_billing</th>\n",
       "      <th>payment_method</th>\n",
       "      <th>monthly_charges</th>\n",
       "      <th>total_charges</th>\n",
       "      <th>gender</th>\n",
       "      <th>senior_citizen</th>\n",
       "      <th>partner</th>\n",
       "      <th>dependents</th>\n",
       "      <th>internet_service</th>\n",
       "      <th>online_security</th>\n",
       "      <th>online_backup</th>\n",
       "      <th>device_protection</th>\n",
       "      <th>tech_support</th>\n",
       "      <th>streaming_tv</th>\n",
       "      <th>streaming_movies</th>\n",
       "      <th>multiple_lines</th>\n",
       "      <th>churn</th>\n",
       "      <th>total_services</th>\n",
       "    </tr>\n",
       "  </thead>\n",
       "  <tbody>\n",
       "    <tr>\n",
       "      <th>1</th>\n",
       "      <td>5575-GNVDE</td>\n",
       "      <td>One year</td>\n",
       "      <td>No</td>\n",
       "      <td>Mailed check</td>\n",
       "      <td>56.95</td>\n",
       "      <td>1889.5</td>\n",
       "      <td>Male</td>\n",
       "      <td>0</td>\n",
       "      <td>No</td>\n",
       "      <td>No</td>\n",
       "      <td>DSL</td>\n",
       "      <td>Yes</td>\n",
       "      <td>No</td>\n",
       "      <td>Yes</td>\n",
       "      <td>No</td>\n",
       "      <td>No</td>\n",
       "      <td>No</td>\n",
       "      <td>No</td>\n",
       "      <td>0</td>\n",
       "      <td>2</td>\n",
       "    </tr>\n",
       "  </tbody>\n",
       "</table>\n",
       "</div>"
      ],
      "text/plain": [
       "  customer_id      type paperless_billing payment_method  monthly_charges  \\\n",
       "1  5575-GNVDE  One year  No                Mailed check   56.95             \n",
       "\n",
       "   total_charges gender  senior_citizen partner dependents internet_service  \\\n",
       "1  1889.5         Male   0               No      No         DSL               \n",
       "\n",
       "  online_security online_backup device_protection tech_support streaming_tv  \\\n",
       "1  Yes             No            Yes               No           No            \n",
       "\n",
       "  streaming_movies multiple_lines  churn  total_services  \n",
       "1  No               No             0      2               "
      ]
     },
     "execution_count": 84,
     "metadata": {},
     "output_type": "execute_result"
    }
   ],
   "source": [
    "# uji coba dengan data yang berasal dari dataset\n",
    "final_df.iloc[[1]]"
   ]
  },
  {
   "cell_type": "code",
   "execution_count": 107,
   "id": "4ebe1381",
   "metadata": {},
   "outputs": [
    {
     "name": "stdout",
     "output_type": "stream",
     "text": [
      "Pelanggan tidak akan berhenti menggunakan layanan perusahaan !\n"
     ]
    }
   ],
   "source": [
    "data_input_new = final_df.iloc[[1]].drop(['customer_id','churn','online_backup','tech_support','streaming_movies','online_security','device_protection','streaming_tv'], axis=1)\n",
    "len(data_input_new.columns)\n",
    "# transformasi data baru sesuai dengan preprocessor yang sudah ada\n",
    "new_data_transformed = preprocessor.transform(data_input_new)\n",
    "\n",
    "# lakukan prediksi menggunakan model yang sudah dilatih\n",
    "predictions = best_lgbm.predict(new_data_transformed)\n",
    "if predictions[0] == 0:\n",
    "    print('Pelanggan tidak akan berhenti menggunakan layanan perusahaan !')\n",
    "else:\n",
    "    print('Pelanggan menujukkan sikap untuk meninggalkan perusahaan !')"
   ]
  },
  {
   "cell_type": "markdown",
   "id": "c128e19b",
   "metadata": {},
   "source": [
    "## Menyimpan Model"
   ]
  },
  {
   "cell_type": "code",
   "execution_count": 86,
   "id": "71e78d09",
   "metadata": {},
   "outputs": [],
   "source": [
    "import pickle"
   ]
  },
  {
   "cell_type": "code",
   "execution_count": 87,
   "id": "c8b8231a",
   "metadata": {},
   "outputs": [],
   "source": [
    "filename = 'stream_data/telcom_model.sav'\n",
    "pickle.dump(best_lgbm, open(filename, 'wb'))"
   ]
  },
  {
   "cell_type": "code",
   "execution_count": 88,
   "id": "4b35c199",
   "metadata": {},
   "outputs": [],
   "source": [
    "final_df.to_pickle('stream_data/used_data.pickle')"
   ]
  },
  {
   "cell_type": "code",
   "execution_count": 89,
   "id": "088b13dd",
   "metadata": {},
   "outputs": [
    {
     "data": {
      "text/html": [
       "<div>\n",
       "<style scoped>\n",
       "    .dataframe tbody tr th:only-of-type {\n",
       "        vertical-align: middle;\n",
       "    }\n",
       "\n",
       "    .dataframe tbody tr th {\n",
       "        vertical-align: top;\n",
       "    }\n",
       "\n",
       "    .dataframe thead th {\n",
       "        text-align: right;\n",
       "    }\n",
       "</style>\n",
       "<table border=\"1\" class=\"dataframe\">\n",
       "  <thead>\n",
       "    <tr style=\"text-align: right;\">\n",
       "      <th></th>\n",
       "      <th>columns</th>\n",
       "      <th>number_unique</th>\n",
       "      <th>unique_value</th>\n",
       "    </tr>\n",
       "  </thead>\n",
       "  <tbody>\n",
       "    <tr>\n",
       "      <th>0</th>\n",
       "      <td>type</td>\n",
       "      <td>object</td>\n",
       "      <td>[Month-to-month, One year, Two year]</td>\n",
       "    </tr>\n",
       "    <tr>\n",
       "      <th>1</th>\n",
       "      <td>paperless_billing</td>\n",
       "      <td>object</td>\n",
       "      <td>[Yes, No]</td>\n",
       "    </tr>\n",
       "    <tr>\n",
       "      <th>2</th>\n",
       "      <td>payment_method</td>\n",
       "      <td>object</td>\n",
       "      <td>[Electronic check, Mailed check, Bank transfer (automatic), Credit card (automatic)]</td>\n",
       "    </tr>\n",
       "    <tr>\n",
       "      <th>3</th>\n",
       "      <td>monthly_charges</td>\n",
       "      <td>float64</td>\n",
       "      <td>[29.85, 56.95, 53.85, 42.3, 70.7, 99.65, 89.1, 29.75, 104.8, 56.15, 49.95, 18.95, 100.35, 103.7, 105.5, 113.25, 20.65, 106.7, 55.2, 90.05, 39.65, 19.8, 20.15, 59.9, 59.6, 55.3, 99.35, 30.2, 90.25, 64.7, 96.35, 95.5, 66.15, 20.2, 45.25, 99.9, 69.7, 74.8, 106.35, 97.85, 49.55, 69.2, 20.75, 79.85, 76.2, 84.5, 49.25, 80.65, 79.75, 64.15, 99.1, 69.5, 74.85, 95.45, 108.45, 24.95, 107.5, 100.5, 89.9, 42.1, 54.4, 94.4, 75.3, 78.9, 79.2, 49.05, 20.4, 111.6, 24.25, 64.5, 110.5, 55.65, 54.65, 74.75, 25.9, 79.35, 50.55, 75.15, 103.8, 99.3, 62.15, 19.95, 33.75, 82.05, 74.7, 84.0, 111.05, 100.9, 78.95, 66.85, 21.05, 21.0, 98.5, 19.45, 95.0, 45.55, 110.0, 24.3, 104.15, 30.15, ...]</td>\n",
       "    </tr>\n",
       "    <tr>\n",
       "      <th>4</th>\n",
       "      <td>total_charges</td>\n",
       "      <td>float64</td>\n",
       "      <td>[29.85, 1889.5, 108.15, 1840.75, 151.65, 820.5, 1949.4, 301.9, 3046.05, 3487.95, 587.45, 326.8, 5681.1, 5036.3, 2686.05, 7895.15, 1022.95, 7382.25, 528.35, 1862.9, 39.65, 202.25, 20.15, 3505.1, 2970.3, 1530.6, 4749.15, 30.2, 6369.45, 1093.1, 6766.95, 181.65, 1874.45, 20.2, 45.25, 7251.7, 316.9, 3548.3, 3549.25, 1105.4, 475.7, 4872.35, 418.25, 4861.45, 981.45, 3906.7, 97.0, 144.15, 4217.8, 4254.1, 3838.75, 1426.4, 1752.65, 633.3, 4456.35, 1752.55, 6311.2, 7076.35, 894.3, 7853.7, 4707.1, 5450.7, 2962.0, 957.1, 857.25, 244.1, 3650.35, 2497.2, 930.9, 887.35, 49.05, 1090.65, 7099.0, 1424.6, 177.4, 6139.5, 2688.85, 482.25, 2111.3, 1216.6, 79.35, 565.35, 496.9, 4327.5, 973.35, 918.75, 2215.45, 1057.0, 927.1, 1009.25, 2570.2, 74.7, 5714.25, 7107.0, 7459.05, 927.35, 4748.7, 113.85, 1107.2, 2514.5, ...]</td>\n",
       "    </tr>\n",
       "    <tr>\n",
       "      <th>5</th>\n",
       "      <td>gender</td>\n",
       "      <td>object</td>\n",
       "      <td>[Female, Male]</td>\n",
       "    </tr>\n",
       "    <tr>\n",
       "      <th>6</th>\n",
       "      <td>senior_citizen</td>\n",
       "      <td>int64</td>\n",
       "      <td>[0, 1]</td>\n",
       "    </tr>\n",
       "    <tr>\n",
       "      <th>7</th>\n",
       "      <td>partner</td>\n",
       "      <td>object</td>\n",
       "      <td>[Yes, No]</td>\n",
       "    </tr>\n",
       "    <tr>\n",
       "      <th>8</th>\n",
       "      <td>dependents</td>\n",
       "      <td>object</td>\n",
       "      <td>[No, Yes]</td>\n",
       "    </tr>\n",
       "    <tr>\n",
       "      <th>9</th>\n",
       "      <td>internet_service</td>\n",
       "      <td>object</td>\n",
       "      <td>[DSL, Fiber optic, No internet Service]</td>\n",
       "    </tr>\n",
       "    <tr>\n",
       "      <th>10</th>\n",
       "      <td>multiple_lines</td>\n",
       "      <td>object</td>\n",
       "      <td>[No, Yes]</td>\n",
       "    </tr>\n",
       "    <tr>\n",
       "      <th>11</th>\n",
       "      <td>total_services</td>\n",
       "      <td>int64</td>\n",
       "      <td>[1, 2, 3, 0, 4, 5, 6]</td>\n",
       "    </tr>\n",
       "  </tbody>\n",
       "</table>\n",
       "</div>"
      ],
      "text/plain": [
       "              columns number_unique  \\\n",
       "0   type               object         \n",
       "1   paperless_billing  object         \n",
       "2   payment_method     object         \n",
       "3   monthly_charges    float64        \n",
       "4   total_charges      float64        \n",
       "5   gender             object         \n",
       "6   senior_citizen     int64          \n",
       "7   partner            object         \n",
       "8   dependents         object         \n",
       "9   internet_service   object         \n",
       "10  multiple_lines     object         \n",
       "11  total_services     int64          \n",
       "\n",
       "                                                                                                                                                                                                                                                                                                                                                                                                                                                                                                                                                                                                                                                                                                                                                                                                                            unique_value  \n",
       "0   [Month-to-month, One year, Two year]                                                                                                                                                                                                                                                                                                                                                                                                                                                                                                                                                                                                                                                                                                                                                                                                  \n",
       "1   [Yes, No]                                                                                                                                                                                                                                                                                                                                                                                                                                                                                                                                                                                                                                                                                                                                                                                                                             \n",
       "2   [Electronic check, Mailed check, Bank transfer (automatic), Credit card (automatic)]                                                                                                                                                                                                                                                                                                                                                                                                                                                                                                                                                                                                                                                                                                                                                  \n",
       "3   [29.85, 56.95, 53.85, 42.3, 70.7, 99.65, 89.1, 29.75, 104.8, 56.15, 49.95, 18.95, 100.35, 103.7, 105.5, 113.25, 20.65, 106.7, 55.2, 90.05, 39.65, 19.8, 20.15, 59.9, 59.6, 55.3, 99.35, 30.2, 90.25, 64.7, 96.35, 95.5, 66.15, 20.2, 45.25, 99.9, 69.7, 74.8, 106.35, 97.85, 49.55, 69.2, 20.75, 79.85, 76.2, 84.5, 49.25, 80.65, 79.75, 64.15, 99.1, 69.5, 74.85, 95.45, 108.45, 24.95, 107.5, 100.5, 89.9, 42.1, 54.4, 94.4, 75.3, 78.9, 79.2, 49.05, 20.4, 111.6, 24.25, 64.5, 110.5, 55.65, 54.65, 74.75, 25.9, 79.35, 50.55, 75.15, 103.8, 99.3, 62.15, 19.95, 33.75, 82.05, 74.7, 84.0, 111.05, 100.9, 78.95, 66.85, 21.05, 21.0, 98.5, 19.45, 95.0, 45.55, 110.0, 24.3, 104.15, 30.15, ...]                                                                                                                                    \n",
       "4   [29.85, 1889.5, 108.15, 1840.75, 151.65, 820.5, 1949.4, 301.9, 3046.05, 3487.95, 587.45, 326.8, 5681.1, 5036.3, 2686.05, 7895.15, 1022.95, 7382.25, 528.35, 1862.9, 39.65, 202.25, 20.15, 3505.1, 2970.3, 1530.6, 4749.15, 30.2, 6369.45, 1093.1, 6766.95, 181.65, 1874.45, 20.2, 45.25, 7251.7, 316.9, 3548.3, 3549.25, 1105.4, 475.7, 4872.35, 418.25, 4861.45, 981.45, 3906.7, 97.0, 144.15, 4217.8, 4254.1, 3838.75, 1426.4, 1752.65, 633.3, 4456.35, 1752.55, 6311.2, 7076.35, 894.3, 7853.7, 4707.1, 5450.7, 2962.0, 957.1, 857.25, 244.1, 3650.35, 2497.2, 930.9, 887.35, 49.05, 1090.65, 7099.0, 1424.6, 177.4, 6139.5, 2688.85, 482.25, 2111.3, 1216.6, 79.35, 565.35, 496.9, 4327.5, 973.35, 918.75, 2215.45, 1057.0, 927.1, 1009.25, 2570.2, 74.7, 5714.25, 7107.0, 7459.05, 927.35, 4748.7, 113.85, 1107.2, 2514.5, ...]  \n",
       "5   [Female, Male]                                                                                                                                                                                                                                                                                                                                                                                                                                                                                                                                                                                                                                                                                                                                                                                                                        \n",
       "6   [0, 1]                                                                                                                                                                                                                                                                                                                                                                                                                                                                                                                                                                                                                                                                                                                                                                                                                                \n",
       "7   [Yes, No]                                                                                                                                                                                                                                                                                                                                                                                                                                                                                                                                                                                                                                                                                                                                                                                                                             \n",
       "8   [No, Yes]                                                                                                                                                                                                                                                                                                                                                                                                                                                                                                                                                                                                                                                                                                                                                                                                                             \n",
       "9   [DSL, Fiber optic, No internet Service]                                                                                                                                                                                                                                                                                                                                                                                                                                                                                                                                                                                                                                                                                                                                                                                               \n",
       "10  [No, Yes]                                                                                                                                                                                                                                                                                                                                                                                                                                                                                                                                                                                                                                                                                                                                                                                                                             \n",
       "11  [1, 2, 3, 0, 4, 5, 6]                                                                                                                                                                                                                                                                                                                                                                                                                                                                                                                                                                                                                                                                                                                                                                                                                 "
      ]
     },
     "execution_count": 89,
     "metadata": {},
     "output_type": "execute_result"
    }
   ],
   "source": [
    "# list untuk menampung jumlah unique dan value unique\n",
    "list_item = []\n",
    "\n",
    "#\n",
    "for col in features.describe(include='all').columns:\n",
    "    list_item.append([col, final_df[col].dtype, final_df[col].unique()])\n",
    "\n",
    "\n",
    "# membuat tabel unique\n",
    "unique_table_info = pd.DataFrame(list_item, columns=['columns', 'number_unique', 'unique_value'])\n",
    "# menampilkan tabel unique\n",
    "unique_table_info"
   ]
  },
  {
   "cell_type": "code",
   "execution_count": null,
   "id": "36d0e62c",
   "metadata": {},
   "outputs": [],
   "source": []
  }
 ],
 "metadata": {
  "kernelspec": {
   "display_name": "Python 3 (ipykernel)",
   "language": "python",
   "name": "python3"
  },
  "language_info": {
   "codemirror_mode": {
    "name": "ipython",
    "version": 3
   },
   "file_extension": ".py",
   "mimetype": "text/x-python",
   "name": "python",
   "nbconvert_exporter": "python",
   "pygments_lexer": "ipython3",
   "version": "3.10.12"
  },
  "toc": {
   "base_numbering": 1,
   "nav_menu": {},
   "number_sections": true,
   "sideBar": true,
   "skip_h1_title": false,
   "title_cell": "Table of Contents",
   "title_sidebar": "Contents",
   "toc_cell": false,
   "toc_position": {
    "height": "calc(100% - 180px)",
    "left": "10px",
    "top": "150px",
    "width": "337.305px"
   },
   "toc_section_display": true,
   "toc_window_display": true
  }
 },
 "nbformat": 4,
 "nbformat_minor": 5
}
